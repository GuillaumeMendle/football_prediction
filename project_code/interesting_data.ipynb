{
 "cells": [
  {
   "cell_type": "code",
   "execution_count": 1,
   "metadata": {},
   "outputs": [],
   "source": [
    "import pandas as pd\n",
    "import numpy as np\n",
    "import os\n",
    "from matplotlib import pyplot as plt\n",
    "import statsmodels.api as sm\n",
    "from scipy.stats import poisson\n",
    "from scipy import stats\n",
    "from sklearn.preprocessing import StandardScaler\n",
    "import numpy as np, scipy.stats as st\n",
    "import json\n",
    "from project_code.utils import GoalkeeperPreprocessing"
   ]
  },
  {
   "cell_type": "code",
   "execution_count": 2,
   "metadata": {},
   "outputs": [],
   "source": [
    "## Get the current working directory\n",
    "current_directory = os.getcwd()\n",
    "## Use a global variable for the path to the data\n",
    "FILES_PATH = f\"{current_directory}/data/\"\n",
    "\n",
    "## Dictionnary to decode the position on the field\n",
    "POSITION_ENCODING = {1 : \"Goalkeeper\", 2 : \"Defender\", 3 : \"Midfielder\", 4 : \"Forward\"}"
   ]
  },
  {
   "cell_type": "code",
   "execution_count": 3,
   "metadata": {},
   "outputs": [],
   "source": [
    "fixtures_data = pd.read_csv(f\"{FILES_PATH}fixtures.csv\", delimiter=\",\")\n",
    "odds_data = pd.read_csv(f\"{FILES_PATH}odds.csv\", delimiter=\",\")\n",
    "players_data = pd.read_csv(f\"{FILES_PATH}players.csv\", delimiter=\",\")\n",
    "results_data = pd.read_csv(f\"{FILES_PATH}results.csv\", delimiter=\",\")\n",
    "startingXI_data = pd.read_csv(f\"{FILES_PATH}startingXI.csv\", delimiter=\",\")\n",
    "teams_data = pd.read_csv(f\"{FILES_PATH}teams.csv\", delimiter=\",\")\n",
    "goalkeeper_games = pd.read_parquet(f\"{FILES_PATH}goalkeeper_games.pq\")\n",
    "goalkeeper_teams = pd.read_parquet(f\"{FILES_PATH}goalkeeper_teams.pq\")"
   ]
  },
  {
   "cell_type": "code",
   "execution_count": 4,
   "metadata": {},
   "outputs": [],
   "source": [
    "results_data_season1 = results_data.copy()\n",
    "results_data_season1 = results_data_season1[results_data_season1[\"SeasonID\"]==1]"
   ]
  },
  {
   "cell_type": "code",
   "execution_count": 5,
   "metadata": {},
   "outputs": [],
   "source": [
    "## It is important to make the distinction between these players who share their name with at least another player.\n",
    "## The list of identical name will be used as a global variable.\n",
    "homonymous_player_names = players_data[players_data[\"PlayerName\"].duplicated()][\"PlayerName\"].values"
   ]
  },
  {
   "cell_type": "code",
   "execution_count": 6,
   "metadata": {},
   "outputs": [],
   "source": [
    "gk_preprocessing = GoalkeeperPreprocessing(homonymous_player_names)\n",
    "results_with_players = gk_preprocessing.run_goalkeeper_preprocessing(results_data_season1, startingXI_data, players_data)\n",
    "results_with_players = gk_preprocessing.create_new_variables(results_with_players)"
   ]
  },
  {
   "cell_type": "code",
   "execution_count": 7,
   "metadata": {},
   "outputs": [],
   "source": [
    "def results_encoding(team_score, opponent_score):\n",
    "    if team_score>opponent_score:\n",
    "        return 3\n",
    "    elif team_score == opponent_score:\n",
    "        return 1\n",
    "    else:\n",
    "        return 0\n",
    "    \n",
    "results_with_players[\"PointsScored\"] = results_with_players.apply(lambda x : results_encoding(x.TeamScore, x.OpponentScore), axis = 1)\n",
    "results_with_players[\"TeamWin\"] = results_with_players[\"PointsScored\"].map(lambda x : 1 if x == 3 else 0)\n",
    "results_with_players[\"TeamLose\"] = results_with_players[\"PointsScored\"].map(lambda x : 1 if x == 0 else 0)\n",
    "results_with_players[\"TeamDraw\"] = results_with_players[\"PointsScored\"].map(lambda x : 1 if x == 1 else 0)"
   ]
  },
  {
   "cell_type": "code",
   "execution_count": 8,
   "metadata": {},
   "outputs": [],
   "source": [
    "results_with_players[\"GamePlayed\"] = 1"
   ]
  },
  {
   "cell_type": "code",
   "execution_count": 9,
   "metadata": {},
   "outputs": [],
   "source": [
    "cols_feature = [\n",
    "\"TeamScore\",  \n",
    "\"OpponentScore\", \n",
    "\"TeamShots\", \n",
    "\"OpponentShots\", \n",
    "\"PointsScored\", \n",
    "\"TeamWin\", \n",
    "\"TeamLose\", \n",
    "\"TeamDraw\", \n",
    "\"GamePlayed\"\n",
    "]"
   ]
  },
  {
   "cell_type": "code",
   "execution_count": 10,
   "metadata": {},
   "outputs": [],
   "source": [
    "def normalise_data(df : pd.DataFrame, cols_feature : list = cols_feature) -> pd.DataFrame:\n",
    "    for col_name in cols_feature:\n",
    "        if col_name != \"GamePlayed\":\n",
    "            df[col_name] = df[col_name] / df[\"GamePlayed\"]\n",
    "    return df"
   ]
  },
  {
   "cell_type": "code",
   "execution_count": 11,
   "metadata": {},
   "outputs": [],
   "source": [
    "results_teams = results_with_players[[\"MatchID\", \"TeamID\", \"TeamScore\", \"OpponentScore\", \"TeamShots\", \"OpponentShots\", \"PointsScored\", \"TeamWin\", \"TeamLose\", \"TeamDraw\", \"GamePlayed\"]]\n",
    "results_teams = results_teams.drop_duplicates()\n",
    "results_teams = results_teams.groupby([\"TeamID\"]).agg(\n",
    "    {col: \"sum\" for col in cols_feature}\n",
    ").reset_index()\n",
    "\n",
    "results_teams = normalise_data(results_teams)\n",
    "results_teams.columns = [\"Team_\"+str(x) for x in results_teams.columns]"
   ]
  },
  {
   "cell_type": "code",
   "execution_count": 12,
   "metadata": {},
   "outputs": [],
   "source": [
    "## Sum of conceded goals\n",
    "agg_rules = {col: \"sum\" for col in cols_feature}\n",
    "agg_rules[\"TeamID\"] = lambda x : list(set(list(x)))[0]\n",
    "agg_rules[\"PositionID\"] = lambda x : list(set(list(x)))[0]\n",
    "\n",
    "players_features = results_with_players\\\n",
    "    .groupby(\"PlayerID\").agg(\n",
    "        agg_rules\n",
    "    ).reset_index()\n",
    "\n",
    "players_features = normalise_data(players_features)\n",
    "players_features.columns = [\"Player_\"+str(x) for x in players_features.columns]"
   ]
  },
  {
   "cell_type": "code",
   "execution_count": 13,
   "metadata": {},
   "outputs": [],
   "source": [
    "players_teams_data = players_features.merge(results_teams, left_on = [\"Player_TeamID\"], right_on = [\"Team_TeamID\"], how = \"left\")"
   ]
  },
  {
   "cell_type": "code",
   "execution_count": 14,
   "metadata": {},
   "outputs": [],
   "source": [
    "for col_name in cols_feature:\n",
    "    # players_teams_data[\"Difference_\"+str(col_name)] = players_teams_data[\"Team_\"+str(col_name)] - players_teams_data[\"Player_\"+str(col_name)]\n",
    "    players_teams_data[\"Ratio_\"+str(col_name)] = (players_teams_data[\"Player_\"+str(col_name)] - players_teams_data[\"Team_\"+str(col_name)])/ players_teams_data[\"Team_\"+str(col_name)]\n",
    "players_teams_data[\"Ratio_GamePlayed\"] = players_teams_data[\"Player_GamePlayed\"] / players_teams_data[\"Team_GamePlayed\"]"
   ]
  },
  {
   "cell_type": "code",
   "execution_count": 15,
   "metadata": {},
   "outputs": [],
   "source": [
    "players_teams_data = players_data[[\"PlayerID\", \"PlayerName\"]].merge(players_teams_data, left_on = \"PlayerID\", right_on = \"Player_PlayerID\", how = \"right\")\n",
    "players_teams_data = teams_data.merge(players_teams_data, left_on = \"TeamID\", right_on = \"Team_TeamID\", how = \"right\")\n",
    "players_teams_data = players_teams_data.drop(columns = [\n",
    "    \"Player_TeamID\",\n",
    "    \"Team_TeamID\",\n",
    "    \"Player_PlayerID\"\n",
    "])\n",
    "players_teams_data = players_teams_data.rename(columns = {\"Player_PositionID\" : \"PositionID\"})"
   ]
  },
  {
   "cell_type": "markdown",
   "metadata": {},
   "source": [
    "## Statistics exploration"
   ]
  },
  {
   "cell_type": "markdown",
   "metadata": {},
   "source": [
    "We calculate statistics on the number of games played by each player to evaluate the relevance of the data under the following assumptions:\n",
    "\n",
    "- If a player has participated in fewer than 10% of the games, the data may not be representative or reliable for analysis.\n",
    "- If a player has participated in more than 90% of the games, it may be difficult to assess their individual impact, as there is limited opportunity for comparison with other players in the same position who have rarely played."
   ]
  },
  {
   "cell_type": "code",
   "execution_count": 48,
   "metadata": {},
   "outputs": [
    {
     "name": "stdout",
     "output_type": "stream",
     "text": [
      "Minimum percentage of games played is 0.2222222222222222\n",
      "Median of percentage of games played is 0.4444444444444444\n",
      "Maximum percentage of games played is 0.6666666666666666\n"
     ]
    }
   ],
   "source": [
    "min_percentage = players_teams_data[\"Ratio_GamePlayed\"].min()\n",
    "median_percentage = players_teams_data[\"Ratio_GamePlayed\"].median()\n",
    "max_percentage =  players_teams_data[\"Ratio_GamePlayed\"].max()\n",
    "\n",
    "print(f\"Minimum percentage of games played is {min_percentage}\")\n",
    "print(f\"Median of percentage of games played is {median_percentage}\")\n",
    "print(f\"Maximum percentage of games played is {max_percentage}\")"
   ]
  },
  {
   "cell_type": "markdown",
   "metadata": {},
   "source": [
    "Our assumptions hold, no players need to be filtered out."
   ]
  },
  {
   "cell_type": "markdown",
   "metadata": {},
   "source": [
    "### 1. Most influencial players"
   ]
  },
  {
   "cell_type": "markdown",
   "metadata": {},
   "source": [
    "We will use a simple metric: the relative difference in number of points with and without a player.\n",
    "- We do find the player with highest positive impact\n",
    "- And the player with the highest negative impact"
   ]
  },
  {
   "cell_type": "code",
   "execution_count": 18,
   "metadata": {},
   "outputs": [],
   "source": [
    "## Find the player with the highest negative impact\n",
    "player_negative = players_teams_data.iloc[players_teams_data[\"Ratio_PointsScored\"].idxmin()]\n",
    "\n",
    "## Find the player with the highest positive impact\n",
    "player_positive = players_teams_data.iloc[players_teams_data[\"Ratio_PointsScored\"].idxmax()]"
   ]
  },
  {
   "cell_type": "markdown",
   "metadata": {},
   "source": [
    "We extract their Team ID and their postion on the pitch. \n",
    "- They both play for the same team\n",
    "- They are both goalkeepers\n",
    "\n",
    "Therefore it is a perfect example of how a single player can influence the outcome of a game. It is probably more true with goalkeepers as their individual performance directly impact the number of goals."
   ]
  },
  {
   "cell_type": "code",
   "execution_count": 24,
   "metadata": {},
   "outputs": [
    {
     "name": "stdout",
     "output_type": "stream",
     "text": [
      "Charles Bates is the player with the highest negative influence. He is a Goalkeeper playing for New York C.\n",
      "Charles Sanchez is the player with the highest positive influence. He is a Goalkeeper playing for New York C.\n"
     ]
    }
   ],
   "source": [
    "def show_player_info(player_data : pd.Series) -> list[int, str, int]:\n",
    "    player_id = player_data[\"PlayerID\"]\n",
    "    position_player = player_data[\"PositionID\"]\n",
    "    name_player = player_data[\"PlayerName\"]\n",
    "    team_player = player_data[\"TeamName\"]\n",
    "    position_player_decoded = POSITION_ENCODING[position_player]\n",
    "    ratio_points = player_data[\"Ratio_PointsScored\"]\n",
    "    return player_id, name_player, position_player, position_player_decoded, team_player, ratio_points\n",
    "\n",
    "player_id_negative, name_player_negative, position_player_negative, position_player_negative_decoded, team_player_negative, ratio_points_negative = show_player_info(player_negative)\n",
    "print(f\"{name_player_negative} is the player with the highest negative influence. He is a {position_player_negative_decoded} playing for {team_player_negative}.\")\n",
    "\n",
    "player_id_positive, name_player_positive, position_player_positive, position_player_positive_decoded, team_player_positive, ratio_points_positive = show_player_info(player_positive)\n",
    "print(f\"{name_player_positive} is the player with the highest positive influence. He is a {position_player_positive_decoded} playing for {team_player_positive}.\")\n"
   ]
  },
  {
   "cell_type": "code",
   "execution_count": 38,
   "metadata": {},
   "outputs": [
    {
     "data": {
      "text/html": [
       "<div>\n",
       "<style scoped>\n",
       "    .dataframe tbody tr th:only-of-type {\n",
       "        vertical-align: middle;\n",
       "    }\n",
       "\n",
       "    .dataframe tbody tr th {\n",
       "        vertical-align: top;\n",
       "    }\n",
       "\n",
       "    .dataframe thead th {\n",
       "        text-align: right;\n",
       "    }\n",
       "</style>\n",
       "<table border=\"1\" class=\"dataframe\">\n",
       "  <thead>\n",
       "    <tr style=\"text-align: right;\">\n",
       "      <th></th>\n",
       "      <th>TeamName</th>\n",
       "      <th>PlayerName</th>\n",
       "      <th>Ratio_TeamScore</th>\n",
       "      <th>Ratio_OpponentScore</th>\n",
       "      <th>Ratio_TeamShots</th>\n",
       "      <th>Ratio_OpponentShots</th>\n",
       "      <th>Ratio_PointsScored</th>\n",
       "      <th>Ratio_TeamWin</th>\n",
       "      <th>Ratio_TeamLose</th>\n",
       "      <th>Ratio_TeamDraw</th>\n",
       "      <th>Ratio_GamePlayed</th>\n",
       "    </tr>\n",
       "  </thead>\n",
       "  <tbody>\n",
       "    <tr>\n",
       "      <th>300</th>\n",
       "      <td>New York C</td>\n",
       "      <td>Charles Sanchez</td>\n",
       "      <td>0.198890</td>\n",
       "      <td>-0.028486</td>\n",
       "      <td>-0.000482</td>\n",
       "      <td>-0.000875</td>\n",
       "      <td>0.677019</td>\n",
       "      <td>0.878261</td>\n",
       "      <td>-0.126390</td>\n",
       "      <td>0.173913</td>\n",
       "      <td>0.425926</td>\n",
       "    </tr>\n",
       "    <tr>\n",
       "      <th>301</th>\n",
       "      <td>New York C</td>\n",
       "      <td>Charles Bates</td>\n",
       "      <td>-0.204583</td>\n",
       "      <td>0.031300</td>\n",
       "      <td>-0.032918</td>\n",
       "      <td>0.078161</td>\n",
       "      <td>-0.802198</td>\n",
       "      <td>-1.000000</td>\n",
       "      <td>0.159213</td>\n",
       "      <td>-0.307692</td>\n",
       "      <td>0.240741</td>\n",
       "    </tr>\n",
       "  </tbody>\n",
       "</table>\n",
       "</div>"
      ],
      "text/plain": [
       "       TeamName       PlayerName  Ratio_TeamScore  Ratio_OpponentScore  \\\n",
       "300  New York C  Charles Sanchez         0.198890            -0.028486   \n",
       "301  New York C    Charles Bates        -0.204583             0.031300   \n",
       "\n",
       "     Ratio_TeamShots  Ratio_OpponentShots  Ratio_PointsScored  Ratio_TeamWin  \\\n",
       "300        -0.000482            -0.000875            0.677019       0.878261   \n",
       "301        -0.032918             0.078161           -0.802198      -1.000000   \n",
       "\n",
       "     Ratio_TeamLose  Ratio_TeamDraw  Ratio_GamePlayed  \n",
       "300       -0.126390        0.173913          0.425926  \n",
       "301        0.159213       -0.307692          0.240741  "
      ]
     },
     "execution_count": 38,
     "metadata": {},
     "output_type": "execute_result"
    }
   ],
   "source": [
    "extreme_players = players_teams_data[players_teams_data[\"PlayerID\"].isin([player_id_negative, player_id_positive])]\n",
    "extreme_players[[x for x in extreme_players.columns if x.startswith(\"Ratio_\") or x in [\"TeamName\", \"PlayerName\"]]]"
   ]
  },
  {
   "cell_type": "markdown",
   "metadata": {},
   "source": [
    "We see that when Charles Shanchez is playing, the team scores almsot 68% more points."
   ]
  },
  {
   "cell_type": "markdown",
   "metadata": {},
   "source": []
  }
 ],
 "metadata": {
  "kernelspec": {
   "display_name": "env",
   "language": "python",
   "name": "python3"
  },
  "language_info": {
   "codemirror_mode": {
    "name": "ipython",
    "version": 3
   },
   "file_extension": ".py",
   "mimetype": "text/x-python",
   "name": "python",
   "nbconvert_exporter": "python",
   "pygments_lexer": "ipython3",
   "version": "3.10.12"
  }
 },
 "nbformat": 4,
 "nbformat_minor": 2
}

{
 "cells": [
  {
   "cell_type": "code",
   "execution_count": 499,
   "metadata": {},
   "outputs": [],
   "source": [
    "import pandas as pd\n",
    "import numpy as np\n",
    "import os\n",
    "from matplotlib import pyplot as plt\n",
    "import statsmodels.api as sm\n",
    "from sklearn.model_selection import train_test_split\n",
    "from scipy.stats import poisson"
   ]
  },
  {
   "cell_type": "code",
   "execution_count": 500,
   "metadata": {},
   "outputs": [],
   "source": [
    "FILES_PATH = \"/home/guillaume/pythia/code/data/\""
   ]
  },
  {
   "cell_type": "code",
   "execution_count": 501,
   "metadata": {},
   "outputs": [],
   "source": [
    "fixtures_data = pd.read_csv(f\"{FILES_PATH}fixtures.csv\", delimiter=\",\")\n",
    "odds_data = pd.read_csv(f\"{FILES_PATH}odds.csv\", delimiter=\",\")\n",
    "players_data = pd.read_csv(f\"{FILES_PATH}players.csv\", delimiter=\",\")\n",
    "results_data = pd.read_csv(f\"{FILES_PATH}results.csv\", delimiter=\",\")\n",
    "startingXI_data = pd.read_csv(f\"{FILES_PATH}startingXI.csv\", delimiter=\",\")\n",
    "teams_data = pd.read_csv(f\"{FILES_PATH}teams.csv\", delimiter=\",\")"
   ]
  },
  {
   "cell_type": "markdown",
   "metadata": {},
   "source": [
    "Encode the outcome of the game in the results dataset\n",
    "- 0 if Home Team won\n",
    "- 1 if a draw\n",
    "- 2 if Away Team won "
   ]
  },
  {
   "cell_type": "code",
   "execution_count": 502,
   "metadata": {},
   "outputs": [],
   "source": [
    "def game_outcome_ground_truth(df : pd.DataFrame) -> pd.DataFrame:\n",
    "    \"\"\"\n",
    "    Encode the results of the game.\n",
    "    - 0 if Home Team won\n",
    "    - 1 if a draw\n",
    "    - 2 if Away Team won \n",
    "    \"\"\"\n",
    "    df[\"GameOutcome\"] = 0 \n",
    "    df.loc[df[\"HomeScore\"] == df[\"AwayScore\"], \"GameOutcome\"] = 1  \n",
    "    df.loc[df[\"HomeScore\"] < df[\"AwayScore\"], \"GameOutcome\"] = 2\n",
    "    return df\n",
    "\n",
    "results_data = game_outcome_ground_truth(results_data)"
   ]
  },
  {
   "cell_type": "markdown",
   "metadata": {},
   "source": [
    "We extract the unique id of each team and make it a global list as it can be useful throughout the model implementation."
   ]
  },
  {
   "cell_type": "code",
   "execution_count": 503,
   "metadata": {},
   "outputs": [],
   "source": [
    "ALL_TEAM_IDS = results_data[\"HomeTeamID\"].sort_values().unique().tolist()"
   ]
  },
  {
   "cell_type": "markdown",
   "metadata": {},
   "source": [
    "Split dataset into a train dataset for season 1 and a test dataset for season 2"
   ]
  },
  {
   "cell_type": "code",
   "execution_count": 504,
   "metadata": {},
   "outputs": [],
   "source": [
    "results_data_season1 = results_data.copy()\n",
    "results_data_season2 = results_data.copy()\n",
    "\n",
    "results_data_season1 = results_data_season1[results_data_season1[\"SeasonID\"]==1]\n",
    "results_data_season2 = results_data_season2[results_data_season2[\"SeasonID\"]==2]"
   ]
  },
  {
   "cell_type": "markdown",
   "metadata": {},
   "source": [
    "## Feature engineering"
   ]
  },
  {
   "cell_type": "code",
   "execution_count": 505,
   "metadata": {},
   "outputs": [],
   "source": [
    "class DataPreprocessing:    \n",
    "    def generate_inputs_model(self, df : pd.DataFrame, home_boolean : bool):\n",
    "        \"\"\"\n",
    "        Generate the model input dataset as well as the ground truth - here the number of goals.  \n",
    "        \"\"\"\n",
    "        if home_boolean:\n",
    "            X = df[[x for x in df.columns if x.startswith(\"in_\")]]\n",
    "            y = df[[\"HomeScore\"]]\n",
    "        else:\n",
    "            X = df[[x for x in df.columns if x.startswith(\"in_\")]]\n",
    "            y = df[[\"AwayScore\"]]\n",
    "        return X, y\n",
    "    \n",
    "    def merge_results_stats(self, results_df : pd.DataFrame, stats_df : pd.DataFrame, _home_boolean : bool) -> pd.DataFrame:\n",
    "        \"\"\"\n",
    "        Add the new features to the existing results dataset. \n",
    "        \"\"\"\n",
    "        if _home_boolean:\n",
    "            results_df = results_df.merge(stats_df, on = [\"HomeTeamID\"], how = \"left\")\n",
    "        else:\n",
    "            results_df = results_df.merge(stats_df, on = [\"AwayTeamID\"], how = \"left\")\n",
    "        return results_df"
   ]
  },
  {
   "cell_type": "markdown",
   "metadata": {},
   "source": [
    "### General statistics for season 1"
   ]
  },
  {
   "cell_type": "code",
   "execution_count": 506,
   "metadata": {},
   "outputs": [],
   "source": [
    "# results_data_season1, test_results = train_test_split(results_data_season1, test_size=0.2)\n",
    "train_results = results_data_season1\n",
    "test_results = results_data_season2"
   ]
  },
  {
   "cell_type": "code",
   "execution_count": 507,
   "metadata": {},
   "outputs": [],
   "source": [
    "def season_statistics(df : pd.DataFrame) -> list[int, int, float, float]:\n",
    "    \"\"\"\n",
    "    Calculate the total number of goals scored at home/away. \n",
    "    As well the average number of goals scored at home/away. \n",
    "    \"\"\"\n",
    "    return df.HomeScore.sum(), df.AwayScore.sum(), df.HomeScore.mean(), df.AwayScore.mean()\n",
    "TOTAL_LEAGUE_GOALS_HOME, TOTAL_LEAGUE_GOALS_AWAY, AVERAGE_LEAGUE_GOALS_HOME, AVERAGE_LEAGUE_GOALS_AWAY = season_statistics(results_data_season1)"
   ]
  },
  {
   "cell_type": "markdown",
   "metadata": {},
   "source": [
    "### Team-oriented statistics"
   ]
  },
  {
   "cell_type": "markdown",
   "metadata": {},
   "source": [
    "- Calculation of attack & defence strengths for home & away teams\n",
    "- Shots and goals conceded features generation"
   ]
  },
  {
   "cell_type": "code",
   "execution_count": 508,
   "metadata": {},
   "outputs": [],
   "source": [
    "def generate_average_stats_home(df : pd.DataFrame) -> pd.DataFrame:\n",
    "    \"\"\"\n",
    "    Calculate the average number of goals scored/conceded for every home team. \n",
    "    \"\"\"\n",
    "    return df.groupby([\"HomeTeamID\"]).agg(\n",
    "        in_HomeSeasonGoalsScoredAvg = (\"HomeScore\", \"mean\"),\n",
    "        in_HomeSeasonGoalsConcededAvg = (\"AwayScore\", \"mean\"),\n",
    "        in_HomeSeasonShotsAvg = (\"HomeShots\", \"mean\"),\n",
    "        in_HomeSeasonShotsConcededAvg = (\"AwayShots\", \"mean\"),\n",
    "        # in_HomeDraws = (\"DrawBoolean\", \"sum\")\n",
    "    ).reset_index()\n",
    "\n",
    "def generate_average_stats_away(df : pd.DataFrame) -> pd.DataFrame:\n",
    "    \"\"\"\n",
    "    Calculate the average number of goals scored/conceded for every away team.  \n",
    "    \"\"\"\n",
    "    return df.groupby([\"AwayTeamID\"]).agg(\n",
    "    in_AwaySeasonGoalsScoredAvg = (\"AwayScore\", \"mean\"),\n",
    "    in_AwaySeasonGoalsConcededAvg = (\"HomeScore\", \"mean\"),\n",
    "    in_AwaySeasonShotsAvg = (\"AwayShots\", \"mean\"),\n",
    "    in_AwaySeasonShotsConcededAvg = (\"HomeShots\", \"mean\"),\n",
    "    # in_AwayDraws = (\"DrawBoolean\", \"sum\")\n",
    ").reset_index()"
   ]
  },
  {
   "cell_type": "code",
   "execution_count": 509,
   "metadata": {},
   "outputs": [],
   "source": [
    "def calculate_strength_home(df : pd.DataFrame) -> pd.DataFrame:\n",
    "    \"\"\"\n",
    "    Divide the average number of goals scored by a home team by the average number of home goals scored thoughout the season.\n",
    "    \"\"\"\n",
    "    df[\"in_HomeAttackStrength\"] = df[\"in_HomeSeasonGoalsScoredAvg\"]/AVERAGE_LEAGUE_GOALS_HOME\n",
    "    df[\"in_HomeDefenceStrength\"] = df[\"in_HomeSeasonGoalsConcededAvg\"]/AVERAGE_LEAGUE_GOALS_AWAY\n",
    "    return df.drop(columns=[\"in_HomeSeasonGoalsScoredAvg\", \"in_HomeSeasonGoalsConcededAvg\"])\n",
    "\n",
    "def calculate_strength_away(df : pd.DataFrame) -> pd.DataFrame:\n",
    "    \"\"\"\n",
    "    Divide the average number of goals scored by an away team by the average number of away goals scored thoughout the season.\n",
    "    \"\"\"\n",
    "    df[\"in_AwayAttackStrength\"] = df[\"in_AwaySeasonGoalsScoredAvg\"]/AVERAGE_LEAGUE_GOALS_AWAY\n",
    "    df[\"in_AwayDefenceStrength\"] = df[\"in_AwaySeasonGoalsConcededAvg\"]/AVERAGE_LEAGUE_GOALS_HOME\n",
    "    return df.drop(columns=[\"in_AwaySeasonGoalsScoredAvg\", \"in_AwaySeasonGoalsConcededAvg\"])"
   ]
  },
  {
   "cell_type": "markdown",
   "metadata": {},
   "source": [
    "Home advantage added as a feature"
   ]
  },
  {
   "cell_type": "code",
   "execution_count": 510,
   "metadata": {},
   "outputs": [],
   "source": [
    "def intercept_term_advantage(df : pd.DataFrame) -> pd.DataFrame:\n",
    "    \"\"\"\n",
    "    Add an intercept term to capture any constant effects such as the advantage of playing at home.\n",
    "    \"\"\"\n",
    "    df[\"in_InterceptTerm\"] = 1\n",
    "    return df"
   ]
  },
  {
   "cell_type": "code",
   "execution_count": 511,
   "metadata": {},
   "outputs": [],
   "source": [
    "# data_preprocessing = DataPreprocessing()\n",
    "# df_features_home = generate_average_stats_home(results_data_season1)\n",
    "# df_features_away = generate_average_stats_away(train_results)\n",
    "# df_features_home = calculate_strength_home(df_features_home)\n",
    "# df_features_away = calculate_strength_away(df_features_away)\n",
    "\n",
    "# df_features_home[\"in_StrengthDifference\"] = abs(df_features_home[\"in_HomeAttackStrength\"] - df_features_away[\"in_AwayDefenceStrength\"])\n",
    "# df_features_away[\"in_StrengthDifference\"] = abs(df_features_home[\"in_HomeAttackStrength\"] - df_features_away[\"in_AwayDefenceStrength\"])\n",
    "\n",
    "# df_features_home = intercept_term_advantage(df_features_home)\n",
    "# df_features_away = intercept_term_advantage(df_features_away)\n",
    "\n",
    "# train_results_home = data_preprocessing.merge_results_stats(train_results, df_features_home, True)\n",
    "# train_results_away = data_preprocessing.merge_results_stats(train_results, df_features_away, False)"
   ]
  },
  {
   "cell_type": "code",
   "execution_count": 512,
   "metadata": {},
   "outputs": [],
   "source": [
    "def generate_features_dataset(df):\n",
    "    df_features_home = generate_average_stats_home(df)\n",
    "    df_features_away = generate_average_stats_away(df)\n",
    "    df_features_home = calculate_strength_home(df_features_home)\n",
    "    df_features_away = calculate_strength_away(df_features_away)\n",
    "\n",
    "    df_features_home[\"in_StrengthDifference\"] = abs(df_features_home[\"in_HomeAttackStrength\"] - df_features_away[\"in_AwayDefenceStrength\"])\n",
    "    df_features_away[\"in_StrengthDifference\"] = abs(df_features_home[\"in_HomeAttackStrength\"] - df_features_away[\"in_AwayDefenceStrength\"])\n",
    "\n",
    "    df_features_home = intercept_term_advantage(df_features_home)\n",
    "    df_features_away = intercept_term_advantage(df_features_away)\n",
    "\n",
    "    return df_features_home, df_features_away\n",
    "\n",
    "df_features_home, df_features_away = generate_features_dataset(train_results)\n",
    "# test_results_home, test_results_away = generate_features_dataset(test_results)"
   ]
  },
  {
   "cell_type": "code",
   "execution_count": 513,
   "metadata": {},
   "outputs": [],
   "source": [
    "data_preprocessing = DataPreprocessing()\n",
    "train_results_home = data_preprocessing.merge_results_stats(train_results, df_features_home, True)\n",
    "train_results_away = data_preprocessing.merge_results_stats(train_results, df_features_away, False)"
   ]
  },
  {
   "cell_type": "code",
   "execution_count": 514,
   "metadata": {},
   "outputs": [],
   "source": [
    "# def get_statistics_per_team(df : pd.DataFrame, home_boolean : bool) -> pd.DataFrame:\n",
    "#     \"\"\"\n",
    "#     Return a dataframe with a unique home/away team ID and the associated season features.\n",
    "#     It simplifies data manipualtion and the testing phase.\n",
    "#     \"\"\"\n",
    "#     team_id = \"AwayTeamID\"\n",
    "#     if home_boolean:\n",
    "#         team_id = \"HomeTeamID\"\n",
    "#     return df[[team_id] + [x for x in df.columns if x.startswith(\"in_\")]]\\\n",
    "#         .drop_duplicates()\\\n",
    "#             .sort_values(by=[team_id])\\\n",
    "#                 .reset_index(drop=True)"
   ]
  },
  {
   "cell_type": "markdown",
   "metadata": {},
   "source": [
    "## Input dataset creation and model training"
   ]
  },
  {
   "cell_type": "code",
   "execution_count": 515,
   "metadata": {},
   "outputs": [],
   "source": [
    "class TrainModel(DataPreprocessing):\n",
    "    def __init__(self):\n",
    "        pass\n",
    "    \n",
    "    def model_training(self, X : pd.DataFrame, y : pd.DataFrame):\n",
    "        \"\"\"\n",
    "        Fit a Poisson regression model to the train data. \n",
    "        \"\"\"\n",
    "        return sm.GLM(y, X, family=sm.families.Poisson()).fit()"
   ]
  },
  {
   "cell_type": "code",
   "execution_count": 516,
   "metadata": {},
   "outputs": [],
   "source": [
    "train_model = TrainModel()\n",
    "## Generate the model inputs and ground truths for home & away team\n",
    "X_home, y_home = train_model.generate_inputs_model(train_results_home, True)\n",
    "X_away, y_away = train_model.generate_inputs_model(train_results_away, False)\n",
    "\n",
    "## - Build a Poisson regression model to generate predicitons for team playing at home\n",
    "## - Build another model for team playing away \n",
    "\n",
    "model_home = train_model.model_training(X_home, y_home)\n",
    "model_away = train_model.model_training(X_away, y_away)"
   ]
  },
  {
   "cell_type": "markdown",
   "metadata": {},
   "source": [
    "## Model testing"
   ]
  },
  {
   "cell_type": "code",
   "execution_count": null,
   "metadata": {},
   "outputs": [],
   "source": [
    "class TestModel(DataPreprocessing):\n",
    "    def __init__(self):\n",
    "        pass\n",
    "\n",
    "    def predict_expected_value_goal(self, model, X : pd.Series) -> np.array:\n",
    "        \"\"\"\n",
    "        Predict the expected value of the poisson distribution for a fixture and a team. \n",
    "        \"\"\"\n",
    "        return model.predict(X.values.tolist())\n",
    "    \n",
    "    def random_draw_goal_distrib(self, predicted_lambda : np.array, n : int = 10000) -> np.array:\n",
    "        \"\"\"\n",
    "        Draw samples from a Poisson distribution given its expected value. \n",
    "        \"\"\"\n",
    "        return np.random.poisson(lam=predicted_lambda, size=(n, len(predicted_lambda))).flatten()\n",
    "    \n",
    "    def count_goals(self, simulated_goals : np.array, home_boolean : bool) -> pd.Series:\n",
    "        \"\"\"\n",
    "        Calculate the probability for a set of goals to be scored for a certain fixture. \n",
    "        \"\"\"\n",
    "        if home_boolean:\n",
    "            return simulated_goals.value_counts().sort_index().rename(\"HomeGoalsProbability\")/len(simulated_goals)\n",
    "        else:\n",
    "            return simulated_goals.value_counts().sort_index().rename(\"AwayGoalsProbability\")/len(simulated_goals)\n",
    "        \n",
    "    def generate_goals_proba_table(self,home_goals_proba : pd.Series, away_goals_proba : pd.Series) -> pd.DataFrame:\n",
    "        \"\"\"\n",
    "        Concatenate the goal probabilities for home and away team. \n",
    "        \"\"\"\n",
    "        return pd.concat([home_goals_proba, away_goals_proba], axis = 1).sort_index().fillna(0)\n",
    "    \n",
    "    def calculate_scores_proba(self, df : pd.DataFrame) -> pd.DataFrame:\n",
    "        \"\"\"\n",
    "        Multiply the probability of Home Team to score X goals with the probability of Away Team to score Y goals.\n",
    "        Return a matrix containing the probability of every possible outcome (e.g.: 0-1, 2-2, etc.) \n",
    "        \"\"\"\n",
    "        scores_proba_matrix = np.outer(df[\"HomeGoalsProbability\"].values, df[\"AwayGoalsProbability\"].values)\n",
    "        return pd.DataFrame(scores_proba_matrix, index = df.index, columns = df.index)\n",
    "    \n",
    "    def calculate_outcome_probability(self, df : pd.DataFrame) -> list[float, float, float]:\n",
    "        \"\"\"\n",
    "        Calculate the probability for the home/away team to win, draw or lose.\n",
    "        Given the matrix containing the every outcome probability, it sums the all the probabilities for:\n",
    "        - Home Team to win\n",
    "        - Away Team to win\n",
    "        - Draw\n",
    "        \"\"\"\n",
    "        probability_home_win = 0\n",
    "        probability_away_win = 0\n",
    "        probability_draw = 0\n",
    "        for i in range(len(df)):\n",
    "            for j in range(len(df)):\n",
    "                if i==j:\n",
    "                    probability_draw += df.iloc[i, j]\n",
    "                elif i<j:\n",
    "                    probability_away_win += df.iloc[i, j]\n",
    "                else:\n",
    "                    probability_home_win += df.iloc[i, j]\n",
    "        return probability_home_win, probability_draw, probability_away_win\n",
    "    \n",
    "    def game_outcome(self, probability_win_home : float, probability_draw : float, probability_win_away : float) -> int:\n",
    "        \"\"\"\n",
    "        Find the result with the highest probability and return it as the game outcome.  \n",
    "        \"\"\"\n",
    "        return np.argmax([probability_win_home, probability_draw, probability_win_away])\n",
    "    \n",
    "    def generate_input_testing(self, df : pd.DataFrame, df_features_home : pd.DataFrame, df_features_away : pd.DataFrame) -> pd.DataFrame:\n",
    "        \"\"\"\n",
    "        Generate inputs for testing. \n",
    "        \"\"\"\n",
    "        test_results_home = df.merge(df_features_home, on = \"HomeTeamID\", how = \"left\")\n",
    "        test_results_away = df.merge(df_features_away, on = \"AwayTeamID\", how = \"left\")\n",
    "        X_test_home, _ = self.generate_inputs_model(test_results_home, home_boolean=True)\n",
    "        X_test_away, _ = self.generate_inputs_model(test_results_away, home_boolean=False)\n",
    "\n",
    "        return X_test_home, X_test_away"
   ]
  },
  {
   "cell_type": "code",
   "execution_count": 533,
   "metadata": {},
   "outputs": [],
   "source": [
    "test_model = TestModel()\n",
    "X_test_home, X_test_away = test_model.generate_input_testing(test_results, df_features_home, df_features_away)"
   ]
  },
  {
   "cell_type": "code",
   "execution_count": 535,
   "metadata": {},
   "outputs": [],
   "source": [
    "test_model = TestModel()\n",
    "\n",
    "probability_win_home_test = []\n",
    "probability_draw_test = []\n",
    "probability_win_away_test = []\n",
    "game_outcome_test = []\n",
    "for i in range(len(X_test_home)):\n",
    "    X_test_home_i = X_test_home.iloc[i]\n",
    "    X_test_away_i = X_test_away.iloc[i]\n",
    "\n",
    "    predicted_lambda_home = test_model.predict_expected_value_goal(model_home, X_test_home_i)\n",
    "    predicted_lambda_away = test_model.predict_expected_value_goal(model_away, X_test_away_i)\n",
    "\n",
    "    simulated_goals_home = test_model.random_draw_goal_distrib(predicted_lambda_home)\n",
    "    simulated_goals_away = test_model.random_draw_goal_distrib(predicted_lambda_away)\n",
    "\n",
    "    home_goals_proba = test_model.count_goals(pd.Series(simulated_goals_home), home_boolean = True)\n",
    "    away_goals_proba = test_model.count_goals(pd.Series(simulated_goals_away), home_boolean = False)\n",
    "    goals_proba_matrix = test_model.generate_goals_proba_table(home_goals_proba, away_goals_proba)\n",
    "    \n",
    "    # goals_proba_matrix = goals_proba_matrix[goals_proba_matrix.index<=5]\n",
    "    \n",
    "    scores_proba_df = test_model.calculate_scores_proba(goals_proba_matrix)\n",
    "    probability_win_home, probability_draw, probability_win_away  = test_model.calculate_outcome_probability(scores_proba_df)\n",
    "\n",
    "    probability_win_home_test.append(probability_win_home)\n",
    "    probability_draw_test.append(probability_draw)\n",
    "    probability_win_away_test.append(probability_win_away)\n",
    "    game_outcome_test.append(test_model.game_outcome(probability_win_home, probability_draw, probability_win_away))\n"
   ]
  },
  {
   "cell_type": "code",
   "execution_count": 536,
   "metadata": {},
   "outputs": [
    {
     "data": {
      "text/plain": [
       "PredictedGameOutcome\n",
       "0    487\n",
       "2    263\n",
       "1      6\n",
       "Name: count, dtype: int64"
      ]
     },
     "execution_count": 536,
     "metadata": {},
     "output_type": "execute_result"
    }
   ],
   "source": [
    "outcomes_df = pd.DataFrame({\n",
    "    \"HomeTeamWinProbability\" : probability_win_home_test,\n",
    "    \"TeamsDrawProbability\" : probability_draw_test,\n",
    "    \"AwayTeamWinProbability\" : probability_win_away_test,\n",
    "    \"PredictedGameOutcome\" : game_outcome_test\n",
    "})\n",
    "\n",
    "outcomes_df[\"PredictedGameOutcome\"].value_counts()"
   ]
  },
  {
   "cell_type": "markdown",
   "metadata": {},
   "source": [
    "### Compare results 2 prediction with the ground truth"
   ]
  },
  {
   "cell_type": "code",
   "execution_count": null,
   "metadata": {},
   "outputs": [],
   "source": [
    "def merge_season2_outcomes(df_season : pd.DataFrame, df_results : pd.DataFrame) -> pd.DataFrame:\n",
    "    \"\"\"\n",
    "    Concatenate the predictions of win/draw/lose with the original dataset for season 2.\n",
    "    \"\"\"\n",
    "    return pd.concat([df_season.reset_index(drop=True), df_results.reset_index(drop=True)], axis=1)\n",
    "test_results_prediction = merge_season2_outcomes(test_results, outcomes_df)"
   ]
  },
  {
   "cell_type": "markdown",
   "metadata": {},
   "source": [
    "Calculate the predicted odds using the probabilities computed by the model for season 2"
   ]
  },
  {
   "cell_type": "code",
   "execution_count": null,
   "metadata": {},
   "outputs": [],
   "source": [
    "def calculate_predicted_odds(df : pd.DataFrame) -> pd.DataFrame:\n",
    "    \"\"\"\n",
    "    Calculate the odds based on the predicted probabilities. \n",
    "    \"\"\"\n",
    "    df[\"PredictedOddsHomeWin\"] = 1/df[\"HomeTeamWinProbability\"]\n",
    "    df[\"PredictedOddsDraw\"] = 1/df[\"TeamsDrawProbability\"]\n",
    "    df[\"PredictedOddsAwayWin\"] = 1/df[\"AwayTeamWinProbability\"]\n",
    "    return df\n",
    "test_results_prediction = calculate_predicted_odds(test_results_prediction)"
   ]
  },
  {
   "cell_type": "markdown",
   "metadata": {},
   "source": [
    "Calculate the expected value of points for every team at every game\n",
    "$$E[X] = \\sum_{x=0,1,3} x*P(X=x)$$\n",
    "- x represents the possible points a team can earn in a game \n",
    "- P(X=x) is the probability of earning x points, as computed by the model."
   ]
  },
  {
   "cell_type": "code",
   "execution_count": 524,
   "metadata": {},
   "outputs": [],
   "source": [
    "def calculate_points_expected_value_per_game(df : pd.DataFrame) -> pd.DataFrame:\n",
    "    df[\"HomePredictedPoints\"] = df[\"HomeTeamWinProbability\"]*3 + df[\"TeamsDrawProbability\"]\n",
    "    df[\"AwayPredictedPoints\"] = df[\"AwayTeamWinProbability\"]*3 + df[\"TeamsDrawProbability\"]\n",
    "    return df\n",
    "test_results_prediction = calculate_points_expected_value_per_game(test_results_prediction)"
   ]
  },
  {
   "cell_type": "code",
   "execution_count": null,
   "metadata": {},
   "outputs": [],
   "source": [
    "def calculate_points_season_home_away(df : pd.DataFrame, home_boolean : bool) -> pd.DataFrame:\n",
    "    if home_boolean:\n",
    "        return df.groupby([\"HomeTeamID\"]).agg(\n",
    "            season_predicted_points_home = (\"HomePredictedPoints\", \"sum\")\n",
    "        ).reset_index(drop=False)\n",
    "\n",
    "    else:\n",
    "        return df.groupby([\"AwayTeamID\"]).agg(\n",
    "            season_predicted_points_away = (\"AwayPredictedPoints\", \"sum\")\n",
    "        ).reset_index(drop=False)\n",
    "predicted_points_home = calculate_points_season_home_away(test_results_prediction, True)\n",
    "predicted_points_away = calculate_points_season_home_away(test_results_prediction, False)"
   ]
  },
  {
   "cell_type": "code",
   "execution_count": 526,
   "metadata": {},
   "outputs": [],
   "source": [
    "def calculate_points_season(df_home, df_away):\n",
    "    df = df_home.merge(df_away, left_on=\"HomeTeamID\", right_on=\"AwayTeamID\", how = \"inner\")\n",
    "    df[\"PredictedPoints\"] = df[\"season_predicted_points_home\"].values + df[\"season_predicted_points_away\"].values\n",
    "    return df.rename(columns = {\"HomeTeamID\" : \"TeamID\"}).drop(columns = \"AwayTeamID\")\n",
    "predicted_points = calculate_points_season(predicted_points_home, predicted_points_away).sort_values(by = [\"PredictedPoints\"], ascending=False)"
   ]
  },
  {
   "cell_type": "code",
   "execution_count": 527,
   "metadata": {},
   "outputs": [],
   "source": [
    "def generate_ranking(df):\n",
    "    df[\"ranking_season2\"] = np.arange(1, len(df)+1)\n",
    "    return df\n",
    "predicted_points = generate_ranking(predicted_points)"
   ]
  },
  {
   "cell_type": "markdown",
   "metadata": {},
   "source": [
    "### Monte-Carlo simualtion using the outcome probabilities to compute the final ranking probabilities of season 2"
   ]
  },
  {
   "cell_type": "markdown",
   "metadata": {},
   "source": [
    "We employ Monte Carlo simulations to predict the outcomes of all games in Season 2, leveraging the probabilities generated by the model: $$P(X = \\text{Home team win}), P(X = \\text{Draw}), P(X = \\text{Away team win})$$"
   ]
  },
  {
   "cell_type": "code",
   "execution_count": 540,
   "metadata": {},
   "outputs": [],
   "source": [
    "def MC_simulation_single_season(df : pd.DataFrame) -> pd.DataFrame:\n",
    "    \"\"\"\n",
    "    Returns the total number of points for every team after simulating\n",
    "    the whole season given the probabilities calculated by the model.\n",
    "    \"\"\"\n",
    "    points = {_team: 0 for _team in ALL_TEAM_IDS}\n",
    "    for i in range(len(df)):\n",
    "        _game = df.iloc[i]\n",
    "        \n",
    "        team_id_home = _game[\"HomeTeamID\"] ## Home Team ID\n",
    "        team_id_away = _game[\"AwayTeamID\"] ## Away Team ID\n",
    "\n",
    "        proba_win_home = _game[\"HomeTeamWinProbability\"] ## Probability of Home Team to win that game\n",
    "        proba_draw = _game[\"TeamsDrawProbability\"] ## Probability of teams to draw\n",
    "        proba_win_away = _game[\"AwayTeamWinProbability\"] ## Probability of Away Team to win that game\n",
    "\n",
    "        ## Generation of a random number {0, 1, 2} with the probabilities of [Home, Draw, Away]\n",
    "        _outcome = np.random.choice(np.arange(0, 3), p=[proba_win_home, proba_draw, proba_win_away])\n",
    "\n",
    "        ## 3, 1 or 0 points are then added to the team's total points of the season\n",
    "        if _outcome == 0:\n",
    "            points[team_id_home] += 3 \n",
    "        elif _outcome == 1:\n",
    "            points[team_id_home] += 1\n",
    "            points[team_id_away] += 3 \n",
    "        else:\n",
    "            points[team_id_away] += 3 \n",
    "    return points\n",
    "    \n"
   ]
  },
  {
   "cell_type": "code",
   "execution_count": 541,
   "metadata": {},
   "outputs": [],
   "source": [
    "def MC_simulation_multiple_seasons(df : pd.DataFrame, n_iterations : int = 1000) -> pd.DataFrame:\n",
    "    \"\"\"\n",
    "    Simulate a number of n_iterations seasons using the probabilities of the model.\n",
    "    It returns the probability of every ranking for every team.  \n",
    "    \"\"\"\n",
    "    position_counts = {_team: [0] * len(ALL_TEAM_IDS) for _team in ALL_TEAM_IDS} ## Dictionnary containing the history of every team's ranking\n",
    "    for _iter in range(n_iterations):\n",
    "        season_points = MC_simulation_single_season(df) ## Simulation of a single season\n",
    "\n",
    "        ## We save the points in a dataframe and ranked the teams accordingly\n",
    "        df_season_points = pd.DataFrame(season_points.items(), columns = [\"TeamID\", \"SeasonPoints\"])\\\n",
    "            .sort_values(by = [\"SeasonPoints\"], ascending=False)\\\n",
    "                .reset_index(drop=True)\n",
    "        \n",
    "        ## The ranking of every team for this season is saved in a dictionnary\n",
    "        for _pos, team_val in df_season_points.iterrows():\n",
    "            team_id = team_val[\"TeamID\"]\n",
    "            position_counts[team_id][_pos] += 1\n",
    "\n",
    "    ## Generation of ranking probabilities by dividing the number of times a team finishes in a specific position by the total number of simulations\n",
    "    for _key, _val in position_counts.items():\n",
    "        position_counts[_key] = [x/n_iterations for x in _val]\n",
    "\n",
    "    ## Creation of a dataframe for the results with the ranking as index and the teams as columns\n",
    "    df_results = pd.DataFrame(position_counts, index = position_counts.keys())\n",
    "    df_results.columns = [f\"TeamID_{x}\" for x in df_results.columns]\n",
    "    return df_results\n",
    "\n",
    "df_ranking_season2_proba = MC_simulation_multiple_seasons(test_results_prediction)"
   ]
  },
  {
   "cell_type": "code",
   "execution_count": null,
   "metadata": {},
   "outputs": [],
   "source": [
    "for i in ALL_TEAM_IDS:\n",
    "    ranking_team = df_ranking_season2_proba[f\"TeamID_{i}\"]\n",
    "    ranking_team_plot = ranking_team[ranking_team!=0]\n",
    "    plt.bar(ranking_team_plot.index, ranking_team_plot.values)\n",
    "    plt.show()"
   ]
  },
  {
   "cell_type": "markdown",
   "metadata": {},
   "source": [
    "## Real ranking of season 2"
   ]
  }
 ],
 "metadata": {
  "kernelspec": {
   "display_name": "env",
   "language": "python",
   "name": "python3"
  },
  "language_info": {
   "codemirror_mode": {
    "name": "ipython",
    "version": 3
   },
   "file_extension": ".py",
   "mimetype": "text/x-python",
   "name": "python",
   "nbconvert_exporter": "python",
   "pygments_lexer": "ipython3",
   "version": "3.10.12"
  }
 },
 "nbformat": 4,
 "nbformat_minor": 2
}

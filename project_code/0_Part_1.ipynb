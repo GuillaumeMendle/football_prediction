{
 "cells": [
  {
   "cell_type": "code",
   "execution_count": 1,
   "metadata": {},
   "outputs": [],
   "source": [
    "import pandas as pd\n",
    "import os\n",
    "import numpy as np\n",
    "from matplotlib import pyplot as plt\n",
    "import seaborn as sns"
   ]
  },
  {
   "cell_type": "code",
   "execution_count": 2,
   "metadata": {},
   "outputs": [],
   "source": [
    "## Get the current working directory\n",
    "current_directory = os.getcwd()\n",
    "## Use a global variable for the path to the data\n",
    "FILES_PATH = f\"{current_directory}/data/\""
   ]
  },
  {
   "cell_type": "markdown",
   "metadata": {},
   "source": [
    "Even though a notebook is not a viable solution for any porduction-ready code, I decided to use a notebook to implement my code and present the results for the first part of the assignement. It makes things easy to assess, it is easier to comment and discuss results as well as present."
   ]
  },
  {
   "cell_type": "markdown",
   "metadata": {},
   "source": [
    "### Import datasets"
   ]
  },
  {
   "cell_type": "code",
   "execution_count": 3,
   "metadata": {},
   "outputs": [],
   "source": [
    "fixtures_data = pd.read_csv(f\"{FILES_PATH}fixtures.csv\", delimiter=\",\")\n",
    "odds_data = pd.read_csv(f\"{FILES_PATH}odds.csv\", delimiter=\",\")\n",
    "players_data = pd.read_csv(f\"{FILES_PATH}players.csv\", delimiter=\",\")\n",
    "results_data = pd.read_csv(f\"{FILES_PATH}results.csv\", delimiter=\",\")\n",
    "startingXI_data = pd.read_csv(f\"{FILES_PATH}startingXI.csv\", delimiter=\",\")\n",
    "teams_data = pd.read_csv(f\"{FILES_PATH}teams.csv\", delimiter=\",\")"
   ]
  },
  {
   "cell_type": "code",
   "execution_count": 4,
   "metadata": {},
   "outputs": [],
   "source": [
    "datasets_dictionnary = {\"fixture\" : fixtures_data, \"odds\" : odds_data, \"players\" : players_data, \"results\" : results_data, \"startingXI\" : startingXI_data, \"teams\" : teams_data}"
   ]
  },
  {
   "cell_type": "markdown",
   "metadata": {},
   "source": [
    "# Exploring the first season"
   ]
  },
  {
   "cell_type": "markdown",
   "metadata": {},
   "source": [
    "# Data exploration and cleaning\n",
    "Exploring the dataset and cleaning the data if needed"
   ]
  },
  {
   "cell_type": "code",
   "execution_count": 5,
   "metadata": {},
   "outputs": [
    {
     "data": {
      "text/html": [
       "<div>\n",
       "<style scoped>\n",
       "    .dataframe tbody tr th:only-of-type {\n",
       "        vertical-align: middle;\n",
       "    }\n",
       "\n",
       "    .dataframe tbody tr th {\n",
       "        vertical-align: top;\n",
       "    }\n",
       "\n",
       "    .dataframe thead th {\n",
       "        text-align: right;\n",
       "    }\n",
       "</style>\n",
       "<table border=\"1\" class=\"dataframe\">\n",
       "  <thead>\n",
       "    <tr style=\"text-align: right;\">\n",
       "      <th></th>\n",
       "      <th>DatasetName</th>\n",
       "      <th>MissingValuesCount</th>\n",
       "      <th>DuplicatedValuesCount</th>\n",
       "    </tr>\n",
       "  </thead>\n",
       "  <tbody>\n",
       "    <tr>\n",
       "      <th>0</th>\n",
       "      <td>fixture</td>\n",
       "      <td>0</td>\n",
       "      <td>0</td>\n",
       "    </tr>\n",
       "    <tr>\n",
       "      <th>1</th>\n",
       "      <td>odds</td>\n",
       "      <td>0</td>\n",
       "      <td>0</td>\n",
       "    </tr>\n",
       "    <tr>\n",
       "      <th>2</th>\n",
       "      <td>players</td>\n",
       "      <td>0</td>\n",
       "      <td>0</td>\n",
       "    </tr>\n",
       "    <tr>\n",
       "      <th>3</th>\n",
       "      <td>results</td>\n",
       "      <td>0</td>\n",
       "      <td>0</td>\n",
       "    </tr>\n",
       "    <tr>\n",
       "      <th>4</th>\n",
       "      <td>startingXI</td>\n",
       "      <td>0</td>\n",
       "      <td>0</td>\n",
       "    </tr>\n",
       "    <tr>\n",
       "      <th>5</th>\n",
       "      <td>teams</td>\n",
       "      <td>0</td>\n",
       "      <td>0</td>\n",
       "    </tr>\n",
       "  </tbody>\n",
       "</table>\n",
       "</div>"
      ],
      "text/plain": [
       "  DatasetName  MissingValuesCount  DuplicatedValuesCount\n",
       "0     fixture                   0                      0\n",
       "1        odds                   0                      0\n",
       "2     players                   0                      0\n",
       "3     results                   0                      0\n",
       "4  startingXI                   0                      0\n",
       "5       teams                   0                      0"
      ]
     },
     "execution_count": 5,
     "metadata": {},
     "output_type": "execute_result"
    }
   ],
   "source": [
    "def flag_missing_duplicated_values(dict_files):\n",
    "    missing_values_count = {}\n",
    "    duplicated_values_count = {}\n",
    "\n",
    "    for _name, _dataset in dict_files.items():\n",
    "        if _dataset.isnull().sum().any():\n",
    "            missing_values_count[_name] = 1\n",
    "        else:\n",
    "            missing_values_count[_name] = 0\n",
    "\n",
    "        if _dataset.duplicated().any():\n",
    "            duplicated_values_count[_name] = 1\n",
    "        else:\n",
    "            duplicated_values_count[_name] = 0\n",
    "\n",
    "    df_missing_values_count = pd.DataFrame(missing_values_count.items(), columns = [\"DatasetName\", \"MissingValuesCount\"])\n",
    "    df_duplicated_values_count = pd.DataFrame(missing_values_count.items(), columns = [\"DatasetName\", \"DuplicatedValuesCount\"])\n",
    "    return df_missing_values_count.merge(df_duplicated_values_count, on = [\"DatasetName\"], how = \"inner\")\n",
    "df_flag_anomalies = flag_missing_duplicated_values(datasets_dictionnary)\n",
    "\n",
    "df_flag_anomalies"
   ]
  },
  {
   "cell_type": "markdown",
   "metadata": {},
   "source": [
    "We plot the numerical variables Home/Away Scores as well as the Home/Away Shots to potentially spot any outliers"
   ]
  },
  {
   "cell_type": "code",
   "execution_count": 6,
   "metadata": {},
   "outputs": [
    {
     "data": {
      "image/png": "[encoded data removed]",
      "text/plain": [
       "<Figure size 640x480 with 1 Axes>"
      ]
     },
     "metadata": {},
     "output_type": "display_data"
    }
   ],
   "source": [
    "sns.boxplot(data=results_data[[\"HomeScore\", \"AwayScore\"]])\n",
    "plt.show()"
   ]
  },
  {
   "cell_type": "code",
   "execution_count": 7,
   "metadata": {},
   "outputs": [
    {
     "data": {
      "image/png": "[encoded data removed]",
      "text/plain": [
       "<Figure size 640x480 with 1 Axes>"
      ]
     },
     "metadata": {},
     "output_type": "display_data"
    }
   ],
   "source": [
    "sns.boxplot(data=results_data[[\"HomeShots\", \"AwayShots\"]])\n",
    "plt.show()"
   ]
  },
  {
   "cell_type": "markdown",
   "metadata": {},
   "source": [
    "## Question 1: Which team won the league in the first season?"
   ]
  },
  {
   "cell_type": "markdown",
   "metadata": {},
   "source": [
    "### Add the team names to the results datasets using the TeamID for more clarity"
   ]
  },
  {
   "cell_type": "code",
   "execution_count": 8,
   "metadata": {},
   "outputs": [],
   "source": [
    "def add_team_name(df : pd.DataFrame, teams_data : pd.DataFrame) -> pd.DataFrame:\n",
    "    \"\"\"\n",
    "    Merge the results dataset with the team dataset to add the name of the playing teams for every fixture. \n",
    "    \"\"\"\n",
    "    df = df.merge(teams_data, left_on=\"HomeTeamID\", right_on = \"TeamID\", how=\"left\")\\\n",
    "        .rename(columns = {\"TeamName\" : \"HomeTeamName\"})\\\n",
    "            .drop(columns=\"TeamID\")\n",
    "\n",
    "    return df.merge(teams_data, left_on=\"AwayTeamID\", right_on = \"TeamID\", how=\"left\")\\\n",
    "        .rename(columns = {\"TeamName\" : \"AwayTeamName\"})\\\n",
    "            .drop(columns=\"TeamID\")\n",
    "\n",
    "results_data = add_team_name(results_data, teams_data)"
   ]
  },
  {
   "cell_type": "markdown",
   "metadata": {},
   "source": [
    "### Add the numbers of points scored in every game by both team\n",
    "- 3 for a win\n",
    "- 1 for a draw\n",
    "- 0 for a loss"
   ]
  },
  {
   "cell_type": "code",
   "execution_count": 9,
   "metadata": {},
   "outputs": [],
   "source": [
    "def add_points(score_team1 : int, score_team2 : int) -> int:\n",
    "    \"\"\"\n",
    "    Returns 3 points if Team 1 scored more goals than Team 2\n",
    "    1 point for a draw\n",
    "    0 points if Team 2 scored more goals than Team 1\n",
    "    \"\"\"\n",
    "    if score_team1>score_team2:\n",
    "        return 3\n",
    "    elif score_team1<score_team2:\n",
    "        return 0\n",
    "    else:\n",
    "        return 1\n",
    "## Creation of the variables HomePoints/AwayPoints which respectively represent the number of points earned by the Home and Away team in a game\n",
    "results_data[\"HomePoints\"] = results_data.apply(lambda x: add_points(x.HomeScore, x.AwayScore), axis=1)\n",
    "results_data[\"AwayPoints\"] = results_data.apply(lambda x: add_points(x.AwayScore, x.HomeScore), axis=1)"
   ]
  },
  {
   "cell_type": "markdown",
   "metadata": {},
   "source": [
    "Filtering out the results season 2 to calculate the final ranking of season 1"
   ]
  },
  {
   "cell_type": "code",
   "execution_count": null,
   "metadata": {},
   "outputs": [],
   "source": [
    "results_data = results_data[results_data[\"SeasonID\"]==1]"
   ]
  },
  {
   "cell_type": "markdown",
   "metadata": {},
   "source": [
    "### Create a table with every team for every weekgame as index\n",
    "We concatenate the results of the home and away teams into a single column for easier calculations.\n",
    "\n",
    "<!-- We introduce the variable home_boolean for the first time, which will be frequently used throughout the project. Since we often work with datasets for both home and away results, the calculations — though similar — do not always use the same variable names.\n",
    "\n",
    "- If home_boolean = True, the home dataset is used as input.\n",
    "- If home_boolean = False, the away dataset is used as input. -->"
   ]
  },
  {
   "cell_type": "code",
   "execution_count": null,
   "metadata": {},
   "outputs": [],
   "source": [
    "def melt_results_dataset(df : pd.DataFrame) -> pd.DataFrame:\n",
    "    \"\"\"\n",
    "    Concatenate the points scored for home and away into a single column PointsScored for easier calculations later on.\n",
    "    \"\"\"\n",
    "    df_team_home = pd.melt(df, id_vars = [\"HomeTeamID\", \"HomeTeamName\",\"Gameweek\"], value_vars = [\"HomePoints\"], value_name=\"PointsScored\")\\\n",
    "    .rename(columns={\"HomeTeamID\":\"TeamID\", \"HomeTeamName\":\"TeamName\"})\\\n",
    "    .drop(columns=\"variable\")\n",
    "\n",
    "    df_team_away = pd.melt(df, id_vars = [\"AwayTeamID\", \"AwayTeamName\",\"Gameweek\"], value_vars = [\"AwayPoints\"], value_name=\"PointsScored\")\\\n",
    "    .rename(columns={\"AwayTeamID\":\"TeamID\", \"AwayTeamName\":\"TeamName\"})\\\n",
    "    .drop(columns=\"variable\")\n",
    "    \n",
    "    return pd.concat((df_team_home, df_team_away)).sort_values([\"Gameweek\", \"TeamID\"], axis = 0)\n",
    "    \n",
    "df_all_team = melt_results_dataset(results_data)\n",
    "df_all_team"
   ]
  },
  {
   "cell_type": "markdown",
   "metadata": {},
   "source": [
    "### Sum all the points scored per team after throughout season 1 and get the final ranking"
   ]
  },
  {
   "cell_type": "code",
   "execution_count": null,
   "metadata": {},
   "outputs": [],
   "source": [
    "def generate_final_ranking(df : pd.DataFrame) -> pd.DataFrame:\n",
    "    \"\"\"\n",
    "    Generarte the final ranking of season by summing the total number of points scored by every team\n",
    "    throughout season 1. \n",
    "    \"\"\"\n",
    "    ## Aggregate per team and sum the total number of points scored by team\n",
    "    df_ranking_season = df.groupby([\"TeamID\", \"TeamName\"]).agg(\n",
    "        TotalPoints = (\"PointsScored\", \"sum\")\n",
    "    ).sort_values(by=\"TotalPoints\", ascending=False).reset_index()\n",
    "\n",
    "    ## Creation of a ranking variable\n",
    "    df_ranking_season[\"Ranking\"] = np.arange(1, len(df_ranking_season)+1)\n",
    "\n",
    "    return df_ranking_season\n",
    "\n",
    "df_ranking_season1 = generate_final_ranking(df_all_team)\n",
    "df_ranking_season1"
   ]
  },
  {
   "cell_type": "markdown",
   "metadata": {},
   "source": [
    "## Miami won the league the first season with a total of 138 points."
   ]
  },
  {
   "cell_type": "markdown",
   "metadata": {},
   "source": [
    "## Question 2: At what point in the season did that team secure their league title?"
   ]
  },
  {
   "cell_type": "markdown",
   "metadata": {},
   "source": [
    "According the Premier League official website:\n",
    "\n",
    "\n",
    "_\"If any clubs finish with the same number of points, their position in the Premier League table is determined by goal difference, then the number of goals scored, then the team who collected the most points in the head-to-head matches, then who scored most away goals in the head-to-head.\"_"
   ]
  },
  {
   "cell_type": "markdown",
   "metadata": {},
   "source": [
    "As it is impossible to predict the final goal difference, we will consider that a team has secured their title when their number of points exceeds the number of points of the second-placed team plus the maximum possible points remaining to be earned."
   ]
  },
  {
   "cell_type": "markdown",
   "metadata": {},
   "source": [
    "### Calculate the number of maximum points left to score for every gameweek"
   ]
  },
  {
   "cell_type": "code",
   "execution_count": null,
   "metadata": {},
   "outputs": [],
   "source": [
    "def left_points_to_score(df : pd.DataFrame) -> pd.DataFrame:\n",
    "    \"\"\"\n",
    "    Calculate the number of possible points to score for every gameweek (i.e. considering a team would win every game left). \n",
    "    e.g.: If there are 10 games left: 10*3 = 30 points possible. \n",
    "    \"\"\"\n",
    "    df_all_team[\"MaxPointsLeft\"] = df_all_team.Gameweek.max()*3 - df_all_team.Gameweek*3\n",
    "    return df_all_team\n",
    "df_all_team = left_points_to_score(df_all_team)"
   ]
  },
  {
   "cell_type": "markdown",
   "metadata": {},
   "source": [
    "### Calculate the number of total points for every team at every gameweek"
   ]
  },
  {
   "cell_type": "code",
   "execution_count": null,
   "metadata": {},
   "outputs": [],
   "source": [
    "def cumulative_points_gameweek(df : pd.DataFrame) -> pd.DataFrame:\n",
    "    \"\"\"\n",
    "    Calculate the number of total points for every team at every gameweek.\n",
    "    \"\"\"\n",
    "    df[\"CumulativePoints\"] = df.sort_values(by=[\"Gameweek\", \"TeamID\"]).groupby([\"TeamID\", \"TeamName\"])[\"PointsScored\"].cumsum().values\n",
    "    return df\n",
    "df_all_team = cumulative_points_gameweek(df_all_team)\n",
    "df_all_team"
   ]
  },
  {
   "cell_type": "markdown",
   "metadata": {},
   "source": [
    "### Add the cumulative number of points of the winner throughout the season "
   ]
  },
  {
   "cell_type": "code",
   "execution_count": null,
   "metadata": {},
   "outputs": [],
   "source": [
    "def cumulative_points_gameweek_winner(df, winner_id = 15):\n",
    "    \"\"\"\n",
    "    Add the cumulative number of points of the winner throughout the season.\n",
    "    \"\"\"\n",
    "    return df.merge(df[df[\"TeamID\"]==winner_id][[\"Gameweek\", \"CumulativePoints\"]], on=\"Gameweek\", suffixes=((\"\", \"Winner\")))\n",
    "\n",
    "df_all_team = cumulative_points_gameweek_winner(df_all_team)\n",
    "df_all_team"
   ]
  },
  {
   "cell_type": "markdown",
   "metadata": {},
   "source": [
    "### Calculate the difference of points between the winning team and every other team at every gameweek"
   ]
  },
  {
   "cell_type": "code",
   "execution_count": null,
   "metadata": {},
   "outputs": [],
   "source": [
    "def points_difference_teams(df : pd.DataFrame) -> pd.DataFrame:\n",
    "    \"\"\"\n",
    "    Calculate the difference of points between the winning team and every other team at every gameweek and \n",
    "    include and boolean variable when the difference of points with the winner exceeds the maximum number of points possible to score.\n",
    "    \"\"\"\n",
    "    ## Difference of points between the winning team and the other teams\n",
    "    df[\"DiffPointsWinner\"] = df[\"CumulativePointsWinner\"] - df[\"CumulativePoints\"]\n",
    "    \n",
    "    ## Flag whenever a team will not be able to score more points than the winning team by the end of season 1\n",
    "    df[\"CatchUpPossible\"] = df.apply(lambda x: 1 if x.DiffPointsWinner>x.MaxPointsLeft else 0, axis = 1)\n",
    "    return df\n",
    "df_all_team = points_difference_teams(df_all_team)\n",
    "df_all_team"
   ]
  },
  {
   "cell_type": "markdown",
   "metadata": {},
   "source": [
    "### Find the first time every team will not be able to catch up with the winner"
   ]
  },
  {
   "cell_type": "code",
   "execution_count": null,
   "metadata": {},
   "outputs": [],
   "source": [
    "def find_winning_game_week(df, nbre_teams = len(teams_data)-1):\n",
    "    \"\"\"\n",
    "    We sum the value of the boolean CatchUpPossible. If the sum is equal to the number of teams minus 1 (as the winner does not count)\n",
    "    then we can confirm that the season 1 winner won the league at the corresponding gameweek.\n",
    "    \"\"\"\n",
    "    ## Sum all the CatchUpPossible boolean per gameweek\n",
    "    series_catchup_gameweek = df_all_team.groupby(\"Gameweek\")[\"CatchUpPossible\"].sum()\n",
    "\n",
    "    ## Iterate to find when the sum is equal to number of teams - 1\n",
    "    for pos, value in series_catchup_gameweek.items():\n",
    "        if value == nbre_teams:\n",
    "            return pos\n",
    "        else:\n",
    "            continue\n",
    "winning_gameweek = find_winning_game_week(df_all_team)\n",
    "\n",
    "print(f\"Miami secured their league title at gameweek {winning_gameweek}!\")"
   ]
  },
  {
   "cell_type": "markdown",
   "metadata": {},
   "source": [
    "Indeed, we see that at gameweek 50, Cincinnati was 13 points behind with 4 games left to play, so 12 points maximum to score."
   ]
  },
  {
   "cell_type": "code",
   "execution_count": null,
   "metadata": {},
   "outputs": [],
   "source": [
    "df_all_team[df_all_team[\"Gameweek\"]==50]"
   ]
  },
  {
   "cell_type": "markdown",
   "metadata": {},
   "source": [
    "## Question 3: What result was the biggest upset?"
   ]
  },
  {
   "cell_type": "markdown",
   "metadata": {},
   "source": [
    "### Add the odds of every game to the results dataset."
   ]
  },
  {
   "cell_type": "code",
   "execution_count": null,
   "metadata": {},
   "outputs": [],
   "source": [
    "def odds_results_merger(df_results : pd.DataFrame, df_odds : pd.DataFrame) -> pd.DataFrame:\n",
    "    \"\"\"\n",
    "    Add the odds of every game to the results dataset.\n",
    "    \"\"\"\n",
    "    return df_results.merge(df_odds, on=\"MatchID\", how=\"left\")\n",
    "results_data_odds = odds_results_merger(results_data, odds_data)"
   ]
  },
  {
   "cell_type": "markdown",
   "metadata": {},
   "source": [
    "### Check whether Home/Draw/Away odds are similar for a game.\n",
    "We want to identify similar odds so we can properly flag \"an upset\". \n",
    "e.g.: if a win and a draw of the home team have the same odd and the teams actually drew. We might encounter a problem since since the model could only consider a win as the right prediction and flag that as un upset."
   ]
  },
  {
   "cell_type": "code",
   "execution_count": null,
   "metadata": {},
   "outputs": [],
   "source": [
    "def check_similar_odds(HomeOdd : float, DrawOdd : float, AwayOdd : float) -> int:\n",
    "    \"\"\"\n",
    "    Check whether two or more odds are similar for a game. \n",
    "    \"\"\"\n",
    "    if HomeOdd==DrawOdd:\n",
    "        return 1\n",
    "    if AwayOdd==DrawOdd:\n",
    "        return 1\n",
    "    if HomeOdd==DrawOdd:\n",
    "        return 1\n",
    "    else:\n",
    "        return 0\n",
    "    \n",
    "results_data_odds[\"SimilarOdds\"] = results_data_odds.apply(lambda x: check_similar_odds(x.Home, x.Draw, x.Away), axis=1)\n",
    "results_data_odds[results_data_odds[\"SimilarOdds\"]==1]"
   ]
  },
  {
   "cell_type": "markdown",
   "metadata": {},
   "source": [
    "### Odds encoding:\n",
    "- 0 for the Home Team to win\n",
    "- 1 for a draw\n",
    "- 2 for the Away Team to win\n",
    "\n",
    "We create a feature OddEncoded containing a list of the predicted game outcomes for every game in case two or more odds are similar."
   ]
  },
  {
   "cell_type": "code",
   "execution_count": null,
   "metadata": {},
   "outputs": [],
   "source": [
    "def encode_odds(HomeOdd : float, DrawOdd : float, AwayOdd : float):\n",
    "    \"\"\"\n",
    "    Encode the odds using 0, 1, 2 as Home Win, Draw, Away Win by returning the argmin of the minimum odd. \n",
    "    \"\"\"\n",
    "    odds_values = np.array([HomeOdd, DrawOdd, AwayOdd])\n",
    "    return np.where(odds_values == odds_values.min())[0]\n",
    "\n",
    "results_data_odds[\"OddEncoded\"] = results_data_odds.apply(lambda x: encode_odds(x.Home, x.Draw, x.Away), axis=1)\n",
    "results_data_odds"
   ]
  },
  {
   "cell_type": "markdown",
   "metadata": {},
   "source": [
    "### Results encoding using the same system as for the odds encoding"
   ]
  },
  {
   "cell_type": "code",
   "execution_count": null,
   "metadata": {},
   "outputs": [],
   "source": [
    "def encode_results(HomeScore : int, AwayScore : int) -> int:\n",
    "    \"\"\"\n",
    "    Encode the results using 0, 1, 2 as Home Win, Draw, Away Win by comapring the number of goals scored during a game.  \n",
    "    \"\"\"\n",
    "    if HomeScore>AwayScore:\n",
    "        return 0\n",
    "    elif HomeScore<AwayScore:\n",
    "        return 2 \n",
    "    else:\n",
    "        return 1\n",
    "    \n",
    "results_data_odds[\"ResultEncoded\"] = results_data_odds.apply(lambda x: encode_results(x.HomeScore, x.AwayScore), axis=1)"
   ]
  },
  {
   "cell_type": "code",
   "execution_count": null,
   "metadata": {},
   "outputs": [],
   "source": [
    "def flag_upset(df : pd.DataFrame) -> pd.DataFrame:\n",
    "    \"\"\"\n",
    "    Flag an upset when the game outcome predicted by the odds does not match the real outcome. \n",
    "    \"\"\"\n",
    "    df[\"Upset\"] = df.apply(lambda x: 0 if x.ResultEncoded in x.OddEncoded else 1, axis=1)\n",
    "    return df\n",
    "\n",
    "results_data_odds = flag_upset(results_data_odds) "
   ]
  },
  {
   "cell_type": "markdown",
   "metadata": {},
   "source": [
    "### Find biggest upset using the list of upset and the highest unexpected odd \n",
    "- Filter dataset for game considered as an \"upset\" as the odds did not predict the right outcome\n",
    "- Find the odd corresponding to the real outcome of the game\n",
    "- Find the highest value of the odds which then represents the biggest upset according to bookmakers"
   ]
  },
  {
   "cell_type": "code",
   "execution_count": null,
   "metadata": {},
   "outputs": [],
   "source": [
    "def find_right_odd(df : pd.DataFrame) -> pd.DataFrame:\n",
    "    \"\"\"\n",
    "    Return in a new column the odd of the real game outcome.\n",
    "    e.g.: if Home Win odd = 1.47 and the Home Team indeed won, RightOdd = 1.47. \n",
    "    \"\"\"\n",
    "    df[\"RightOdd\"] = df.apply(lambda x: [x.Home, x.Draw, x.Away][int(x.ResultEncoded)], axis = 1)\n",
    "    return df\n",
    "results_data_odds = find_right_odd(results_data_odds)"
   ]
  },
  {
   "cell_type": "markdown",
   "metadata": {},
   "source": [
    "Find the game considered as an upset with the highest odd associated to the real outcome"
   ]
  },
  {
   "cell_type": "code",
   "execution_count": null,
   "metadata": {},
   "outputs": [],
   "source": [
    "biggest_upset=results_data_odds[results_data_odds[\"RightOdd\"] == results_data_odds[results_data_odds[\"Upset\"]==1][\"RightOdd\"].max()]"
   ]
  },
  {
   "cell_type": "code",
   "execution_count": null,
   "metadata": {},
   "outputs": [],
   "source": [
    "with pd.option_context('display.max_rows', 5, 'display.max_columns', None): \n",
    "    display(biggest_upset)"
   ]
  },
  {
   "cell_type": "markdown",
   "metadata": {},
   "source": [
    "The biggest uspet happened at gameweek 12. \n",
    "- Home team is Miami, away team is Milwaukee. \n",
    "- The odd for Miami to win was 1.03, the draw was at 23.35 and for Milwaukee to win at 75.22. \n",
    "\n",
    "- The final outcome is a draw, which had a predicted probability of:\n",
    "$$\\frac{1}{23.35} = 4.28\\%$$\n",
    "\n",
    "We can actually see that Miami wasn't really lethal as they shot 38 times and scored 3 goals only against 3 goals, 10 shots for Milwaukee."
   ]
  }
 ],
 "metadata": {
  "kernelspec": {
   "display_name": "env",
   "language": "python",
   "name": "python3"
  },
  "language_info": {
   "codemirror_mode": {
    "name": "ipython",
    "version": 3
   },
   "file_extension": ".py",
   "mimetype": "text/x-python",
   "name": "python",
   "nbconvert_exporter": "python",
   "pygments_lexer": "ipython3",
   "version": "3.10.12"
  }
 },
 "nbformat": 4,
 "nbformat_minor": 2
}

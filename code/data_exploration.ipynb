{
 "cells": [
  {
   "cell_type": "code",
   "execution_count": null,
   "metadata": {},
   "outputs": [],
   "source": [
    "import pandas as pd\n",
    "import numpy as np\n",
    "import utils as ut\n",
    "import os\n",
    "from matplotlib import pyplot as plt"
   ]
  },
  {
   "cell_type": "code",
   "execution_count": null,
   "metadata": {},
   "outputs": [],
   "source": [
    "FILES_PATH = \"./data/\""
   ]
  },
  {
   "cell_type": "markdown",
   "metadata": {},
   "source": [
    "Even though a notebook is not a viable solution for any porduction-ready code, I decided to use a notebook to implement my code and present the results for the first part of the assignement. It makes things easy to assess, it is easier to comment and discuss results as well as present."
   ]
  },
  {
   "cell_type": "markdown",
   "metadata": {},
   "source": [
    "### Import datasets"
   ]
  },
  {
   "cell_type": "code",
   "execution_count": null,
   "metadata": {},
   "outputs": [],
   "source": [
    "fixtures_data = pd.read_csv(f\"{FILES_PATH}fixtures.csv\", delimiter=\",\")\n",
    "odds_data = pd.read_csv(f\"{FILES_PATH}odds.csv\", delimiter=\",\")\n",
    "players_data = pd.read_csv(f\"{FILES_PATH}players.csv\", delimiter=\",\")\n",
    "results_data = pd.read_csv(f\"{FILES_PATH}results.csv\", delimiter=\",\")\n",
    "startingXI_data = pd.read_csv(f\"{FILES_PATH}startingXI.csv\", delimiter=\",\")\n",
    "teams_data = pd.read_csv(f\"{FILES_PATH}teams.csv\", delimiter=\",\")"
   ]
  },
  {
   "cell_type": "markdown",
   "metadata": {},
   "source": [
    "# Data exploration"
   ]
  },
  {
   "cell_type": "markdown",
   "metadata": {},
   "source": [
    "# Question 1: Which team won the league in the first season?"
   ]
  },
  {
   "cell_type": "markdown",
   "metadata": {},
   "source": [
    "### Merge results and team names"
   ]
  },
  {
   "cell_type": "code",
   "execution_count": null,
   "metadata": {},
   "outputs": [],
   "source": [
    "results_data = results_data.merge(teams_data, left_on=\"HomeTeamID\", right_on = \"TeamID\", how=\"left\")\\\n",
    "    .rename(columns = {\"TeamName\" : \"HomeTeamName\"})\\\n",
    "        .drop(columns=\"TeamID\")\n",
    "\n",
    "results_data = results_data.merge(teams_data, left_on=\"AwayTeamID\", right_on = \"TeamID\", how=\"left\")\\\n",
    "    .rename(columns = {\"TeamName\" : \"AwayTeamName\"})\\\n",
    "        .drop(columns=\"TeamID\")"
   ]
  },
  {
   "cell_type": "markdown",
   "metadata": {},
   "source": [
    "### Add the numbers of points scored for every game\n",
    "- 3 for a win\n",
    "- 1 for a draw\n",
    "- 0 for a loss"
   ]
  },
  {
   "cell_type": "code",
   "execution_count": null,
   "metadata": {},
   "outputs": [],
   "source": [
    "def add_points(score_team1, score_team2):\n",
    "    if score_team1>score_team2:\n",
    "        return 3\n",
    "    elif score_team1<score_team2:\n",
    "        return 0\n",
    "    else:\n",
    "        return 1"
   ]
  },
  {
   "cell_type": "code",
   "execution_count": null,
   "metadata": {},
   "outputs": [],
   "source": [
    "results_data[\"HomePoints\"] = results_data.apply(lambda x: add_points(x.HomeScore, x.AwayScore), axis=1)\n",
    "results_data[\"AwayPoints\"] = results_data.apply(lambda x: add_points(x.AwayScore, x.HomeScore), axis=1)"
   ]
  },
  {
   "cell_type": "code",
   "execution_count": null,
   "metadata": {},
   "outputs": [],
   "source": [
    "results_data_season1 = results_data[results_data[\"SeasonID\"]==1]"
   ]
  },
  {
   "cell_type": "markdown",
   "metadata": {},
   "source": [
    "### Create a table with every team for every weekgame as index"
   ]
  },
  {
   "cell_type": "code",
   "execution_count": null,
   "metadata": {},
   "outputs": [],
   "source": [
    "df_home_team = pd.melt(results_data_season1, id_vars = [\"HomeTeamID\", \"HomeTeamName\",\"Gameweek\"], value_vars = [\"HomePoints\"], value_name=\"PointsScored\")\\\n",
    ".rename(columns={\"HomeTeamID\":\"TeamID\", \"HomeTeamName\":\"TeamName\"})\\\n",
    ".drop(columns=\"variable\")\n",
    "\n",
    "df_away_team = pd.melt(results_data_season1, id_vars = [\"AwayTeamID\", \"AwayTeamName\",\"Gameweek\"], value_vars = [\"AwayPoints\"], value_name=\"PointsScored\")\\\n",
    ".rename(columns={\"AwayTeamID\":\"TeamID\", \"AwayTeamName\":\"TeamName\"})\\\n",
    ".drop(columns=\"variable\")"
   ]
  },
  {
   "cell_type": "code",
   "execution_count": null,
   "metadata": {},
   "outputs": [],
   "source": [
    "df_all_team = pd.concat((df_home_team, df_away_team)).sort_values([\"Gameweek\", \"TeamID\"])"
   ]
  },
  {
   "cell_type": "markdown",
   "metadata": {},
   "source": [
    "### Sum all the points scored and get the final table for season 1"
   ]
  },
  {
   "cell_type": "code",
   "execution_count": null,
   "metadata": {},
   "outputs": [],
   "source": [
    "df_ranking_season1 = df_all_team.groupby([\"TeamID\", \"TeamName\"]).agg(\n",
    "    TotalPoints = (\"PointsScored\", \"sum\")\n",
    ").sort_values(by=\"TotalPoints\", ascending=False).reset_index()\n",
    "\n",
    "df_ranking_season1[\"Ranking\"] = np.arange(1, len(df_ranking_season1)+1)"
   ]
  },
  {
   "cell_type": "markdown",
   "metadata": {},
   "source": [
    "# Question 2: At what point in the season did that team secure their league title?"
   ]
  },
  {
   "cell_type": "markdown",
   "metadata": {},
   "source": [
    "According the Premier League official website:\n",
    "\n",
    "\n",
    "If any clubs finish with the same number of points, their position in the Premier League table is determined by goal difference, then the number of goals scored, then the team who collected the most points in the head-to-head matches, then who scored most away goals in the head-to-head. "
   ]
  },
  {
   "cell_type": "markdown",
   "metadata": {},
   "source": [
    "As it is impossible to predict the final goal difference, we will consider that the winner secured their title with certitude when their number of points is higher than the number of points of the 2nd plus the maximum number points left to score. "
   ]
  },
  {
   "cell_type": "markdown",
   "metadata": {},
   "source": [
    "### Calculate the number of maximum points left to score for every gameweek"
   ]
  },
  {
   "cell_type": "code",
   "execution_count": null,
   "metadata": {},
   "outputs": [],
   "source": [
    "df_all_team[\"MaxPointsLeft\"] = df_all_team.Gameweek.max()*3 - df_all_team.Gameweek*3"
   ]
  },
  {
   "cell_type": "markdown",
   "metadata": {},
   "source": [
    "### Calculate the number of total points for every team for every gameweek"
   ]
  },
  {
   "cell_type": "code",
   "execution_count": null,
   "metadata": {},
   "outputs": [],
   "source": [
    "df_all_team[\"CumulativePoints\"] = df_all_team.sort_values(by=[\"Gameweek\", \"TeamID\"]).groupby([\"TeamID\", \"TeamName\"])[\"PointsScored\"].cumsum().values"
   ]
  },
  {
   "cell_type": "code",
   "execution_count": null,
   "metadata": {},
   "outputs": [],
   "source": [
    "df_all_team = df_all_team.merge(df_all_team[df_all_team[\"TeamID\"]==15][[\"Gameweek\", \"CumulativePoints\"]], on=\"Gameweek\", suffixes=((\"\", \"Winner\")))"
   ]
  },
  {
   "cell_type": "markdown",
   "metadata": {},
   "source": [
    "### Calculate the difference of points between the winning team for each team at every gameweek"
   ]
  },
  {
   "cell_type": "code",
   "execution_count": null,
   "metadata": {},
   "outputs": [],
   "source": [
    "df_all_team[\"DiffPointsWinner\"] = df_all_team[\"CumulativePointsWinner\"] - df_all_team[\"CumulativePoints\"]\n",
    "df_all_team[\"DiffPossiblePoints\"] = df_all_team.apply(lambda x: 1 if x.DiffPointsWinner>x.MaxPointsLeft else 0, axis = 1)"
   ]
  },
  {
   "cell_type": "markdown",
   "metadata": {},
   "source": [
    "### Find the first time when the 2nd of the league could not catch up with the winner"
   ]
  },
  {
   "cell_type": "code",
   "execution_count": null,
   "metadata": {},
   "outputs": [],
   "source": [
    "df_all_team[\"PossibleMaxPoints\"] = df_all_team[\"CumulativePoints\"]+df_all_team[\"MaxPointsLeft\"]"
   ]
  },
  {
   "cell_type": "code",
   "execution_count": null,
   "metadata": {},
   "outputs": [],
   "source": [
    "df_plot1 = df_all_team[df_all_team[\"TeamID\"]==8]\n",
    "df_plot2 = df_all_team[df_all_team[\"TeamID\"]==4]\n",
    "df_plot3 = df_all_team[df_all_team[\"TeamID\"]==19]\n",
    "df_plot4 = df_all_team[df_all_team[\"TeamID\"]==5]\n",
    "\n",
    "x = np.arange(1, len(df_plot1)+1)\n",
    "plt.plot(x, df_plot1.CumulativePointsWinner)\n",
    "plt.plot(x, df_plot1.PossibleMaxPoints)\n",
    "plt.plot(x, df_plot2.PossibleMaxPoints)\n",
    "plt.plot(x, df_plot3.PossibleMaxPoints)\n",
    "plt.plot(x, df_plot4.PossibleMaxPoints)"
   ]
  },
  {
   "cell_type": "markdown",
   "metadata": {},
   "source": [
    "# Question 3: What result was the biggest upset?"
   ]
  },
  {
   "cell_type": "code",
   "execution_count": null,
   "metadata": {},
   "outputs": [],
   "source": [
    "fixtures_data = pd.read_csv(f\"{FILES_PATH}fixtures.csv\", delimiter=\",\")\n",
    "odds_data = pd.read_csv(f\"{FILES_PATH}odds.csv\", delimiter=\",\")\n",
    "players_data = pd.read_csv(f\"{FILES_PATH}players.csv\", delimiter=\",\")\n",
    "results_data = pd.read_csv(f\"{FILES_PATH}results.csv\", delimiter=\",\")\n",
    "startingXI_data = pd.read_csv(f\"{FILES_PATH}startingXI.csv\", delimiter=\",\")\n",
    "teams_data = pd.read_csv(f\"{FILES_PATH}teams.csv\", delimiter=\",\")"
   ]
  },
  {
   "cell_type": "code",
   "execution_count": null,
   "metadata": {},
   "outputs": [],
   "source": [
    "results_data_odds = results_data.merge(odds_data, on=\"MatchID\", how=\"left\")"
   ]
  },
  {
   "cell_type": "code",
   "execution_count": null,
   "metadata": {},
   "outputs": [],
   "source": [
    "def check_similar_odds(HomeOdd, DrawOdd, AwayOdd):\n",
    "    if HomeOdd==DrawOdd:\n",
    "        return 1\n",
    "    if AwayOdd==DrawOdd:\n",
    "        return 1\n",
    "    if HomeOdd==DrawOdd:\n",
    "        return 1\n",
    "    else:\n",
    "        return 0\n",
    "    \n",
    "results_data_odds[\"SimilarOdds\"] = results_data_odds.apply(lambda x: check_similar_odds(x.Home, x.Draw, x.Away), axis=1)\n",
    "results_data_odds[results_data_odds[\"SimilarOdds\"]==1]"
   ]
  },
  {
   "cell_type": "code",
   "execution_count": null,
   "metadata": {},
   "outputs": [],
   "source": [
    "def encode_odds(HomeOdd, DrawOdd, AwayOdd):\n",
    "    odds_values = np.array([HomeOdd, DrawOdd, AwayOdd])\n",
    "    return np.where(odds_values == odds_values.min())[0]"
   ]
  },
  {
   "cell_type": "code",
   "execution_count": null,
   "metadata": {},
   "outputs": [],
   "source": [
    "results_data_odds[\"OddEncoded\"] = results_data_odds.apply(lambda x: encode_odds(x.Home, x.Draw, x.Away), axis=1)"
   ]
  },
  {
   "cell_type": "code",
   "execution_count": null,
   "metadata": {},
   "outputs": [],
   "source": [
    "def encode_results(HomeScore, AwayScore):\n",
    "    if HomeScore>AwayScore:\n",
    "        return 0\n",
    "    elif HomeScore<AwayScore:\n",
    "        return 2 \n",
    "    else:\n",
    "        return 1"
   ]
  },
  {
   "cell_type": "code",
   "execution_count": null,
   "metadata": {},
   "outputs": [],
   "source": [
    "results_data_odds[\"ResultEncoded\"] = results_data_odds.apply(lambda x: encode_results(x.HomeScore, x.AwayScore), axis=1)"
   ]
  },
  {
   "cell_type": "code",
   "execution_count": null,
   "metadata": {},
   "outputs": [],
   "source": [
    "results_data_odds[\"Upset\"] = results_data_odds.apply(lambda x: 0 if x.ResultEncoded in x.OddEncoded else 1, axis=1)"
   ]
  },
  {
   "cell_type": "code",
   "execution_count": null,
   "metadata": {},
   "outputs": [],
   "source": [
    "results_data_odds[results_data_odds[\"Upset\"]==1]\n",
    "\n",
    "results_data_odds[\"WinningOdd\"] = results_data_odds.apply(lambda x: [x.Home, x.Draw, x.Away][int(x.ResultEncoded)], axis = 1)"
   ]
  },
  {
   "cell_type": "code",
   "execution_count": null,
   "metadata": {},
   "outputs": [],
   "source": [
    "results_data_odds[results_data_odds[\"WinningOdd\"] == results_data_odds[results_data_odds[\"Upset\"]==1][\"WinningOdd\"].max()]"
   ]
  }
 ],
 "metadata": {
  "kernelspec": {
   "display_name": "env",
   "language": "python",
   "name": "python3"
  },
  "language_info": {
   "codemirror_mode": {
    "name": "ipython",
    "version": 3
   },
   "file_extension": ".py",
   "mimetype": "text/x-python",
   "name": "python",
   "nbconvert_exporter": "python",
   "pygments_lexer": "ipython3",
   "version": "3.10.12"
  }
 },
 "nbformat": 4,
 "nbformat_minor": 2
}

{
 "cells": [
  {
   "cell_type": "code",
   "execution_count": 26,
   "metadata": {},
   "outputs": [],
   "source": [
    "import pandas as pd\n",
    "import numpy as np\n",
    "import os\n",
    "from matplotlib import pyplot as plt\n",
    "import seaborn as sns"
   ]
  },
  {
   "cell_type": "code",
   "execution_count": 27,
   "metadata": {},
   "outputs": [],
   "source": [
    "FILES_PATH = \"/home/guillaume/pythia/code/data/\""
   ]
  },
  {
   "cell_type": "markdown",
   "metadata": {},
   "source": [
    "Even though a notebook is not a viable solution for any porduction-ready code, I decided to use a notebook to implement my code and present the results for the first part of the assignement. It makes things easy to assess, it is easier to comment and discuss results as well as present."
   ]
  },
  {
   "cell_type": "markdown",
   "metadata": {},
   "source": [
    "### Import datasets"
   ]
  },
  {
   "cell_type": "code",
   "execution_count": 28,
   "metadata": {},
   "outputs": [],
   "source": [
    "fixtures_data = pd.read_csv(f\"{FILES_PATH}fixtures.csv\", delimiter=\",\")\n",
    "odds_data = pd.read_csv(f\"{FILES_PATH}odds.csv\", delimiter=\",\")\n",
    "players_data = pd.read_csv(f\"{FILES_PATH}players.csv\", delimiter=\",\")\n",
    "results_data = pd.read_csv(f\"{FILES_PATH}results.csv\", delimiter=\",\")\n",
    "startingXI_data = pd.read_csv(f\"{FILES_PATH}startingXI.csv\", delimiter=\",\")\n",
    "teams_data = pd.read_csv(f\"{FILES_PATH}teams.csv\", delimiter=\",\")"
   ]
  },
  {
   "cell_type": "code",
   "execution_count": 29,
   "metadata": {},
   "outputs": [],
   "source": [
    "dict_datasets = {\"fixture\" : fixtures_data, \"odds\" : odds_data, \"players\" : players_data, \"results\" : results_data, \"startingXI\" : startingXI_data, \"teams\" : teams_data}"
   ]
  },
  {
   "cell_type": "markdown",
   "metadata": {},
   "source": [
    "# Exploring the first season"
   ]
  },
  {
   "cell_type": "markdown",
   "metadata": {},
   "source": [
    "# Data exploration and cleaning\n",
    "Exploring the dataset and cleaning the data if needed"
   ]
  },
  {
   "cell_type": "code",
   "execution_count": 30,
   "metadata": {},
   "outputs": [],
   "source": [
    "missing_values_dataset = {}\n",
    "duplicated_values_dataset = {}\n",
    "\n",
    "for _name, _dataset in dict_datasets.items():\n",
    "    if _dataset.isnull().sum().any():\n",
    "        missing_values_dataset[_name] = 1\n",
    "    else:\n",
    "        missing_values_dataset[_name] = 0\n",
    "\n",
    "    if _dataset.duplicated().any():\n",
    "        duplicated_values_dataset[_name] = 1\n",
    "    else:\n",
    "        duplicated_values_dataset[_name] = 0"
   ]
  },
  {
   "cell_type": "code",
   "execution_count": 32,
   "metadata": {},
   "outputs": [
    {
     "data": {
      "image/png": "[encoded data removed]",
      "text/plain": [
       "<Figure size 640x480 with 1 Axes>"
      ]
     },
     "metadata": {},
     "output_type": "display_data"
    }
   ],
   "source": [
    "sns.boxplot(data=results_data[['HomeScore', 'AwayScore']])\n",
    "plt.show()"
   ]
  },
  {
   "cell_type": "markdown",
   "metadata": {},
   "source": [
    "## Question 1: Which team won the league in the first season?"
   ]
  },
  {
   "cell_type": "markdown",
   "metadata": {},
   "source": [
    "### Merge results and team names"
   ]
  },
  {
   "cell_type": "code",
   "execution_count": 4,
   "metadata": {},
   "outputs": [],
   "source": [
    "results_data = results_data.merge(teams_data, left_on=\"HomeTeamID\", right_on = \"TeamID\", how=\"left\")\\\n",
    "    .rename(columns = {\"TeamName\" : \"HomeTeamName\"})\\\n",
    "        .drop(columns=\"TeamID\")\n",
    "\n",
    "results_data = results_data.merge(teams_data, left_on=\"AwayTeamID\", right_on = \"TeamID\", how=\"left\")\\\n",
    "    .rename(columns = {\"TeamName\" : \"AwayTeamName\"})\\\n",
    "        .drop(columns=\"TeamID\")"
   ]
  },
  {
   "cell_type": "markdown",
   "metadata": {},
   "source": [
    "### Add the numbers of points scored for every game\n",
    "- 3 for a win\n",
    "- 1 for a draw\n",
    "- 0 for a loss"
   ]
  },
  {
   "cell_type": "code",
   "execution_count": 6,
   "metadata": {},
   "outputs": [],
   "source": [
    "def add_points(score_team1, score_team2):\n",
    "    if score_team1>score_team2:\n",
    "        return 3\n",
    "    elif score_team1<score_team2:\n",
    "        return 0\n",
    "    else:\n",
    "        return 1"
   ]
  },
  {
   "cell_type": "code",
   "execution_count": 7,
   "metadata": {},
   "outputs": [],
   "source": [
    "results_data[\"HomePoints\"] = results_data.apply(lambda x: add_points(x.HomeScore, x.AwayScore), axis=1)\n",
    "results_data[\"AwayPoints\"] = results_data.apply(lambda x: add_points(x.AwayScore, x.HomeScore), axis=1)"
   ]
  },
  {
   "cell_type": "code",
   "execution_count": 8,
   "metadata": {},
   "outputs": [],
   "source": [
    "results_data_season1 = results_data[results_data[\"SeasonID\"]==1]"
   ]
  },
  {
   "cell_type": "markdown",
   "metadata": {},
   "source": [
    "### Create a table with every team for every weekgame as index"
   ]
  },
  {
   "cell_type": "code",
   "execution_count": 9,
   "metadata": {},
   "outputs": [],
   "source": [
    "df_home_team = pd.melt(results_data_season1, id_vars = [\"HomeTeamID\", \"HomeTeamName\",\"Gameweek\"], value_vars = [\"HomePoints\"], value_name=\"PointsScored\")\\\n",
    ".rename(columns={\"HomeTeamID\":\"TeamID\", \"HomeTeamName\":\"TeamName\"})\\\n",
    ".drop(columns=\"variable\")\n",
    "\n",
    "df_away_team = pd.melt(results_data_season1, id_vars = [\"AwayTeamID\", \"AwayTeamName\",\"Gameweek\"], value_vars = [\"AwayPoints\"], value_name=\"PointsScored\")\\\n",
    ".rename(columns={\"AwayTeamID\":\"TeamID\", \"AwayTeamName\":\"TeamName\"})\\\n",
    ".drop(columns=\"variable\")"
   ]
  },
  {
   "cell_type": "code",
   "execution_count": 10,
   "metadata": {},
   "outputs": [],
   "source": [
    "df_all_team = pd.concat((df_home_team, df_away_team)).sort_values([\"Gameweek\", \"TeamID\"])"
   ]
  },
  {
   "cell_type": "markdown",
   "metadata": {},
   "source": [
    "### Sum all the points scored and get the final table for season 1"
   ]
  },
  {
   "cell_type": "code",
   "execution_count": 11,
   "metadata": {},
   "outputs": [],
   "source": [
    "df_ranking_season1 = df_all_team.groupby([\"TeamID\", \"TeamName\"]).agg(\n",
    "    TotalPoints = (\"PointsScored\", \"sum\")\n",
    ").sort_values(by=\"TotalPoints\", ascending=False).reset_index()\n",
    "\n",
    "df_ranking_season1[\"Ranking\"] = np.arange(1, len(df_ranking_season1)+1)"
   ]
  },
  {
   "cell_type": "code",
   "execution_count": 12,
   "metadata": {},
   "outputs": [
    {
     "data": {
      "text/html": [
       "<div>\n",
       "<style scoped>\n",
       "    .dataframe tbody tr th:only-of-type {\n",
       "        vertical-align: middle;\n",
       "    }\n",
       "\n",
       "    .dataframe tbody tr th {\n",
       "        vertical-align: top;\n",
       "    }\n",
       "\n",
       "    .dataframe thead th {\n",
       "        text-align: right;\n",
       "    }\n",
       "</style>\n",
       "<table border=\"1\" class=\"dataframe\">\n",
       "  <thead>\n",
       "    <tr style=\"text-align: right;\">\n",
       "      <th></th>\n",
       "      <th>TeamID</th>\n",
       "      <th>TeamName</th>\n",
       "      <th>TotalPoints</th>\n",
       "      <th>Ranking</th>\n",
       "    </tr>\n",
       "  </thead>\n",
       "  <tbody>\n",
       "    <tr>\n",
       "      <th>0</th>\n",
       "      <td>15</td>\n",
       "      <td>Miami</td>\n",
       "      <td>138</td>\n",
       "      <td>1</td>\n",
       "    </tr>\n",
       "    <tr>\n",
       "      <th>1</th>\n",
       "      <td>8</td>\n",
       "      <td>Cincinnati</td>\n",
       "      <td>125</td>\n",
       "      <td>2</td>\n",
       "    </tr>\n",
       "    <tr>\n",
       "      <th>2</th>\n",
       "      <td>4</td>\n",
       "      <td>Baltimore</td>\n",
       "      <td>117</td>\n",
       "      <td>3</td>\n",
       "    </tr>\n",
       "    <tr>\n",
       "      <th>3</th>\n",
       "      <td>19</td>\n",
       "      <td>New York S</td>\n",
       "      <td>113</td>\n",
       "      <td>4</td>\n",
       "    </tr>\n",
       "    <tr>\n",
       "      <th>4</th>\n",
       "      <td>5</td>\n",
       "      <td>Boston</td>\n",
       "      <td>106</td>\n",
       "      <td>5</td>\n",
       "    </tr>\n",
       "    <tr>\n",
       "      <th>5</th>\n",
       "      <td>27</td>\n",
       "      <td>Seattle</td>\n",
       "      <td>105</td>\n",
       "      <td>6</td>\n",
       "    </tr>\n",
       "    <tr>\n",
       "      <th>6</th>\n",
       "      <td>6</td>\n",
       "      <td>Chicago B</td>\n",
       "      <td>105</td>\n",
       "      <td>7</td>\n",
       "    </tr>\n",
       "    <tr>\n",
       "      <th>7</th>\n",
       "      <td>21</td>\n",
       "      <td>Oakland</td>\n",
       "      <td>96</td>\n",
       "      <td>8</td>\n",
       "    </tr>\n",
       "    <tr>\n",
       "      <th>8</th>\n",
       "      <td>7</td>\n",
       "      <td>Chicago H</td>\n",
       "      <td>95</td>\n",
       "      <td>9</td>\n",
       "    </tr>\n",
       "    <tr>\n",
       "      <th>9</th>\n",
       "      <td>24</td>\n",
       "      <td>St. Louis</td>\n",
       "      <td>94</td>\n",
       "      <td>10</td>\n",
       "    </tr>\n",
       "    <tr>\n",
       "      <th>10</th>\n",
       "      <td>22</td>\n",
       "      <td>Philadelphia</td>\n",
       "      <td>82</td>\n",
       "      <td>11</td>\n",
       "    </tr>\n",
       "    <tr>\n",
       "      <th>11</th>\n",
       "      <td>23</td>\n",
       "      <td>Pittsburgh</td>\n",
       "      <td>80</td>\n",
       "      <td>12</td>\n",
       "    </tr>\n",
       "    <tr>\n",
       "      <th>12</th>\n",
       "      <td>1</td>\n",
       "      <td>Arlington</td>\n",
       "      <td>77</td>\n",
       "      <td>13</td>\n",
       "    </tr>\n",
       "    <tr>\n",
       "      <th>13</th>\n",
       "      <td>11</td>\n",
       "      <td>Detroit</td>\n",
       "      <td>76</td>\n",
       "      <td>14</td>\n",
       "    </tr>\n",
       "    <tr>\n",
       "      <th>14</th>\n",
       "      <td>17</td>\n",
       "      <td>Minneapolis</td>\n",
       "      <td>76</td>\n",
       "      <td>15</td>\n",
       "    </tr>\n",
       "    <tr>\n",
       "      <th>15</th>\n",
       "      <td>28</td>\n",
       "      <td>Toronto</td>\n",
       "      <td>72</td>\n",
       "      <td>16</td>\n",
       "    </tr>\n",
       "    <tr>\n",
       "      <th>16</th>\n",
       "      <td>13</td>\n",
       "      <td>Kansas City</td>\n",
       "      <td>70</td>\n",
       "      <td>17</td>\n",
       "    </tr>\n",
       "    <tr>\n",
       "      <th>17</th>\n",
       "      <td>18</td>\n",
       "      <td>Montreal</td>\n",
       "      <td>66</td>\n",
       "      <td>18</td>\n",
       "    </tr>\n",
       "    <tr>\n",
       "      <th>18</th>\n",
       "      <td>14</td>\n",
       "      <td>Los Angeles</td>\n",
       "      <td>63</td>\n",
       "      <td>19</td>\n",
       "    </tr>\n",
       "    <tr>\n",
       "      <th>19</th>\n",
       "      <td>3</td>\n",
       "      <td>Atlanta</td>\n",
       "      <td>56</td>\n",
       "      <td>20</td>\n",
       "    </tr>\n",
       "    <tr>\n",
       "      <th>20</th>\n",
       "      <td>12</td>\n",
       "      <td>Houston</td>\n",
       "      <td>54</td>\n",
       "      <td>21</td>\n",
       "    </tr>\n",
       "    <tr>\n",
       "      <th>21</th>\n",
       "      <td>9</td>\n",
       "      <td>Cleveland Queens</td>\n",
       "      <td>52</td>\n",
       "      <td>22</td>\n",
       "    </tr>\n",
       "    <tr>\n",
       "      <th>22</th>\n",
       "      <td>26</td>\n",
       "      <td>San Francisco</td>\n",
       "      <td>37</td>\n",
       "      <td>23</td>\n",
       "    </tr>\n",
       "    <tr>\n",
       "      <th>23</th>\n",
       "      <td>10</td>\n",
       "      <td>Denver</td>\n",
       "      <td>35</td>\n",
       "      <td>24</td>\n",
       "    </tr>\n",
       "    <tr>\n",
       "      <th>24</th>\n",
       "      <td>25</td>\n",
       "      <td>San Diego</td>\n",
       "      <td>34</td>\n",
       "      <td>25</td>\n",
       "    </tr>\n",
       "    <tr>\n",
       "      <th>25</th>\n",
       "      <td>2</td>\n",
       "      <td>Anaheim</td>\n",
       "      <td>32</td>\n",
       "      <td>26</td>\n",
       "    </tr>\n",
       "    <tr>\n",
       "      <th>26</th>\n",
       "      <td>16</td>\n",
       "      <td>Milwaukee</td>\n",
       "      <td>32</td>\n",
       "      <td>27</td>\n",
       "    </tr>\n",
       "    <tr>\n",
       "      <th>27</th>\n",
       "      <td>20</td>\n",
       "      <td>New York C</td>\n",
       "      <td>21</td>\n",
       "      <td>28</td>\n",
       "    </tr>\n",
       "  </tbody>\n",
       "</table>\n",
       "</div>"
      ],
      "text/plain": [
       "    TeamID          TeamName  TotalPoints  Ranking\n",
       "0       15             Miami          138        1\n",
       "1        8        Cincinnati          125        2\n",
       "2        4         Baltimore          117        3\n",
       "3       19        New York S          113        4\n",
       "4        5            Boston          106        5\n",
       "5       27           Seattle          105        6\n",
       "6        6         Chicago B          105        7\n",
       "7       21           Oakland           96        8\n",
       "8        7         Chicago H           95        9\n",
       "9       24         St. Louis           94       10\n",
       "10      22      Philadelphia           82       11\n",
       "11      23        Pittsburgh           80       12\n",
       "12       1         Arlington           77       13\n",
       "13      11           Detroit           76       14\n",
       "14      17       Minneapolis           76       15\n",
       "15      28           Toronto           72       16\n",
       "16      13       Kansas City           70       17\n",
       "17      18          Montreal           66       18\n",
       "18      14       Los Angeles           63       19\n",
       "19       3           Atlanta           56       20\n",
       "20      12           Houston           54       21\n",
       "21       9  Cleveland Queens           52       22\n",
       "22      26     San Francisco           37       23\n",
       "23      10            Denver           35       24\n",
       "24      25         San Diego           34       25\n",
       "25       2           Anaheim           32       26\n",
       "26      16         Milwaukee           32       27\n",
       "27      20        New York C           21       28"
      ]
     },
     "execution_count": 12,
     "metadata": {},
     "output_type": "execute_result"
    }
   ],
   "source": [
    "df_ranking_season1"
   ]
  },
  {
   "cell_type": "markdown",
   "metadata": {},
   "source": [
    "## Question 2: At what point in the season did that team secure their league title?"
   ]
  },
  {
   "cell_type": "markdown",
   "metadata": {},
   "source": [
    "According the Premier League official website:\n",
    "\n",
    "\n",
    "If any clubs finish with the same number of points, their position in the Premier League table is determined by goal difference, then the number of goals scored, then the team who collected the most points in the head-to-head matches, then who scored most away goals in the head-to-head. "
   ]
  },
  {
   "cell_type": "markdown",
   "metadata": {},
   "source": [
    "As it is impossible to predict the final goal difference, we will consider that the winner secured their title with certitude when their number of points is higher than the number of points of the 2nd plus the maximum number points left to score. "
   ]
  },
  {
   "cell_type": "markdown",
   "metadata": {},
   "source": [
    "### Calculate the number of maximum points left to score for every gameweek"
   ]
  },
  {
   "cell_type": "code",
   "execution_count": 30,
   "metadata": {},
   "outputs": [],
   "source": [
    "df_all_team[\"MaxPointsLeft\"] = df_all_team.Gameweek.max()*3 - df_all_team.Gameweek*3"
   ]
  },
  {
   "cell_type": "markdown",
   "metadata": {},
   "source": [
    "### Calculate the number of total points for every team for every gameweek"
   ]
  },
  {
   "cell_type": "code",
   "execution_count": 31,
   "metadata": {},
   "outputs": [],
   "source": [
    "df_all_team[\"CumulativePoints\"] = df_all_team.sort_values(by=[\"Gameweek\", \"TeamID\"]).groupby([\"TeamID\", \"TeamName\"])[\"PointsScored\"].cumsum().values"
   ]
  },
  {
   "cell_type": "code",
   "execution_count": 32,
   "metadata": {},
   "outputs": [],
   "source": [
    "df_all_team = df_all_team.merge(df_all_team[df_all_team[\"TeamID\"]==15][[\"Gameweek\", \"CumulativePoints\"]], on=\"Gameweek\", suffixes=((\"\", \"Winner\")))"
   ]
  },
  {
   "cell_type": "markdown",
   "metadata": {},
   "source": [
    "### Calculate the difference of points between the winning team for each team at every gameweek"
   ]
  },
  {
   "cell_type": "code",
   "execution_count": 33,
   "metadata": {},
   "outputs": [],
   "source": [
    "df_all_team[\"DiffPointsWinner\"] = df_all_team[\"CumulativePointsWinner\"] - df_all_team[\"CumulativePoints\"]\n",
    "df_all_team[\"DiffPossiblePoints\"] = df_all_team.apply(lambda x: 1 if x.DiffPointsWinner>x.MaxPointsLeft else 0, axis = 1)"
   ]
  },
  {
   "cell_type": "markdown",
   "metadata": {},
   "source": [
    "### Find the first time when the 2nd of the league could not catch up with the winner"
   ]
  },
  {
   "cell_type": "code",
   "execution_count": 34,
   "metadata": {},
   "outputs": [],
   "source": [
    "df_all_team[\"PossibleMaxPoints\"] = df_all_team[\"CumulativePoints\"]+df_all_team[\"MaxPointsLeft\"]"
   ]
  },
  {
   "cell_type": "code",
   "execution_count": 35,
   "metadata": {},
   "outputs": [
    {
     "data": {
      "text/plain": [
       "[<matplotlib.lines.Line2D at 0x7f9a10aa9a50>]"
      ]
     },
     "execution_count": 35,
     "metadata": {},
     "output_type": "execute_result"
    },
    {
     "data": {
      "image/png": "[encoded data removed]",
      "text/plain": [
       "<Figure size 640x480 with 1 Axes>"
      ]
     },
     "metadata": {},
     "output_type": "display_data"
    }
   ],
   "source": [
    "df_plot1 = df_all_team[df_all_team[\"TeamID\"]==8]\n",
    "df_plot2 = df_all_team[df_all_team[\"TeamID\"]==4]\n",
    "df_plot3 = df_all_team[df_all_team[\"TeamID\"]==19]\n",
    "df_plot4 = df_all_team[df_all_team[\"TeamID\"]==5]\n",
    "\n",
    "x = np.arange(1, len(df_plot1)+1)\n",
    "plt.plot(x, df_plot1.CumulativePointsWinner)\n",
    "plt.plot(x, df_plot1.PossibleMaxPoints)\n",
    "plt.plot(x, df_plot2.PossibleMaxPoints)\n",
    "plt.plot(x, df_plot3.PossibleMaxPoints)\n",
    "plt.plot(x, df_plot4.PossibleMaxPoints)"
   ]
  },
  {
   "cell_type": "markdown",
   "metadata": {},
   "source": [
    "## Question 3: What result was the biggest upset?"
   ]
  },
  {
   "cell_type": "code",
   "execution_count": 36,
   "metadata": {},
   "outputs": [],
   "source": [
    "fixtures_data = pd.read_csv(f\"{FILES_PATH}fixtures.csv\", delimiter=\",\")\n",
    "odds_data = pd.read_csv(f\"{FILES_PATH}odds.csv\", delimiter=\",\")\n",
    "players_data = pd.read_csv(f\"{FILES_PATH}players.csv\", delimiter=\",\")\n",
    "results_data = pd.read_csv(f\"{FILES_PATH}results.csv\", delimiter=\",\")\n",
    "startingXI_data = pd.read_csv(f\"{FILES_PATH}startingXI.csv\", delimiter=\",\")\n",
    "teams_data = pd.read_csv(f\"{FILES_PATH}teams.csv\", delimiter=\",\")"
   ]
  },
  {
   "cell_type": "code",
   "execution_count": 37,
   "metadata": {},
   "outputs": [],
   "source": [
    "results_data_odds = results_data.merge(odds_data, on=\"MatchID\", how=\"left\")"
   ]
  },
  {
   "cell_type": "code",
   "execution_count": 38,
   "metadata": {},
   "outputs": [
    {
     "data": {
      "text/html": [
       "<div>\n",
       "<style scoped>\n",
       "    .dataframe tbody tr th:only-of-type {\n",
       "        vertical-align: middle;\n",
       "    }\n",
       "\n",
       "    .dataframe tbody tr th {\n",
       "        vertical-align: top;\n",
       "    }\n",
       "\n",
       "    .dataframe thead th {\n",
       "        text-align: right;\n",
       "    }\n",
       "</style>\n",
       "<table border=\"1\" class=\"dataframe\">\n",
       "  <thead>\n",
       "    <tr style=\"text-align: right;\">\n",
       "      <th></th>\n",
       "      <th>SeasonID</th>\n",
       "      <th>Gameweek</th>\n",
       "      <th>MatchID</th>\n",
       "      <th>HomeTeamID</th>\n",
       "      <th>HomeScore</th>\n",
       "      <th>HomeShots</th>\n",
       "      <th>AwayTeamID</th>\n",
       "      <th>AwayScore</th>\n",
       "      <th>AwayShots</th>\n",
       "      <th>Home</th>\n",
       "      <th>Draw</th>\n",
       "      <th>Away</th>\n",
       "      <th>SimilarOdds</th>\n",
       "    </tr>\n",
       "  </thead>\n",
       "  <tbody>\n",
       "    <tr>\n",
       "      <th>176</th>\n",
       "      <td>1</td>\n",
       "      <td>13</td>\n",
       "      <td>177</td>\n",
       "      <td>8</td>\n",
       "      <td>1</td>\n",
       "      <td>13</td>\n",
       "      <td>19</td>\n",
       "      <td>1</td>\n",
       "      <td>8</td>\n",
       "      <td>1.87</td>\n",
       "      <td>4.04</td>\n",
       "      <td>4.04</td>\n",
       "      <td>1</td>\n",
       "    </tr>\n",
       "    <tr>\n",
       "      <th>836</th>\n",
       "      <td>2</td>\n",
       "      <td>6</td>\n",
       "      <td>837</td>\n",
       "      <td>21</td>\n",
       "      <td>2</td>\n",
       "      <td>21</td>\n",
       "      <td>14</td>\n",
       "      <td>1</td>\n",
       "      <td>10</td>\n",
       "      <td>1.94</td>\n",
       "      <td>3.89</td>\n",
       "      <td>3.89</td>\n",
       "      <td>1</td>\n",
       "    </tr>\n",
       "  </tbody>\n",
       "</table>\n",
       "</div>"
      ],
      "text/plain": [
       "     SeasonID  Gameweek  MatchID  HomeTeamID  HomeScore  HomeShots  \\\n",
       "176         1        13      177           8          1         13   \n",
       "836         2         6      837          21          2         21   \n",
       "\n",
       "     AwayTeamID  AwayScore  AwayShots  Home  Draw  Away  SimilarOdds  \n",
       "176          19          1          8  1.87  4.04  4.04            1  \n",
       "836          14          1         10  1.94  3.89  3.89            1  "
      ]
     },
     "execution_count": 38,
     "metadata": {},
     "output_type": "execute_result"
    }
   ],
   "source": [
    "def check_similar_odds(HomeOdd, DrawOdd, AwayOdd):\n",
    "    if HomeOdd==DrawOdd:\n",
    "        return 1\n",
    "    if AwayOdd==DrawOdd:\n",
    "        return 1\n",
    "    if HomeOdd==DrawOdd:\n",
    "        return 1\n",
    "    else:\n",
    "        return 0\n",
    "    \n",
    "results_data_odds[\"SimilarOdds\"] = results_data_odds.apply(lambda x: check_similar_odds(x.Home, x.Draw, x.Away), axis=1)\n",
    "results_data_odds[results_data_odds[\"SimilarOdds\"]==1]"
   ]
  },
  {
   "cell_type": "code",
   "execution_count": 39,
   "metadata": {},
   "outputs": [],
   "source": [
    "def encode_odds(HomeOdd, DrawOdd, AwayOdd):\n",
    "    odds_values = np.array([HomeOdd, DrawOdd, AwayOdd])\n",
    "    return np.where(odds_values == odds_values.min())[0]"
   ]
  },
  {
   "cell_type": "code",
   "execution_count": 40,
   "metadata": {},
   "outputs": [],
   "source": [
    "results_data_odds[\"OddEncoded\"] = results_data_odds.apply(lambda x: encode_odds(x.Home, x.Draw, x.Away), axis=1)"
   ]
  },
  {
   "cell_type": "code",
   "execution_count": 41,
   "metadata": {},
   "outputs": [],
   "source": [
    "def encode_results(HomeScore, AwayScore):\n",
    "    if HomeScore>AwayScore:\n",
    "        return 0\n",
    "    elif HomeScore<AwayScore:\n",
    "        return 2 \n",
    "    else:\n",
    "        return 1"
   ]
  },
  {
   "cell_type": "code",
   "execution_count": 42,
   "metadata": {},
   "outputs": [],
   "source": [
    "results_data_odds[\"ResultEncoded\"] = results_data_odds.apply(lambda x: encode_results(x.HomeScore, x.AwayScore), axis=1)"
   ]
  },
  {
   "cell_type": "code",
   "execution_count": 43,
   "metadata": {},
   "outputs": [],
   "source": [
    "results_data_odds[\"Upset\"] = results_data_odds.apply(lambda x: 0 if x.ResultEncoded in x.OddEncoded else 1, axis=1)"
   ]
  },
  {
   "cell_type": "code",
   "execution_count": 44,
   "metadata": {},
   "outputs": [],
   "source": [
    "results_data_odds[results_data_odds[\"Upset\"]==1]\n",
    "\n",
    "results_data_odds[\"WinningOdd\"] = results_data_odds.apply(lambda x: [x.Home, x.Draw, x.Away][int(x.ResultEncoded)], axis = 1)"
   ]
  },
  {
   "cell_type": "code",
   "execution_count": 45,
   "metadata": {},
   "outputs": [
    {
     "data": {
      "text/html": [
       "<div>\n",
       "<style scoped>\n",
       "    .dataframe tbody tr th:only-of-type {\n",
       "        vertical-align: middle;\n",
       "    }\n",
       "\n",
       "    .dataframe tbody tr th {\n",
       "        vertical-align: top;\n",
       "    }\n",
       "\n",
       "    .dataframe thead th {\n",
       "        text-align: right;\n",
       "    }\n",
       "</style>\n",
       "<table border=\"1\" class=\"dataframe\">\n",
       "  <thead>\n",
       "    <tr style=\"text-align: right;\">\n",
       "      <th></th>\n",
       "      <th>SeasonID</th>\n",
       "      <th>Gameweek</th>\n",
       "      <th>MatchID</th>\n",
       "      <th>HomeTeamID</th>\n",
       "      <th>HomeScore</th>\n",
       "      <th>HomeShots</th>\n",
       "      <th>AwayTeamID</th>\n",
       "      <th>AwayScore</th>\n",
       "      <th>AwayShots</th>\n",
       "      <th>Home</th>\n",
       "      <th>Draw</th>\n",
       "      <th>Away</th>\n",
       "      <th>SimilarOdds</th>\n",
       "      <th>OddEncoded</th>\n",
       "      <th>ResultEncoded</th>\n",
       "      <th>Upset</th>\n",
       "      <th>WinningOdd</th>\n",
       "    </tr>\n",
       "  </thead>\n",
       "  <tbody>\n",
       "    <tr>\n",
       "      <th>1341</th>\n",
       "      <td>2</td>\n",
       "      <td>42</td>\n",
       "      <td>1342</td>\n",
       "      <td>10</td>\n",
       "      <td>1</td>\n",
       "      <td>19</td>\n",
       "      <td>15</td>\n",
       "      <td>0</td>\n",
       "      <td>32</td>\n",
       "      <td>34.88</td>\n",
       "      <td>14.79</td>\n",
       "      <td>1.07</td>\n",
       "      <td>0</td>\n",
       "      <td>[2]</td>\n",
       "      <td>0</td>\n",
       "      <td>1</td>\n",
       "      <td>34.88</td>\n",
       "    </tr>\n",
       "  </tbody>\n",
       "</table>\n",
       "</div>"
      ],
      "text/plain": [
       "      SeasonID  Gameweek  MatchID  HomeTeamID  HomeScore  HomeShots  \\\n",
       "1341         2        42     1342          10          1         19   \n",
       "\n",
       "      AwayTeamID  AwayScore  AwayShots   Home   Draw  Away  SimilarOdds  \\\n",
       "1341          15          0         32  34.88  14.79  1.07            0   \n",
       "\n",
       "     OddEncoded  ResultEncoded  Upset  WinningOdd  \n",
       "1341        [2]              0      1       34.88  "
      ]
     },
     "execution_count": 45,
     "metadata": {},
     "output_type": "execute_result"
    }
   ],
   "source": [
    "results_data_odds[results_data_odds[\"WinningOdd\"] == results_data_odds[results_data_odds[\"Upset\"]==1][\"WinningOdd\"].max()]"
   ]
  }
 ],
 "metadata": {
  "kernelspec": {
   "display_name": "env",
   "language": "python",
   "name": "python3"
  },
  "language_info": {
   "codemirror_mode": {
    "name": "ipython",
    "version": 3
   },
   "file_extension": ".py",
   "mimetype": "text/x-python",
   "name": "python",
   "nbconvert_exporter": "python",
   "pygments_lexer": "ipython3",
   "version": "3.10.12"
  }
 },
 "nbformat": 4,
 "nbformat_minor": 2
}

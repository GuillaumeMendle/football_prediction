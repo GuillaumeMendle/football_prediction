{
 "cells": [
  {
   "cell_type": "code",
   "execution_count": 21,
   "metadata": {},
   "outputs": [],
   "source": [
    "import pandas as pd\n",
    "import numpy as np\n",
    "import os\n",
    "from matplotlib import pyplot as plt\n",
    "import pyarrow as py"
   ]
  },
  {
   "cell_type": "code",
   "execution_count": 2,
   "metadata": {},
   "outputs": [],
   "source": [
    "FILES_PATH = \"/home/guillaume/pythia/code/data/\""
   ]
  },
  {
   "cell_type": "code",
   "execution_count": 3,
   "metadata": {},
   "outputs": [],
   "source": [
    "fixtures_data = pd.read_csv(f\"{FILES_PATH}fixtures.csv\", delimiter=\",\")\n",
    "odds_data = pd.read_csv(f\"{FILES_PATH}odds.csv\", delimiter=\",\")\n",
    "players_data = pd.read_csv(f\"{FILES_PATH}players.csv\", delimiter=\",\")\n",
    "results_data = pd.read_csv(f\"{FILES_PATH}results.csv\", delimiter=\",\")\n",
    "startingXI_data = pd.read_csv(f\"{FILES_PATH}startingXI.csv\", delimiter=\",\")\n",
    "teams_data = pd.read_csv(f\"{FILES_PATH}teams.csv\", delimiter=\",\")"
   ]
  },
  {
   "cell_type": "markdown",
   "metadata": {},
   "source": [
    "## Feature engineering on players"
   ]
  },
  {
   "cell_type": "markdown",
   "metadata": {},
   "source": [
    "Let's first check if any players with the same name."
   ]
  },
  {
   "cell_type": "code",
   "execution_count": 5,
   "metadata": {},
   "outputs": [
    {
     "data": {
      "text/html": [
       "<div>\n",
       "<style scoped>\n",
       "    .dataframe tbody tr th:only-of-type {\n",
       "        vertical-align: middle;\n",
       "    }\n",
       "\n",
       "    .dataframe tbody tr th {\n",
       "        vertical-align: top;\n",
       "    }\n",
       "\n",
       "    .dataframe thead th {\n",
       "        text-align: right;\n",
       "    }\n",
       "</style>\n",
       "<table border=\"1\" class=\"dataframe\">\n",
       "  <thead>\n",
       "    <tr style=\"text-align: right;\">\n",
       "      <th></th>\n",
       "      <th>PlayerName</th>\n",
       "      <th>TeamID</th>\n",
       "      <th>PositionID</th>\n",
       "    </tr>\n",
       "  </thead>\n",
       "  <tbody>\n",
       "    <tr>\n",
       "      <th>92</th>\n",
       "      <td>Frank Smith</td>\n",
       "      <td>12</td>\n",
       "      <td>3</td>\n",
       "    </tr>\n",
       "    <tr>\n",
       "      <th>414</th>\n",
       "      <td>Fred Williams</td>\n",
       "      <td>24</td>\n",
       "      <td>3</td>\n",
       "    </tr>\n",
       "    <tr>\n",
       "      <th>650</th>\n",
       "      <td>Robert Pitts</td>\n",
       "      <td>8</td>\n",
       "      <td>1</td>\n",
       "    </tr>\n",
       "  </tbody>\n",
       "</table>\n",
       "</div>"
      ],
      "text/plain": [
       "        PlayerName  TeamID  PositionID\n",
       "92     Frank Smith      12           3\n",
       "414  Fred Williams      24           3\n",
       "650   Robert Pitts       8           1"
      ]
     },
     "execution_count": 5,
     "metadata": {},
     "output_type": "execute_result"
    }
   ],
   "source": [
    "HOMONYMOUS_PLAYER_NAMES = players_data[players_data[\"PlayerName\"].duplicated()][\"PlayerName\"].values\n",
    "players_data[players_data[\"PlayerName\"].duplicated()]\n",
    "\n",
    "## It is important to make the distinctions between these players who share their name with at least another player.\n",
    "## The list of identical name will be used as a global variable."
   ]
  },
  {
   "cell_type": "markdown",
   "metadata": {},
   "source": [
    "We create a unique ID for every player"
   ]
  },
  {
   "cell_type": "code",
   "execution_count": 6,
   "metadata": {},
   "outputs": [],
   "source": [
    "class GoalkeeperPreprocessing:\n",
    "    def create_player_ID(self, df : pd.DataFrame) -> pd.DataFrame:\n",
    "        \"\"\"\n",
    "        Create a unique player ID. \n",
    "        \"\"\"\n",
    "        df[\"PlayerID\"] = np.arange(1, len(df)+1)\n",
    "        return df\n",
    "    \n",
    "    def link_players_to_teamID(self, player_names : list, homonymous_player_names : list = HOMONYMOUS_PLAYER_NAMES)->str:\n",
    "        \"\"\"\n",
    "        Link the team ID to the list of players in the dataset containing the starting XI of every game. \n",
    "        It uses the players' name except for the ones which are not unique.\n",
    "        \"\"\"\n",
    "        for _name in player_names:\n",
    "            if _name not in homonymous_player_names:\n",
    "                return players_data[players_data[\"PlayerName\"]==_name][\"TeamID\"].values[0]\n",
    "            else: \n",
    "                continue\n",
    "\n",
    "    def explode_startingXI_dataset(self, df : pd.DataFrame) -> pd.DataFrame:\n",
    "        \"\"\"\n",
    "        Return a StartingXI dataset with one unique player per row per game.\n",
    "        \"\"\"\n",
    "        df = df.explode(\"StartingXI\").rename(columns = {\"StartingXI\" : \"PlayerName\"})\n",
    "        df = df.merge(players_data, on = [\"PlayerName\", \"TeamID\"], how = \"left\")\n",
    "        df[\"MatchPlayed\"] = 1 ## This variable will be useful later on for any calculations (e.g.: to count the number of games played)\n",
    "        return df"
   ]
  },
  {
   "cell_type": "code",
   "execution_count": 7,
   "metadata": {},
   "outputs": [],
   "source": [
    "gk_preprocessing = GoalkeeperPreprocessing()\n",
    "## Creation of player ID\n",
    "players_data = gk_preprocessing.create_player_ID(players_data)\n",
    "\n",
    "## Add team ID to the dataset using players' name\n",
    "startingXI_data[\"StartingXI\"] = startingXI_data[\"StartingXI\"].map(lambda x: x.split(\",\"))\n",
    "startingXI_data[\"TeamID\"] = startingXI_data[\"StartingXI\"].map(lambda x: gk_preprocessing.link_players_to_teamID(x))\n",
    "\n",
    "startingXI_data_exploded = startingXI_data.copy()\n",
    "\n",
    "## Explode the dataframe to get one player per row, per game, per team\n",
    "startingXI_data_exploded = gk_preprocessing.explode_startingXI_dataset(startingXI_data_exploded)\n",
    "\n",
    "## We merge the season results with the players dataset\n",
    "df_merged = startingXI_data_exploded.merge(results_data, on = [\"MatchID\"], how = \"left\")\n",
    "results_with_players = df_merged.copy()\n",
    "results_with_players = results_with_players[results_with_players[\"SeasonID\"]==1]"
   ]
  },
  {
   "cell_type": "markdown",
   "metadata": {},
   "source": [
    "## Goalkeeper rating calculation"
   ]
  },
  {
   "cell_type": "markdown",
   "metadata": {},
   "source": [
    "However, the goalkeeper rating becomes less reliable for goalkeepers whom haven't conceded many shots. Therefore, we calculate an adjusted rating using the formula below:\n",
    "$$\\text{Adjusted rating} = \\frac{n}{n+k}*\\text{Goalkeeper rating} + \\frac{k}{k+n}*\\text{Baseline rating}$$\n",
    "- n: number of shots faced by the goalkeeper\n",
    "- k: influence of the baseline\n",
    "- baseline rating: the average rating of goalkeepers for season 1"
   ]
  },
  {
   "cell_type": "markdown",
   "metadata": {},
   "source": [
    "Calculation of a global goalkeeper ration for the whole league"
   ]
  },
  {
   "cell_type": "code",
   "execution_count": 8,
   "metadata": {},
   "outputs": [
    {
     "name": "stdout",
     "output_type": "stream",
     "text": [
      "The global league ratio is 0.11351712532171847\n"
     ]
    }
   ],
   "source": [
    "goals_league = results_data[\"HomeScore\"].sum() + results_data[\"AwayScore\"].sum()\n",
    "shots_league = results_data[\"HomeShots\"].sum() + results_data[\"AwayShots\"].sum()\n",
    "\n",
    "RATIO_LEAGUE = goals_league/shots_league ## It will be used as a global variable\n",
    "print(f\"The global league ratio is {RATIO_LEAGUE}\")"
   ]
  },
  {
   "cell_type": "code",
   "execution_count": 9,
   "metadata": {},
   "outputs": [],
   "source": [
    "class GoalkeeperRatingGeneration:\n",
    "    def create_new_variables(self, df : pd.DataFrame) -> pd.DataFrame:\n",
    "        \"\"\"\n",
    "        Creation of new variables with no distinction of home/away.\n",
    "        \"\"\"\n",
    "        df[\"TeamScore\"] = df.apply(lambda x : x.HomeScore if x.TeamID == x.HomeTeamID else x.AwayScore, axis=1)\n",
    "        df[\"OpponentScore\"] = df.apply(lambda x : x.AwayScore if x.TeamID == x.HomeTeamID else x.HomeScore, axis=1)\n",
    "        df = df.drop(columns = [\"HomeScore\", \"AwayScore\"])\n",
    "\n",
    "\n",
    "        df[\"TeamShots\"] = df.apply(lambda x : x.HomeShots if x.TeamID == x.HomeTeamID else x.AwayShots, axis=1)\n",
    "        df[\"OpponentShots\"] = df.apply(lambda x : x.AwayShots if x.TeamID == x.HomeTeamID else x.HomeShots, axis=1)\n",
    "        df = df.drop(columns = [\"HomeShots\", \"AwayShots\"])\n",
    "\n",
    "        return df\n",
    "    \n",
    "    def create_goalkeeper_rating(self, df : pd.DataFrame) -> pd.DataFrame:\n",
    "        \"\"\" \n",
    "        Create variables by summing the number of goals and shots conceded per team throughout the season.\n",
    "        \"\"\"\n",
    "        ## Sum of conceded goals\n",
    "        gk_conceded_goals_season = df\\\n",
    "            .groupby(\"PlayerID\")[\"OpponentScore\"].sum()\n",
    "\n",
    "        ## Sum of conceded shots\n",
    "        gk_conceded_shots_season = players_data[\"GoalkeeperConcededShotsSeason\"] = df\\\n",
    "            .groupby(\"PlayerID\")[\"OpponentShots\"].sum()\n",
    "\n",
    "        ## Add the new variables in a dataframe\n",
    "        players_features = pd.DataFrame({\"GoalkeeperConcededGoalsSeason\" : gk_conceded_goals_season,\n",
    "                    \"GoalkeeperConcededShotsSeason\" : gk_conceded_shots_season\n",
    "                    }).reset_index()\n",
    "\n",
    "        ## Fill the NaN with 0\n",
    "        players_features = players_features.fillna(0)\n",
    "\n",
    "        ## Calculate the ration of goals conceded / shots conceded\n",
    "        players_features[\"GoalkeeperRating\"] = players_features.apply(lambda x : 0 if x.GoalkeeperConcededShotsSeason ==0 else x.GoalkeeperConcededGoalsSeason/x.GoalkeeperConcededShotsSeason, axis = 1)\n",
    "        return players_features\n",
    "\n",
    "    def adjusted_rating_formula(self, gk_rating : float, n_shots : int, ratio_league : float, k : int) -> float:\n",
    "        \"\"\"\n",
    "        Calcualte the adjusted goalkeeper ratio. \n",
    "        \"\"\"\n",
    "        return n_shots/(n_shots+k)*gk_rating + k/(k+n_shots)*ratio_league\n",
    "\n",
    "    def calculate_adjusted_rating(self, df : pd.DataFrame, ratio_league : float, k : int) -> pd.DataFrame:\n",
    "        \"\"\"\n",
    "        Add the adjusted ratio into the dataset. \n",
    "        \"\"\"\n",
    "        df[\"GoalkeeperAdjustedRating\"] = df.apply(lambda x : self.adjusted_rating_formula(x.GoalkeeperRating, x.GoalkeeperConcededShotsSeason, ratio_league, k), axis=1)\n",
    "        return df"
   ]
  },
  {
   "cell_type": "code",
   "execution_count": 10,
   "metadata": {},
   "outputs": [
    {
     "name": "stdout",
     "output_type": "stream",
     "text": [
      "The median of the number of shots conceded during season 1 is 302.0.\n",
      "We take k = 34 so that the original goalkeeper rating counts for 90% of the adjusted rating if the number of conceded shots is equal to the median.\n"
     ]
    }
   ],
   "source": [
    "gk_rating = GoalkeeperRatingGeneration()\n",
    "results_with_players = gk_rating.create_new_variables(results_with_players)\n",
    "players_features = gk_rating.create_goalkeeper_rating(results_with_players)\n",
    "\n",
    "median_shots_conceded = players_features[\"GoalkeeperConcededShotsSeason\"].median()\n",
    "print(f\"The median of the number of shots conceded during season 1 is {median_shots_conceded}.\\nWe take k = 34 so that the original goalkeeper rating counts for 90% of the adjusted rating if the number of conceded shots is equal to the median.\")\n",
    "\n",
    "players_features = gk_rating.calculate_adjusted_rating(players_features, RATIO_LEAGUE, 34)"
   ]
  },
  {
   "cell_type": "markdown",
   "metadata": {},
   "source": [
    "Generation of:\n",
    "- One dataset with the goalkeeper adjusted rating for every game of the season\n",
    "- One dataset with all the goalkeeper adjusted ratings per team"
   ]
  },
  {
   "cell_type": "code",
   "execution_count": null,
   "metadata": {},
   "outputs": [],
   "source": [
    "results_with_players = results_with_players.merge(players_features, on = [\"PlayerID\"], how = \"left\")\n",
    "goalkeeper_games = results_with_players[[\"MatchID\", \"TeamID\", \"PlayerID\", \"PositionID\", \"GoalkeeperAdjustedRating\"]]\n",
    "goalkeeper_games = goalkeeper_games[goalkeeper_games[\"PositionID\"]==1]\\\n",
    "    .drop_duplicates()\\\n",
    "        .sort_values(by=\"PlayerID\")\\\n",
    "            .reset_index(drop=True)\n",
    "\n",
    "goalkeeper_teams = results_with_players[[\"TeamID\", \"PlayerID\", \"PositionID\", \"GoalkeeperAdjustedRating\"]]\n",
    "goalkeeper_teams = goalkeeper_teams[goalkeeper_teams[\"PositionID\"]==1]\\\n",
    "    .drop_duplicates()\\\n",
    "        .sort_values(by=\"PlayerID\")\\\n",
    "            .reset_index(drop=True)\n"
   ]
  },
  {
   "cell_type": "markdown",
   "metadata": {},
   "source": [
    "## Save goalkeeper rating files as parquet files"
   ]
  },
  {
   "cell_type": "code",
   "execution_count": 26,
   "metadata": {},
   "outputs": [],
   "source": [
    "goalkeeper_games.to_parquet(f\"{FILES_PATH}goalkeeper_games.pq\")\n",
    "goalkeeper_teams.to_parquet(f\"{FILES_PATH}goalkeeper_teams.pq\")"
   ]
  }
 ],
 "metadata": {
  "kernelspec": {
   "display_name": "env",
   "language": "python",
   "name": "python3"
  },
  "language_info": {
   "codemirror_mode": {
    "name": "ipython",
    "version": 3
   },
   "file_extension": ".py",
   "mimetype": "text/x-python",
   "name": "python",
   "nbconvert_exporter": "python",
   "pygments_lexer": "ipython3",
   "version": "3.10.12"
  }
 },
 "nbformat": 4,
 "nbformat_minor": 2
}

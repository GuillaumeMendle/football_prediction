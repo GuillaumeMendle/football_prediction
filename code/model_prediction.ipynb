{
 "cells": [
  {
   "cell_type": "code",
   "execution_count": 1,
   "metadata": {},
   "outputs": [],
   "source": [
    "import pandas as pd\n",
    "import numpy as np\n",
    "import os\n",
    "from matplotlib import pyplot as plt"
   ]
  },
  {
   "cell_type": "code",
   "execution_count": 2,
   "metadata": {},
   "outputs": [],
   "source": [
    "FILES_PATH = \"/home/guillaume/pythia/code/data/\""
   ]
  },
  {
   "cell_type": "code",
   "execution_count": 3,
   "metadata": {},
   "outputs": [],
   "source": [
    "fixtures_data = pd.read_csv(f\"{FILES_PATH}fixtures.csv\", delimiter=\",\")\n",
    "odds_data = pd.read_csv(f\"{FILES_PATH}odds.csv\", delimiter=\",\")\n",
    "players_data = pd.read_csv(f\"{FILES_PATH}players.csv\", delimiter=\",\")\n",
    "results_data = pd.read_csv(f\"{FILES_PATH}results.csv\", delimiter=\",\")\n",
    "startingXI_data = pd.read_csv(f\"{FILES_PATH}startingXI.csv\", delimiter=\",\")\n",
    "teams_data = pd.read_csv(f\"{FILES_PATH}teams.csv\", delimiter=\",\")"
   ]
  },
  {
   "cell_type": "code",
   "execution_count": 4,
   "metadata": {},
   "outputs": [],
   "source": [
    "results_data = results_data.merge(teams_data, left_on=\"HomeTeamID\", right_on = \"TeamID\", how=\"left\")\\\n",
    "    .rename(columns = {\"TeamName\" : \"HomeTeamName\"})\\\n",
    "        .drop(columns=\"TeamID\")\n",
    "\n",
    "results_data = results_data.merge(teams_data, left_on=\"AwayTeamID\", right_on = \"TeamID\", how=\"left\")\\\n",
    "    .rename(columns = {\"TeamName\" : \"AwayTeamName\"})\\\n",
    "        .drop(columns=\"TeamID\")"
   ]
  },
  {
   "cell_type": "markdown",
   "metadata": {},
   "source": [
    "## Feature engineering\n",
    "- It is tempting to add a time parameter since teams can potentially ramp up or on the contrary, crash throughout the season. However, since we only have one season available for training, this variable would likely be irrelevant. "
   ]
  },
  {
   "cell_type": "markdown",
   "metadata": {},
   "source": [
    "### Measure impact of home vs away"
   ]
  },
  {
   "cell_type": "code",
   "execution_count": 6,
   "metadata": {},
   "outputs": [],
   "source": [
    "results_data[\"HomeAttackRate\"] = results_data[\"HomeScore\"]/results_data[\"HomeShots\"]\n",
    "results_data[\"AwayAttackRate\"] = results_data[\"AwayScore\"]/results_data[\"AwayShots\"]\n",
    "\n",
    "results_data[\"HomeDefenseRate\"] = 1-results_data[\"AwayScore\"]/results_data[\"AwayShots\"]\n",
    "results_data[\"AwayDefenseRate\"] = 1-results_data[\"HomeScore\"]/results_data[\"HomeShots\"]"
   ]
  },
  {
   "cell_type": "code",
   "execution_count": 7,
   "metadata": {},
   "outputs": [
    {
     "ename": "KeyError",
     "evalue": "'HomeShotConversion'",
     "output_type": "error",
     "traceback": [
      "\u001b[0;31m---------------------------------------------------------------------------\u001b[0m",
      "\u001b[0;31mKeyError\u001b[0m                                  Traceback (most recent call last)",
      "File \u001b[0;32m~/pythia/env/lib/python3.10/site-packages/pandas/core/indexes/base.py:3805\u001b[0m, in \u001b[0;36mIndex.get_loc\u001b[0;34m(self, key)\u001b[0m\n\u001b[1;32m   3804\u001b[0m \u001b[38;5;28;01mtry\u001b[39;00m:\n\u001b[0;32m-> 3805\u001b[0m     \u001b[38;5;28;01mreturn\u001b[39;00m \u001b[38;5;28;43mself\u001b[39;49m\u001b[38;5;241;43m.\u001b[39;49m\u001b[43m_engine\u001b[49m\u001b[38;5;241;43m.\u001b[39;49m\u001b[43mget_loc\u001b[49m\u001b[43m(\u001b[49m\u001b[43mcasted_key\u001b[49m\u001b[43m)\u001b[49m\n\u001b[1;32m   3806\u001b[0m \u001b[38;5;28;01mexcept\u001b[39;00m \u001b[38;5;167;01mKeyError\u001b[39;00m \u001b[38;5;28;01mas\u001b[39;00m err:\n",
      "File \u001b[0;32mindex.pyx:167\u001b[0m, in \u001b[0;36mpandas._libs.index.IndexEngine.get_loc\u001b[0;34m()\u001b[0m\n",
      "File \u001b[0;32mindex.pyx:196\u001b[0m, in \u001b[0;36mpandas._libs.index.IndexEngine.get_loc\u001b[0;34m()\u001b[0m\n",
      "File \u001b[0;32mpandas/_libs/hashtable_class_helper.pxi:7081\u001b[0m, in \u001b[0;36mpandas._libs.hashtable.PyObjectHashTable.get_item\u001b[0;34m()\u001b[0m\n",
      "File \u001b[0;32mpandas/_libs/hashtable_class_helper.pxi:7089\u001b[0m, in \u001b[0;36mpandas._libs.hashtable.PyObjectHashTable.get_item\u001b[0;34m()\u001b[0m\n",
      "\u001b[0;31mKeyError\u001b[0m: 'HomeShotConversion'",
      "\nThe above exception was the direct cause of the following exception:\n",
      "\u001b[0;31mKeyError\u001b[0m                                  Traceback (most recent call last)",
      "Cell \u001b[0;32mIn[7], line 1\u001b[0m\n\u001b[0;32m----> 1\u001b[0m plt\u001b[38;5;241m.\u001b[39mhist(\u001b[43mresults_data\u001b[49m\u001b[43m[\u001b[49m\u001b[38;5;124;43m\"\u001b[39;49m\u001b[38;5;124;43mHomeShotConversion\u001b[39;49m\u001b[38;5;124;43m\"\u001b[39;49m\u001b[43m]\u001b[49m)\n\u001b[1;32m      2\u001b[0m plt\u001b[38;5;241m.\u001b[39mhist(results_data[\u001b[38;5;124m\"\u001b[39m\u001b[38;5;124mAwayShotConversion\u001b[39m\u001b[38;5;124m\"\u001b[39m])\n",
      "File \u001b[0;32m~/pythia/env/lib/python3.10/site-packages/pandas/core/frame.py:4102\u001b[0m, in \u001b[0;36mDataFrame.__getitem__\u001b[0;34m(self, key)\u001b[0m\n\u001b[1;32m   4100\u001b[0m \u001b[38;5;28;01mif\u001b[39;00m \u001b[38;5;28mself\u001b[39m\u001b[38;5;241m.\u001b[39mcolumns\u001b[38;5;241m.\u001b[39mnlevels \u001b[38;5;241m>\u001b[39m \u001b[38;5;241m1\u001b[39m:\n\u001b[1;32m   4101\u001b[0m     \u001b[38;5;28;01mreturn\u001b[39;00m \u001b[38;5;28mself\u001b[39m\u001b[38;5;241m.\u001b[39m_getitem_multilevel(key)\n\u001b[0;32m-> 4102\u001b[0m indexer \u001b[38;5;241m=\u001b[39m \u001b[38;5;28;43mself\u001b[39;49m\u001b[38;5;241;43m.\u001b[39;49m\u001b[43mcolumns\u001b[49m\u001b[38;5;241;43m.\u001b[39;49m\u001b[43mget_loc\u001b[49m\u001b[43m(\u001b[49m\u001b[43mkey\u001b[49m\u001b[43m)\u001b[49m\n\u001b[1;32m   4103\u001b[0m \u001b[38;5;28;01mif\u001b[39;00m is_integer(indexer):\n\u001b[1;32m   4104\u001b[0m     indexer \u001b[38;5;241m=\u001b[39m [indexer]\n",
      "File \u001b[0;32m~/pythia/env/lib/python3.10/site-packages/pandas/core/indexes/base.py:3812\u001b[0m, in \u001b[0;36mIndex.get_loc\u001b[0;34m(self, key)\u001b[0m\n\u001b[1;32m   3807\u001b[0m     \u001b[38;5;28;01mif\u001b[39;00m \u001b[38;5;28misinstance\u001b[39m(casted_key, \u001b[38;5;28mslice\u001b[39m) \u001b[38;5;129;01mor\u001b[39;00m (\n\u001b[1;32m   3808\u001b[0m         \u001b[38;5;28misinstance\u001b[39m(casted_key, abc\u001b[38;5;241m.\u001b[39mIterable)\n\u001b[1;32m   3809\u001b[0m         \u001b[38;5;129;01mand\u001b[39;00m \u001b[38;5;28many\u001b[39m(\u001b[38;5;28misinstance\u001b[39m(x, \u001b[38;5;28mslice\u001b[39m) \u001b[38;5;28;01mfor\u001b[39;00m x \u001b[38;5;129;01min\u001b[39;00m casted_key)\n\u001b[1;32m   3810\u001b[0m     ):\n\u001b[1;32m   3811\u001b[0m         \u001b[38;5;28;01mraise\u001b[39;00m InvalidIndexError(key)\n\u001b[0;32m-> 3812\u001b[0m     \u001b[38;5;28;01mraise\u001b[39;00m \u001b[38;5;167;01mKeyError\u001b[39;00m(key) \u001b[38;5;28;01mfrom\u001b[39;00m \u001b[38;5;21;01merr\u001b[39;00m\n\u001b[1;32m   3813\u001b[0m \u001b[38;5;28;01mexcept\u001b[39;00m \u001b[38;5;167;01mTypeError\u001b[39;00m:\n\u001b[1;32m   3814\u001b[0m     \u001b[38;5;66;03m# If we have a listlike key, _check_indexing_error will raise\u001b[39;00m\n\u001b[1;32m   3815\u001b[0m     \u001b[38;5;66;03m#  InvalidIndexError. Otherwise we fall through and re-raise\u001b[39;00m\n\u001b[1;32m   3816\u001b[0m     \u001b[38;5;66;03m#  the TypeError.\u001b[39;00m\n\u001b[1;32m   3817\u001b[0m     \u001b[38;5;28mself\u001b[39m\u001b[38;5;241m.\u001b[39m_check_indexing_error(key)\n",
      "\u001b[0;31mKeyError\u001b[0m: 'HomeShotConversion'"
     ]
    }
   ],
   "source": [
    "plt.hist(results_data[\"HomeShotConversion\"])\n",
    "plt.hist(results_data[\"AwayShotConversion\"])"
   ]
  },
  {
   "cell_type": "code",
   "execution_count": 8,
   "metadata": {},
   "outputs": [
    {
     "data": {
      "text/plain": [
       "(array([ 88., 393., 436., 256., 209.,  74.,  31.,  18.,   3.,   4.]),\n",
       " array([ 1. ,  4.7,  8.4, 12.1, 15.8, 19.5, 23.2, 26.9, 30.6, 34.3, 38. ]),\n",
       " <BarContainer object of 10 artists>)"
      ]
     },
     "execution_count": 8,
     "metadata": {},
     "output_type": "execute_result"
    },
    {
     "data": {
      "image/png": "[encoded data removed]",
      "text/plain": [
       "<Figure size 640x480 with 1 Axes>"
      ]
     },
     "metadata": {},
     "output_type": "display_data"
    }
   ],
   "source": [
    "plt.hist(results_data[\"HomeShots\"])\n",
    "plt.hist(results_data[\"AwayShots\"])"
   ]
  },
  {
   "cell_type": "code",
   "execution_count": 9,
   "metadata": {},
   "outputs": [
    {
     "data": {
      "text/plain": [
       "(array([  1.,   0.,   3.,  24.,  55., 128., 252., 276., 365., 408.]),\n",
       " array([0.5 , 0.55, 0.6 , 0.65, 0.7 , 0.75, 0.8 , 0.85, 0.9 , 0.95, 1.  ]),\n",
       " <BarContainer object of 10 artists>)"
      ]
     },
     "execution_count": 9,
     "metadata": {},
     "output_type": "execute_result"
    },
    {
     "data": {
      "image/png": "[encoded data removed]",
      "text/plain": [
       "<Figure size 640x480 with 1 Axes>"
      ]
     },
     "metadata": {},
     "output_type": "display_data"
    }
   ],
   "source": [
    "plt.hist(results_data[\"HomeDefenseRate\"])\n",
    "plt.hist(results_data[\"AwayDefenseRate\"])"
   ]
  },
  {
   "cell_type": "markdown",
   "metadata": {},
   "source": [
    "## Feature engineering on players"
   ]
  },
  {
   "cell_type": "markdown",
   "metadata": {},
   "source": [
    "Let's first check if any players with the same name."
   ]
  },
  {
   "cell_type": "code",
   "execution_count": 10,
   "metadata": {},
   "outputs": [
    {
     "data": {
      "text/html": [
       "<div>\n",
       "<style scoped>\n",
       "    .dataframe tbody tr th:only-of-type {\n",
       "        vertical-align: middle;\n",
       "    }\n",
       "\n",
       "    .dataframe tbody tr th {\n",
       "        vertical-align: top;\n",
       "    }\n",
       "\n",
       "    .dataframe thead th {\n",
       "        text-align: right;\n",
       "    }\n",
       "</style>\n",
       "<table border=\"1\" class=\"dataframe\">\n",
       "  <thead>\n",
       "    <tr style=\"text-align: right;\">\n",
       "      <th></th>\n",
       "      <th>PlayerName</th>\n",
       "      <th>TeamID</th>\n",
       "      <th>PositionID</th>\n",
       "    </tr>\n",
       "  </thead>\n",
       "  <tbody>\n",
       "    <tr>\n",
       "      <th>92</th>\n",
       "      <td>Frank Smith</td>\n",
       "      <td>12</td>\n",
       "      <td>3</td>\n",
       "    </tr>\n",
       "    <tr>\n",
       "      <th>414</th>\n",
       "      <td>Fred Williams</td>\n",
       "      <td>24</td>\n",
       "      <td>3</td>\n",
       "    </tr>\n",
       "    <tr>\n",
       "      <th>650</th>\n",
       "      <td>Robert Pitts</td>\n",
       "      <td>8</td>\n",
       "      <td>1</td>\n",
       "    </tr>\n",
       "  </tbody>\n",
       "</table>\n",
       "</div>"
      ],
      "text/plain": [
       "        PlayerName  TeamID  PositionID\n",
       "92     Frank Smith      12           3\n",
       "414  Fred Williams      24           3\n",
       "650   Robert Pitts       8           1"
      ]
     },
     "execution_count": 10,
     "metadata": {},
     "output_type": "execute_result"
    }
   ],
   "source": [
    "players_data[players_data[\"PlayerName\"].duplicated()]\n",
    "## It is important to make the distinctions between these players who share their name with at least another player."
   ]
  },
  {
   "cell_type": "markdown",
   "metadata": {},
   "source": [
    "We create a unique ID for every player"
   ]
  },
  {
   "cell_type": "code",
   "execution_count": 11,
   "metadata": {},
   "outputs": [],
   "source": [
    "players_data[\"PlayerID\"] = np.arange(1, len(players_data)+1)"
   ]
  },
  {
   "cell_type": "markdown",
   "metadata": {},
   "source": [
    "### Add team ID to the dataset using players' name"
   ]
  },
  {
   "cell_type": "code",
   "execution_count": 12,
   "metadata": {},
   "outputs": [],
   "source": [
    "homonymous_player_names = players_data[players_data[\"PlayerName\"].duplicated()][\"PlayerName\"].values\n",
    "player_names = startingXI_data[\"StartingXI\"][0].split(\",\")\n",
    "\n",
    "def link_players_to_teamID(player_names : list, homonymous_player_names : list = homonymous_player_names)->str:\n",
    "    for _name in player_names:\n",
    "        if _name not in homonymous_player_names:\n",
    "            return players_data[players_data[\"PlayerName\"]==_name][\"TeamID\"].values[0]\n",
    "        else: \n",
    "            continue\n",
    "\n",
    "startingXI_data[\"StartingXI\"] = startingXI_data[\"StartingXI\"].map(lambda x: x.split(\",\"))\n",
    "startingXI_data[\"TeamID\"] = startingXI_data[\"StartingXI\"].map(lambda x: link_players_to_teamID(x))"
   ]
  },
  {
   "cell_type": "markdown",
   "metadata": {},
   "source": [
    "### Explode the dataframe to get one player per row, per game, per team"
   ]
  },
  {
   "cell_type": "code",
   "execution_count": 13,
   "metadata": {},
   "outputs": [],
   "source": [
    "startingXI_data_exploded = startingXI_data.copy()\n",
    "startingXI_data_exploded = startingXI_data_exploded.explode(\"StartingXI\").rename(columns = {\"StartingXI\" : \"PlayerName\"})\n",
    "startingXI_data_exploded = startingXI_data_exploded.merge(players_data, on = [\"PlayerName\", \"TeamID\"], how = \"left\")\n",
    "startingXI_data_exploded[\"MatchPlayed\"] = 1 ## This variable will be useful later on for any calculations (e.g.: to count the number of games played)"
   ]
  },
  {
   "cell_type": "markdown",
   "metadata": {},
   "source": [
    "### Check the number of formations used throughout the two seasons"
   ]
  },
  {
   "cell_type": "code",
   "execution_count": 14,
   "metadata": {},
   "outputs": [
    {
     "data": {
      "text/plain": [
       "{(1, 3, 5, 2), (1, 4, 3, 3), (1, 4, 4, 2)}"
      ]
     },
     "execution_count": 14,
     "metadata": {},
     "output_type": "execute_result"
    }
   ],
   "source": [
    "formation_data = startingXI_data_exploded.groupby([\"MatchID\", \"TeamID\", \"PositionID\"]).agg(\n",
    "    {\"MatchPlayed\" : \"sum\"}\n",
    ").reset_index().sort_values(by=[\"MatchID\", \"TeamID\", \"PositionID\"]).groupby([\"MatchID\", \"TeamID\"]).agg(\n",
    "    {\"MatchPlayed\":list}\n",
    ").reset_index().rename(columns={\"MatchPlayed\" : \"MatchFormation\"})\n",
    "\n",
    "set(tuple(i) for i in formation_data[\"MatchFormation\"])"
   ]
  },
  {
   "cell_type": "markdown",
   "metadata": {},
   "source": [
    "We add the number of defenders, midfielders, forwards for each team and every game"
   ]
  },
  {
   "cell_type": "code",
   "execution_count": 15,
   "metadata": {},
   "outputs": [
    {
     "data": {
      "text/html": [
       "<div>\n",
       "<style scoped>\n",
       "    .dataframe tbody tr th:only-of-type {\n",
       "        vertical-align: middle;\n",
       "    }\n",
       "\n",
       "    .dataframe tbody tr th {\n",
       "        vertical-align: top;\n",
       "    }\n",
       "\n",
       "    .dataframe thead th {\n",
       "        text-align: right;\n",
       "    }\n",
       "</style>\n",
       "<table border=\"1\" class=\"dataframe\">\n",
       "  <thead>\n",
       "    <tr style=\"text-align: right;\">\n",
       "      <th></th>\n",
       "      <th>MatchID</th>\n",
       "      <th>TeamID</th>\n",
       "      <th>MatchFormation</th>\n",
       "      <th>NumberDefenders</th>\n",
       "      <th>NumberMidfielders</th>\n",
       "      <th>NumberForwards</th>\n",
       "    </tr>\n",
       "  </thead>\n",
       "  <tbody>\n",
       "    <tr>\n",
       "      <th>0</th>\n",
       "      <td>1</td>\n",
       "      <td>1</td>\n",
       "      <td>[1, 4, 3, 3]</td>\n",
       "      <td>4</td>\n",
       "      <td>3</td>\n",
       "      <td>3</td>\n",
       "    </tr>\n",
       "    <tr>\n",
       "      <th>1</th>\n",
       "      <td>1</td>\n",
       "      <td>7</td>\n",
       "      <td>[1, 4, 3, 3]</td>\n",
       "      <td>4</td>\n",
       "      <td>3</td>\n",
       "      <td>3</td>\n",
       "    </tr>\n",
       "    <tr>\n",
       "      <th>2</th>\n",
       "      <td>2</td>\n",
       "      <td>6</td>\n",
       "      <td>[1, 3, 5, 2]</td>\n",
       "      <td>3</td>\n",
       "      <td>5</td>\n",
       "      <td>2</td>\n",
       "    </tr>\n",
       "    <tr>\n",
       "      <th>3</th>\n",
       "      <td>2</td>\n",
       "      <td>8</td>\n",
       "      <td>[1, 4, 3, 3]</td>\n",
       "      <td>4</td>\n",
       "      <td>3</td>\n",
       "      <td>3</td>\n",
       "    </tr>\n",
       "    <tr>\n",
       "      <th>4</th>\n",
       "      <td>3</td>\n",
       "      <td>5</td>\n",
       "      <td>[1, 4, 4, 2]</td>\n",
       "      <td>4</td>\n",
       "      <td>4</td>\n",
       "      <td>2</td>\n",
       "    </tr>\n",
       "    <tr>\n",
       "      <th>...</th>\n",
       "      <td>...</td>\n",
       "      <td>...</td>\n",
       "      <td>...</td>\n",
       "      <td>...</td>\n",
       "      <td>...</td>\n",
       "      <td>...</td>\n",
       "    </tr>\n",
       "    <tr>\n",
       "      <th>3019</th>\n",
       "      <td>1510</td>\n",
       "      <td>17</td>\n",
       "      <td>[1, 3, 5, 2]</td>\n",
       "      <td>3</td>\n",
       "      <td>5</td>\n",
       "      <td>2</td>\n",
       "    </tr>\n",
       "    <tr>\n",
       "      <th>3020</th>\n",
       "      <td>1511</td>\n",
       "      <td>13</td>\n",
       "      <td>[1, 4, 3, 3]</td>\n",
       "      <td>4</td>\n",
       "      <td>3</td>\n",
       "      <td>3</td>\n",
       "    </tr>\n",
       "    <tr>\n",
       "      <th>3021</th>\n",
       "      <td>1511</td>\n",
       "      <td>16</td>\n",
       "      <td>[1, 4, 3, 3]</td>\n",
       "      <td>4</td>\n",
       "      <td>3</td>\n",
       "      <td>3</td>\n",
       "    </tr>\n",
       "    <tr>\n",
       "      <th>3022</th>\n",
       "      <td>1512</td>\n",
       "      <td>14</td>\n",
       "      <td>[1, 4, 3, 3]</td>\n",
       "      <td>4</td>\n",
       "      <td>3</td>\n",
       "      <td>3</td>\n",
       "    </tr>\n",
       "    <tr>\n",
       "      <th>3023</th>\n",
       "      <td>1512</td>\n",
       "      <td>15</td>\n",
       "      <td>[1, 3, 5, 2]</td>\n",
       "      <td>3</td>\n",
       "      <td>5</td>\n",
       "      <td>2</td>\n",
       "    </tr>\n",
       "  </tbody>\n",
       "</table>\n",
       "<p>3024 rows × 6 columns</p>\n",
       "</div>"
      ],
      "text/plain": [
       "      MatchID  TeamID MatchFormation  NumberDefenders  NumberMidfielders  \\\n",
       "0           1       1   [1, 4, 3, 3]                4                  3   \n",
       "1           1       7   [1, 4, 3, 3]                4                  3   \n",
       "2           2       6   [1, 3, 5, 2]                3                  5   \n",
       "3           2       8   [1, 4, 3, 3]                4                  3   \n",
       "4           3       5   [1, 4, 4, 2]                4                  4   \n",
       "...       ...     ...            ...              ...                ...   \n",
       "3019     1510      17   [1, 3, 5, 2]                3                  5   \n",
       "3020     1511      13   [1, 4, 3, 3]                4                  3   \n",
       "3021     1511      16   [1, 4, 3, 3]                4                  3   \n",
       "3022     1512      14   [1, 4, 3, 3]                4                  3   \n",
       "3023     1512      15   [1, 3, 5, 2]                3                  5   \n",
       "\n",
       "      NumberForwards  \n",
       "0                  3  \n",
       "1                  3  \n",
       "2                  2  \n",
       "3                  3  \n",
       "4                  2  \n",
       "...              ...  \n",
       "3019               2  \n",
       "3020               3  \n",
       "3021               3  \n",
       "3022               3  \n",
       "3023               2  \n",
       "\n",
       "[3024 rows x 6 columns]"
      ]
     },
     "execution_count": 15,
     "metadata": {},
     "output_type": "execute_result"
    }
   ],
   "source": [
    "formation_data[\"NumberDefenders\"] = formation_data.apply(lambda x: x.MatchFormation[1], axis=1)\n",
    "formation_data[\"NumberMidfielders\"] = formation_data.apply(lambda x: x.MatchFormation[2], axis=1)\n",
    "formation_data[\"NumberForwards\"] = formation_data.apply(lambda x: x.MatchFormation[3], axis=1)\n",
    "formation_data"
   ]
  },
  {
   "cell_type": "markdown",
   "metadata": {},
   "source": [
    "### Explore formation of players for every game"
   ]
  },
  {
   "cell_type": "code",
   "execution_count": 16,
   "metadata": {},
   "outputs": [
    {
     "data": {
      "text/html": [
       "<div>\n",
       "<style scoped>\n",
       "    .dataframe tbody tr th:only-of-type {\n",
       "        vertical-align: middle;\n",
       "    }\n",
       "\n",
       "    .dataframe tbody tr th {\n",
       "        vertical-align: top;\n",
       "    }\n",
       "\n",
       "    .dataframe thead th {\n",
       "        text-align: right;\n",
       "    }\n",
       "</style>\n",
       "<table border=\"1\" class=\"dataframe\">\n",
       "  <thead>\n",
       "    <tr style=\"text-align: right;\">\n",
       "      <th></th>\n",
       "      <th>MatchID</th>\n",
       "      <th>TeamID</th>\n",
       "      <th>PlayerID</th>\n",
       "    </tr>\n",
       "  </thead>\n",
       "  <tbody>\n",
       "    <tr>\n",
       "      <th>0</th>\n",
       "      <td>1</td>\n",
       "      <td>1</td>\n",
       "      <td>[[2], [4, 6, 8, 9], [15, 17, 18], [20, 22, 25]]</td>\n",
       "    </tr>\n",
       "    <tr>\n",
       "      <th>1</th>\n",
       "      <td>1</td>\n",
       "      <td>7</td>\n",
       "      <td>[[628], [631, 634, 635, 636], [641, 642, 644],...</td>\n",
       "    </tr>\n",
       "    <tr>\n",
       "      <th>2</th>\n",
       "      <td>2</td>\n",
       "      <td>6</td>\n",
       "      <td>[[601], [604, 609, 611], [612, 613, 614, 617, ...</td>\n",
       "    </tr>\n",
       "    <tr>\n",
       "      <th>3</th>\n",
       "      <td>2</td>\n",
       "      <td>8</td>\n",
       "      <td>[[652], [654, 656, 660, 661], [664, 665, 668],...</td>\n",
       "    </tr>\n",
       "    <tr>\n",
       "      <th>4</th>\n",
       "      <td>3</td>\n",
       "      <td>5</td>\n",
       "      <td>[[578], [582, 584, 585, 586], [587, 588, 591, ...</td>\n",
       "    </tr>\n",
       "    <tr>\n",
       "      <th>...</th>\n",
       "      <td>...</td>\n",
       "      <td>...</td>\n",
       "      <td>...</td>\n",
       "    </tr>\n",
       "    <tr>\n",
       "      <th>3019</th>\n",
       "      <td>1510</td>\n",
       "      <td>17</td>\n",
       "      <td>[[203], [205, 206, 207], [212, 214, 215, 217, ...</td>\n",
       "    </tr>\n",
       "    <tr>\n",
       "      <th>3020</th>\n",
       "      <td>1511</td>\n",
       "      <td>13</td>\n",
       "      <td>[[101], [105, 108, 110, 111], [115, 116, 117],...</td>\n",
       "    </tr>\n",
       "    <tr>\n",
       "      <th>3021</th>\n",
       "      <td>1511</td>\n",
       "      <td>16</td>\n",
       "      <td>[[176], [179, 180, 184, 186], [189, 192, 193],...</td>\n",
       "    </tr>\n",
       "    <tr>\n",
       "      <th>3022</th>\n",
       "      <td>1512</td>\n",
       "      <td>14</td>\n",
       "      <td>[[128], [129, 131, 133, 136], [137, 138, 140],...</td>\n",
       "    </tr>\n",
       "    <tr>\n",
       "      <th>3023</th>\n",
       "      <td>1512</td>\n",
       "      <td>15</td>\n",
       "      <td>[[152], [156, 159, 160], [162, 163, 164, 165, ...</td>\n",
       "    </tr>\n",
       "  </tbody>\n",
       "</table>\n",
       "<p>3024 rows × 3 columns</p>\n",
       "</div>"
      ],
      "text/plain": [
       "      MatchID  TeamID                                           PlayerID\n",
       "0           1       1    [[2], [4, 6, 8, 9], [15, 17, 18], [20, 22, 25]]\n",
       "1           1       7  [[628], [631, 634, 635, 636], [641, 642, 644],...\n",
       "2           2       6  [[601], [604, 609, 611], [612, 613, 614, 617, ...\n",
       "3           2       8  [[652], [654, 656, 660, 661], [664, 665, 668],...\n",
       "4           3       5  [[578], [582, 584, 585, 586], [587, 588, 591, ...\n",
       "...       ...     ...                                                ...\n",
       "3019     1510      17  [[203], [205, 206, 207], [212, 214, 215, 217, ...\n",
       "3020     1511      13  [[101], [105, 108, 110, 111], [115, 116, 117],...\n",
       "3021     1511      16  [[176], [179, 180, 184, 186], [189, 192, 193],...\n",
       "3022     1512      14  [[128], [129, 131, 133, 136], [137, 138, 140],...\n",
       "3023     1512      15  [[152], [156, 159, 160], [162, 163, 164, 165, ...\n",
       "\n",
       "[3024 rows x 3 columns]"
      ]
     },
     "execution_count": 16,
     "metadata": {},
     "output_type": "execute_result"
    }
   ],
   "source": [
    "all_combinations = startingXI_data_exploded.sort_values(by=[\"MatchID\", \"TeamID\", \"PositionID\", \"PlayerID\"]).groupby([\"MatchID\", \"TeamID\", \"PositionID\"]).agg(\n",
    "    {\"PlayerID\" : list}\n",
    ").reset_index().groupby([\"MatchID\", \"TeamID\"]).agg(\n",
    "    {\"PlayerID\":list}\n",
    ").reset_index()\n",
    "\n",
    "all_combinations"
   ]
  },
  {
   "cell_type": "code",
   "execution_count": 17,
   "metadata": {},
   "outputs": [],
   "source": [
    "all_combinations[\"StartingGoalkeeper\"] = all_combinations.apply(lambda x: x.PlayerID[0], axis=1)\n",
    "all_combinations[\"StartingDefenders\"] = all_combinations.apply(lambda x: x.PlayerID[1], axis=1)\n",
    "all_combinations[\"StartingMidfielders\"] = all_combinations.apply(lambda x: x.PlayerID[2], axis=1)\n",
    "all_combinations[\"StartingForwards\"] = all_combinations.apply(lambda x: x.PlayerID[3], axis=1)\n",
    "all_combinations = all_combinations.drop(columns = [\"PlayerID\"])"
   ]
  },
  {
   "cell_type": "code",
   "execution_count": 18,
   "metadata": {},
   "outputs": [],
   "source": [
    "all_combinations = all_combinations.merge(results_data, on = [\"MatchID\"], how = \"left\")"
   ]
  },
  {
   "cell_type": "markdown",
   "metadata": {},
   "source": [
    "We add the Boolean: was the game home or away?"
   ]
  },
  {
   "cell_type": "code",
   "execution_count": 19,
   "metadata": {},
   "outputs": [],
   "source": [
    "all_combinations[\"Home\"] = all_combinations.apply(lambda x : 1 if x.HomeTeamID ==x.TeamID else 0, axis = 1)"
   ]
  },
  {
   "cell_type": "markdown",
   "metadata": {},
   "source": [
    "## Goalkeeper score calculation"
   ]
  },
  {
   "cell_type": "code",
   "execution_count": 20,
   "metadata": {},
   "outputs": [],
   "source": [
    "team_data = all_combinations.copy()\n",
    "team_data = team_data[team_data[\"TeamID\"]==1]"
   ]
  },
  {
   "cell_type": "code",
   "execution_count": 21,
   "metadata": {},
   "outputs": [],
   "source": [
    "total_list = []\n",
    "for i in range(len(team_data)//4):\n",
    "    total_list += 4*[i//4]\n",
    "\n",
    "team_data[\"GameSeries\"] = total_list"
   ]
  },
  {
   "cell_type": "markdown",
   "metadata": {},
   "source": [
    "We merge the season results with the players dataset"
   ]
  },
  {
   "cell_type": "code",
   "execution_count": 236,
   "metadata": {},
   "outputs": [],
   "source": [
    "results_with_players = startingXI_data_exploded.merge(results_data, on = [\"MatchID\"], how = \"left\")"
   ]
  },
  {
   "cell_type": "markdown",
   "metadata": {},
   "source": [
    "We perform feature engineering on season 1 only"
   ]
  },
  {
   "cell_type": "code",
   "execution_count": 237,
   "metadata": {},
   "outputs": [],
   "source": [
    "results_with_players = results_with_players[results_with_players[\"SeasonID\"]==1]"
   ]
  },
  {
   "cell_type": "markdown",
   "metadata": {},
   "source": [
    "Create new general variables for score and shots to avoid the home/away distinction"
   ]
  },
  {
   "cell_type": "code",
   "execution_count": 238,
   "metadata": {},
   "outputs": [],
   "source": [
    "results_with_players[\"TeamScore\"] = results_with_players.apply(lambda x : x.HomeScore if x.TeamID == x.HomeTeamID else x.AwayScore, axis=1)\n",
    "results_with_players[\"OpponentScore\"] = results_with_players.apply(lambda x : x.AwayScore if x.TeamID == x.HomeTeamID else x.HomeScore, axis=1)\n",
    "results_with_players = results_with_players.drop(columns = [\"HomeScore\", \"AwayScore\"])\n",
    "\n",
    "\n",
    "results_with_players[\"TeamShots\"] = results_with_players.apply(lambda x : x.HomeShots if x.TeamID == x.HomeTeamID else x.AwayShots, axis=1)\n",
    "results_with_players[\"OpponentShots\"] = results_with_players.apply(lambda x : x.AwayShots if x.TeamID == x.HomeTeamID else x.HomeShots, axis=1)\n",
    "results_with_players = results_with_players.drop(columns = [\"HomeShots\", \"AwayShots\"])\n"
   ]
  },
  {
   "cell_type": "markdown",
   "metadata": {},
   "source": [
    "We calculate the number of goals and shots conceded for every player over the past 4 games they played"
   ]
  },
  {
   "cell_type": "code",
   "execution_count": 294,
   "metadata": {},
   "outputs": [],
   "source": [
    "results_with_players = results_with_players.sort_values(by = [\"PlayerID\", \"Gameweek\"], ascending=True).reset_index(drop=True)\n",
    "\n",
    "results_with_players[\"GoalkeeperConcededGoalsXGames\"]  = results_with_players\\\n",
    "    .groupby(\"PlayerID\")[\"OpponentScore\"]\\\n",
    "        .apply(lambda x: x.shift(1)\\\n",
    "               .rolling(window=4, min_periods=1).sum())\\\n",
    "                .reset_index(level=0, drop=True)\n",
    "\n",
    "results_with_players[\"GoalkeeperConcededShotsXGames\"]  = results_with_players.groupby(\"PlayerID\")[\"OpponentShots\"]\\\n",
    "    .apply(lambda x: x.shift(1)\\\n",
    "           .rolling(window=4, min_periods=1).sum())\\\n",
    "            .reset_index(level=0, drop=True)\n",
    "\n",
    "results_with_players[\"GoalkeeperConcededGoalsAllSeason\"]  = results_with_players.groupby(\"PlayerID\")[\"OpponentScore\"]\\\n",
    "    .apply(lambda x: x.shift(1)\\\n",
    "           .cumsum())\\\n",
    "            .reset_index(level=0, drop=True)\n",
    "\n",
    "results_with_players[\"GoalkeeperConcededShotsAllSeason\"]  = results_with_players.groupby(\"PlayerID\")[\"OpponentShots\"]\\\n",
    "    .apply(lambda x: x.shift(1)\\\n",
    "           .cumsum())\\\n",
    "            .reset_index(level=0, drop=True)\n",
    "\n",
    "# results_with_players[\"PlayerMatchPlayedXGames\"] = results_with_players.groupby(\"PlayerID\")[\"MatchPlayed\"]\\\n",
    "#     .apply(lambda x: x.shift(1)\\\n",
    "#            .rolling(window=4, min_periods=1).sum())\\\n",
    "#             .reset_index(level=0, drop=True)\n",
    "\n",
    "# results_with_players[\"PlayerMatchPlayedXGames\"] = results_with_players.groupby(\"PlayerID\")[\"MatchPlayed\"].rolling(window=4, min_periods = 1).sum().reset_index(level=0, drop=True)\n",
    "results_with_players[\"PlayerMatchPlayedXGames\"] = results_with_players.groupby(\"PlayerID\")[\"MatchPlayed\"].cumsum().reset_index(level=0, drop=True)\n"
   ]
  },
  {
   "cell_type": "code",
   "execution_count": 295,
   "metadata": {},
   "outputs": [],
   "source": [
    "results_with_players[\"GoalkeeperFirstGame\"] = results_with_players[\"GoalkeeperConcededShotsAllSeason\"].map(lambda x : 1 if pd.isna(x) else 0)"
   ]
  },
  {
   "cell_type": "code",
   "execution_count": 296,
   "metadata": {},
   "outputs": [],
   "source": [
    "results_with_players[\"GoalkeeperConcededShotsXGames\"] = results_with_players[\"GoalkeeperConcededShotsXGames\"].fillna(0)\n",
    "results_with_players[\"GoalkeeperConcededGoalsXGames\"] = results_with_players[\"GoalkeeperConcededGoalsXGames\"].fillna(0)"
   ]
  },
  {
   "cell_type": "code",
   "execution_count": 297,
   "metadata": {},
   "outputs": [],
   "source": [
    "results_with_players[\"GoalkeeperRatioXGames\"] = results_with_players.apply(lambda x : 1-x.GoalkeeperConcededGoalsXGames/x.GoalkeeperConcededShotsXGames if x.GoalkeeperConcededShotsXGames!=0 else 0, axis=1)"
   ]
  },
  {
   "cell_type": "markdown",
   "metadata": {},
   "source": [
    "Compute weighted mean of goalkeeper rating"
   ]
  },
  {
   "cell_type": "code",
   "execution_count": 298,
   "metadata": {},
   "outputs": [],
   "source": [
    "results_data_season1 = results_data.copy()\n",
    "results_data_season1 = results_data_season1[results_data_season1[\"SeasonID\"]==1]\n",
    "results_data_season1[\"TotalShots\"] = (results_data_season1[\"HomeShots\"]+results_data_season1[\"AwayShots\"])//2\n",
    "results_data_season1[\"TotalDefenseRate\"] = (results_data_season1[\"HomeDefenseRate\"]+results_data_season1[\"AwayDefenseRate\"])/2"
   ]
  },
  {
   "cell_type": "code",
   "execution_count": 299,
   "metadata": {},
   "outputs": [],
   "source": [
    "results_data_season1[\"BaselineTotalShots\"] = results_data_season1.groupby([\"SeasonID\", \"Gameweek\"])[\"TotalShots\"].cumsum()//results_data_season1[\"Gameweek\"]\n",
    "results_data_season1[\"BaselineGoalkeeperRating\"] = results_data_season1.groupby([\"SeasonID\", \"Gameweek\"])[\"TotalDefenseRate\"].mean().reset_index(drop=True)\n",
    "\n",
    "# /results_data_season1[\"Gameweek\"]"
   ]
  },
  {
   "cell_type": "code",
   "execution_count": null,
   "metadata": {},
   "outputs": [],
   "source": [
    "results_data_season1 = results_data_season1.groupby([\"SeasonID\", \"Gameweek\"]).agg(\n",
    "  AverageDefenseRate = (\"TotalDefenseRate\", \"mean\"),\n",
    "  AverageTotalShots = (\"TotalShots\", \"mean\")).reset_index(drop=False)\n",
    "\n",
    "results_with_players = results_with_players.merge(results_data_season1, on = [\"SeasonID\", \"Gameweek\"], how=\"left\")"
   ]
  },
  {
   "cell_type": "markdown",
   "metadata": {},
   "source": [
    "## Plan of action\n",
    "- $$\\text{Goalkeeper rating} = (1 - \\frac{\\text{Goals conceded}}{\\text{Number of shots conceded}})*R$$\n",
    "- $$\\text{R} = \\frac{\\text{Number of shots conceded}}{\\text{Average number of shots conceded}}\n",
    "- The variable Avergae number of shots conceded is a sliding window over the past X gameweeks\n",
    "- That way we take into account the fact that a goalkeeper facing many shots and stopping most of them is probably better.\n",
    "\n",
    "- $$\\text{Adjusted rating} = \\frac{n}{n+k}*\\text{Goalkeeper rating} + \\frac{k}{k+n}*\\text{baseline rating}$$\n",
    "- n: number of shots faced by the goalkeeper\n",
    "- k: influence of the baseline\n",
    "- baseline rating is the average rating of goalkeepers over a sliding window of size X\n",
    "\n",
    "\n",
    "- Average of all the Goalkeeper ratings over time using the following weighted sum:\n",
    "- Let's say it is gameweek 10, the goalkeeper played at Gameweeks: 3, 5, 7\n",
    "- Weights = [3, 5, 7]\n",
    "- $$\\text{Normalized weights} = \\frac{\\text{weight}_{i}}{\\text{Sum available weights}}$$\n",
    "- That way we give more weight to the most recent performances of the goalkeeper.\n",
    "\n",
    "\n",
    "- $$\\text{Adjusted rating} = \\frac{n}{n+k}*\\text{Goalkeeper rating} + \\frac{k}{k+n}*\\text{baseline rating}$$\n",
    "- n: number of games played by the player\n",
    "- k: influence of the baseline\n",
    "- baseline rating is the average rating of goalkeepers over a sliding window of size X\n",
    "- That way we avoid giving too much influence to ratings based on a little number of games"
   ]
  },
  {
   "cell_type": "code",
   "execution_count": 309,
   "metadata": {},
   "outputs": [
    {
     "data": {
      "text/html": [
       "<div>\n",
       "<style scoped>\n",
       "    .dataframe tbody tr th:only-of-type {\n",
       "        vertical-align: middle;\n",
       "    }\n",
       "\n",
       "    .dataframe tbody tr th {\n",
       "        vertical-align: top;\n",
       "    }\n",
       "\n",
       "    .dataframe thead th {\n",
       "        text-align: right;\n",
       "    }\n",
       "</style>\n",
       "<table border=\"1\" class=\"dataframe\">\n",
       "  <thead>\n",
       "    <tr style=\"text-align: right;\">\n",
       "      <th></th>\n",
       "      <th>MatchID</th>\n",
       "      <th>PlayerName</th>\n",
       "      <th>TeamID</th>\n",
       "      <th>PositionID</th>\n",
       "      <th>PlayerID</th>\n",
       "      <th>MatchPlayed</th>\n",
       "      <th>SeasonID</th>\n",
       "      <th>Gameweek</th>\n",
       "      <th>HomeTeamID</th>\n",
       "      <th>AwayTeamID</th>\n",
       "      <th>...</th>\n",
       "      <th>OpponentShots</th>\n",
       "      <th>GoalkeeperConcededGoalsXGames</th>\n",
       "      <th>GoalkeeperConcededShotsXGames</th>\n",
       "      <th>GoalkeeperConcededGoalsAllSeason</th>\n",
       "      <th>GoalkeeperConcededShotsAllSeason</th>\n",
       "      <th>GoalkeeperFirstGame</th>\n",
       "      <th>GoalkeeperRatioXGames</th>\n",
       "      <th>PlayerMatchPlayedXGames</th>\n",
       "      <th>AverageDefenseRate</th>\n",
       "      <th>AverageTotalShots</th>\n",
       "    </tr>\n",
       "  </thead>\n",
       "  <tbody>\n",
       "    <tr>\n",
       "      <th>0</th>\n",
       "      <td>15</td>\n",
       "      <td>Odell Williams</td>\n",
       "      <td>1</td>\n",
       "      <td>1</td>\n",
       "      <td>1</td>\n",
       "      <td>1</td>\n",
       "      <td>1</td>\n",
       "      <td>2</td>\n",
       "      <td>2</td>\n",
       "      <td>1</td>\n",
       "      <td>...</td>\n",
       "      <td>9</td>\n",
       "      <td>0.0</td>\n",
       "      <td>0.0</td>\n",
       "      <td>NaN</td>\n",
       "      <td>NaN</td>\n",
       "      <td>1</td>\n",
       "      <td>0.000000</td>\n",
       "      <td>1</td>\n",
       "      <td>0.912683</td>\n",
       "      <td>13.785714</td>\n",
       "    </tr>\n",
       "    <tr>\n",
       "      <th>1</th>\n",
       "      <td>43</td>\n",
       "      <td>Odell Williams</td>\n",
       "      <td>1</td>\n",
       "      <td>1</td>\n",
       "      <td>1</td>\n",
       "      <td>1</td>\n",
       "      <td>1</td>\n",
       "      <td>4</td>\n",
       "      <td>1</td>\n",
       "      <td>13</td>\n",
       "      <td>...</td>\n",
       "      <td>12</td>\n",
       "      <td>0.0</td>\n",
       "      <td>9.0</td>\n",
       "      <td>0.0</td>\n",
       "      <td>9.0</td>\n",
       "      <td>0</td>\n",
       "      <td>1.000000</td>\n",
       "      <td>2</td>\n",
       "      <td>0.883735</td>\n",
       "      <td>12.857143</td>\n",
       "    </tr>\n",
       "    <tr>\n",
       "      <th>2</th>\n",
       "      <td>183</td>\n",
       "      <td>Odell Williams</td>\n",
       "      <td>1</td>\n",
       "      <td>1</td>\n",
       "      <td>1</td>\n",
       "      <td>1</td>\n",
       "      <td>1</td>\n",
       "      <td>14</td>\n",
       "      <td>14</td>\n",
       "      <td>1</td>\n",
       "      <td>...</td>\n",
       "      <td>11</td>\n",
       "      <td>1.0</td>\n",
       "      <td>21.0</td>\n",
       "      <td>1.0</td>\n",
       "      <td>21.0</td>\n",
       "      <td>0</td>\n",
       "      <td>0.952381</td>\n",
       "      <td>3</td>\n",
       "      <td>0.864987</td>\n",
       "      <td>13.071429</td>\n",
       "    </tr>\n",
       "    <tr>\n",
       "      <th>3</th>\n",
       "      <td>197</td>\n",
       "      <td>Odell Williams</td>\n",
       "      <td>1</td>\n",
       "      <td>1</td>\n",
       "      <td>1</td>\n",
       "      <td>1</td>\n",
       "      <td>1</td>\n",
       "      <td>15</td>\n",
       "      <td>1</td>\n",
       "      <td>4</td>\n",
       "      <td>...</td>\n",
       "      <td>13</td>\n",
       "      <td>2.0</td>\n",
       "      <td>32.0</td>\n",
       "      <td>2.0</td>\n",
       "      <td>32.0</td>\n",
       "      <td>0</td>\n",
       "      <td>0.937500</td>\n",
       "      <td>4</td>\n",
       "      <td>0.905516</td>\n",
       "      <td>13.928571</td>\n",
       "    </tr>\n",
       "    <tr>\n",
       "      <th>4</th>\n",
       "      <td>267</td>\n",
       "      <td>Odell Williams</td>\n",
       "      <td>1</td>\n",
       "      <td>1</td>\n",
       "      <td>1</td>\n",
       "      <td>1</td>\n",
       "      <td>1</td>\n",
       "      <td>20</td>\n",
       "      <td>1</td>\n",
       "      <td>24</td>\n",
       "      <td>...</td>\n",
       "      <td>14</td>\n",
       "      <td>3.0</td>\n",
       "      <td>45.0</td>\n",
       "      <td>3.0</td>\n",
       "      <td>45.0</td>\n",
       "      <td>0</td>\n",
       "      <td>0.933333</td>\n",
       "      <td>5</td>\n",
       "      <td>0.883708</td>\n",
       "      <td>14.357143</td>\n",
       "    </tr>\n",
       "    <tr>\n",
       "      <th>...</th>\n",
       "      <td>...</td>\n",
       "      <td>...</td>\n",
       "      <td>...</td>\n",
       "      <td>...</td>\n",
       "      <td>...</td>\n",
       "      <td>...</td>\n",
       "      <td>...</td>\n",
       "      <td>...</td>\n",
       "      <td>...</td>\n",
       "      <td>...</td>\n",
       "      <td>...</td>\n",
       "      <td>...</td>\n",
       "      <td>...</td>\n",
       "      <td>...</td>\n",
       "      <td>...</td>\n",
       "      <td>...</td>\n",
       "      <td>...</td>\n",
       "      <td>...</td>\n",
       "      <td>...</td>\n",
       "      <td>...</td>\n",
       "      <td>...</td>\n",
       "    </tr>\n",
       "    <tr>\n",
       "      <th>16627</th>\n",
       "      <td>602</td>\n",
       "      <td>Isidro Swanson</td>\n",
       "      <td>9</td>\n",
       "      <td>4</td>\n",
       "      <td>700</td>\n",
       "      <td>1</td>\n",
       "      <td>1</td>\n",
       "      <td>43</td>\n",
       "      <td>10</td>\n",
       "      <td>9</td>\n",
       "      <td>...</td>\n",
       "      <td>9</td>\n",
       "      <td>4.0</td>\n",
       "      <td>51.0</td>\n",
       "      <td>29.0</td>\n",
       "      <td>257.0</td>\n",
       "      <td>0</td>\n",
       "      <td>0.921569</td>\n",
       "      <td>20</td>\n",
       "      <td>0.878747</td>\n",
       "      <td>11.142857</td>\n",
       "    </tr>\n",
       "    <tr>\n",
       "      <th>16628</th>\n",
       "      <td>614</td>\n",
       "      <td>Isidro Swanson</td>\n",
       "      <td>9</td>\n",
       "      <td>4</td>\n",
       "      <td>700</td>\n",
       "      <td>1</td>\n",
       "      <td>1</td>\n",
       "      <td>44</td>\n",
       "      <td>4</td>\n",
       "      <td>9</td>\n",
       "      <td>...</td>\n",
       "      <td>21</td>\n",
       "      <td>4.0</td>\n",
       "      <td>46.0</td>\n",
       "      <td>30.0</td>\n",
       "      <td>266.0</td>\n",
       "      <td>0</td>\n",
       "      <td>0.913043</td>\n",
       "      <td>21</td>\n",
       "      <td>0.894322</td>\n",
       "      <td>13.071429</td>\n",
       "    </tr>\n",
       "    <tr>\n",
       "      <th>16629</th>\n",
       "      <td>696</td>\n",
       "      <td>Isidro Swanson</td>\n",
       "      <td>9</td>\n",
       "      <td>4</td>\n",
       "      <td>700</td>\n",
       "      <td>1</td>\n",
       "      <td>1</td>\n",
       "      <td>50</td>\n",
       "      <td>18</td>\n",
       "      <td>9</td>\n",
       "      <td>...</td>\n",
       "      <td>9</td>\n",
       "      <td>6.0</td>\n",
       "      <td>56.0</td>\n",
       "      <td>33.0</td>\n",
       "      <td>287.0</td>\n",
       "      <td>0</td>\n",
       "      <td>0.892857</td>\n",
       "      <td>22</td>\n",
       "      <td>0.899174</td>\n",
       "      <td>13.071429</td>\n",
       "    </tr>\n",
       "    <tr>\n",
       "      <th>16630</th>\n",
       "      <td>718</td>\n",
       "      <td>Isidro Swanson</td>\n",
       "      <td>9</td>\n",
       "      <td>4</td>\n",
       "      <td>700</td>\n",
       "      <td>1</td>\n",
       "      <td>1</td>\n",
       "      <td>52</td>\n",
       "      <td>15</td>\n",
       "      <td>9</td>\n",
       "      <td>...</td>\n",
       "      <td>32</td>\n",
       "      <td>5.0</td>\n",
       "      <td>54.0</td>\n",
       "      <td>33.0</td>\n",
       "      <td>296.0</td>\n",
       "      <td>0</td>\n",
       "      <td>0.907407</td>\n",
       "      <td>23</td>\n",
       "      <td>0.870724</td>\n",
       "      <td>13.285714</td>\n",
       "    </tr>\n",
       "    <tr>\n",
       "      <th>16631</th>\n",
       "      <td>732</td>\n",
       "      <td>Isidro Swanson</td>\n",
       "      <td>9</td>\n",
       "      <td>4</td>\n",
       "      <td>700</td>\n",
       "      <td>1</td>\n",
       "      <td>1</td>\n",
       "      <td>53</td>\n",
       "      <td>9</td>\n",
       "      <td>3</td>\n",
       "      <td>...</td>\n",
       "      <td>11</td>\n",
       "      <td>10.0</td>\n",
       "      <td>71.0</td>\n",
       "      <td>39.0</td>\n",
       "      <td>328.0</td>\n",
       "      <td>0</td>\n",
       "      <td>0.859155</td>\n",
       "      <td>24</td>\n",
       "      <td>0.891555</td>\n",
       "      <td>12.785714</td>\n",
       "    </tr>\n",
       "  </tbody>\n",
       "</table>\n",
       "<p>16632 rows × 29 columns</p>\n",
       "</div>"
      ],
      "text/plain": [
       "       MatchID      PlayerName  TeamID  PositionID  PlayerID  MatchPlayed  \\\n",
       "0           15  Odell Williams       1           1         1            1   \n",
       "1           43  Odell Williams       1           1         1            1   \n",
       "2          183  Odell Williams       1           1         1            1   \n",
       "3          197  Odell Williams       1           1         1            1   \n",
       "4          267  Odell Williams       1           1         1            1   \n",
       "...        ...             ...     ...         ...       ...          ...   \n",
       "16627      602  Isidro Swanson       9           4       700            1   \n",
       "16628      614  Isidro Swanson       9           4       700            1   \n",
       "16629      696  Isidro Swanson       9           4       700            1   \n",
       "16630      718  Isidro Swanson       9           4       700            1   \n",
       "16631      732  Isidro Swanson       9           4       700            1   \n",
       "\n",
       "       SeasonID  Gameweek  HomeTeamID  AwayTeamID  ... OpponentShots  \\\n",
       "0             1         2           2           1  ...             9   \n",
       "1             1         4           1          13  ...            12   \n",
       "2             1        14          14           1  ...            11   \n",
       "3             1        15           1           4  ...            13   \n",
       "4             1        20           1          24  ...            14   \n",
       "...         ...       ...         ...         ...  ...           ...   \n",
       "16627         1        43          10           9  ...             9   \n",
       "16628         1        44           4           9  ...            21   \n",
       "16629         1        50          18           9  ...             9   \n",
       "16630         1        52          15           9  ...            32   \n",
       "16631         1        53           9           3  ...            11   \n",
       "\n",
       "      GoalkeeperConcededGoalsXGames  GoalkeeperConcededShotsXGames  \\\n",
       "0                               0.0                            0.0   \n",
       "1                               0.0                            9.0   \n",
       "2                               1.0                           21.0   \n",
       "3                               2.0                           32.0   \n",
       "4                               3.0                           45.0   \n",
       "...                             ...                            ...   \n",
       "16627                           4.0                           51.0   \n",
       "16628                           4.0                           46.0   \n",
       "16629                           6.0                           56.0   \n",
       "16630                           5.0                           54.0   \n",
       "16631                          10.0                           71.0   \n",
       "\n",
       "       GoalkeeperConcededGoalsAllSeason  GoalkeeperConcededShotsAllSeason  \\\n",
       "0                                   NaN                               NaN   \n",
       "1                                   0.0                               9.0   \n",
       "2                                   1.0                              21.0   \n",
       "3                                   2.0                              32.0   \n",
       "4                                   3.0                              45.0   \n",
       "...                                 ...                               ...   \n",
       "16627                              29.0                             257.0   \n",
       "16628                              30.0                             266.0   \n",
       "16629                              33.0                             287.0   \n",
       "16630                              33.0                             296.0   \n",
       "16631                              39.0                             328.0   \n",
       "\n",
       "       GoalkeeperFirstGame  GoalkeeperRatioXGames  PlayerMatchPlayedXGames  \\\n",
       "0                        1               0.000000                        1   \n",
       "1                        0               1.000000                        2   \n",
       "2                        0               0.952381                        3   \n",
       "3                        0               0.937500                        4   \n",
       "4                        0               0.933333                        5   \n",
       "...                    ...                    ...                      ...   \n",
       "16627                    0               0.921569                       20   \n",
       "16628                    0               0.913043                       21   \n",
       "16629                    0               0.892857                       22   \n",
       "16630                    0               0.907407                       23   \n",
       "16631                    0               0.859155                       24   \n",
       "\n",
       "       AverageDefenseRate  AverageTotalShots  \n",
       "0                0.912683          13.785714  \n",
       "1                0.883735          12.857143  \n",
       "2                0.864987          13.071429  \n",
       "3                0.905516          13.928571  \n",
       "4                0.883708          14.357143  \n",
       "...                   ...                ...  \n",
       "16627            0.878747          11.142857  \n",
       "16628            0.894322          13.071429  \n",
       "16629            0.899174          13.071429  \n",
       "16630            0.870724          13.285714  \n",
       "16631            0.891555          12.785714  \n",
       "\n",
       "[16632 rows x 29 columns]"
      ]
     },
     "execution_count": 309,
     "metadata": {},
     "output_type": "execute_result"
    }
   ],
   "source": [
    "results_with_players"
   ]
  },
  {
   "cell_type": "code",
   "execution_count": null,
   "metadata": {},
   "outputs": [],
   "source": [
    "results_with_players[(results_with_players[\"TeamID\"]==1) & (results_with_players[\"PlayerID\"]==2)][[\"OpponentScore\", \"GoalkeeperConcededGoalsAllSeason\"]]"
   ]
  }
 ],
 "metadata": {
  "kernelspec": {
   "display_name": "env",
   "language": "python",
   "name": "python3"
  },
  "language_info": {
   "codemirror_mode": {
    "name": "ipython",
    "version": 3
   },
   "file_extension": ".py",
   "mimetype": "text/x-python",
   "name": "python",
   "nbconvert_exporter": "python",
   "pygments_lexer": "ipython3",
   "version": "3.10.12"
  }
 },
 "nbformat": 4,
 "nbformat_minor": 2
}

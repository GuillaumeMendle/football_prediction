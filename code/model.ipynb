{
 "cells": [
  {
   "cell_type": "code",
   "execution_count": 1,
   "metadata": {},
   "outputs": [],
   "source": [
    "import pandas as pd\n",
    "import numpy as np\n",
    "import os\n",
    "from matplotlib import pyplot as plt\n",
    "import statsmodels.api as sm\n",
    "from sklearn.model_selection import train_test_split"
   ]
  },
  {
   "cell_type": "code",
   "execution_count": 2,
   "metadata": {},
   "outputs": [],
   "source": [
    "FILES_PATH = \"/home/guillaume/pythia/code/data/\""
   ]
  },
  {
   "cell_type": "code",
   "execution_count": 3,
   "metadata": {},
   "outputs": [],
   "source": [
    "fixtures_data = pd.read_csv(f\"{FILES_PATH}fixtures.csv\", delimiter=\",\")\n",
    "odds_data = pd.read_csv(f\"{FILES_PATH}odds.csv\", delimiter=\",\")\n",
    "players_data = pd.read_csv(f\"{FILES_PATH}players.csv\", delimiter=\",\")\n",
    "results_data = pd.read_csv(f\"{FILES_PATH}results.csv\", delimiter=\",\")\n",
    "startingXI_data = pd.read_csv(f\"{FILES_PATH}startingXI.csv\", delimiter=\",\")\n",
    "teams_data = pd.read_csv(f\"{FILES_PATH}teams.csv\", delimiter=\",\")"
   ]
  },
  {
   "cell_type": "code",
   "execution_count": 105,
   "metadata": {},
   "outputs": [
    {
     "name": "stderr",
     "output_type": "stream",
     "text": [
      "/tmp/ipykernel_29746/497325242.py:3: SettingWithCopyWarning: \n",
      "A value is trying to be set on a copy of a slice from a DataFrame.\n",
      "Try using .loc[row_indexer,col_indexer] = value instead\n",
      "\n",
      "See the caveats in the documentation: https://pandas.pydata.org/pandas-docs/stable/user_guide/indexing.html#returning-a-view-versus-a-copy\n",
      "  results_data_season1[\"DrawBoolean\"] = results_data_season1.apply(lambda x : 1 if x.HomeScore==x.AwayScore else 0, axis=1)\n"
     ]
    }
   ],
   "source": [
    "results_data_season1 = results_data[results_data[\"SeasonID\"]==1]\n",
    "\n",
    "results_data_season1[\"DrawBoolean\"] = results_data_season1.apply(lambda x : 1 if x.HomeScore==x.AwayScore else 0, axis=1)\n"
   ]
  },
  {
   "cell_type": "markdown",
   "metadata": {},
   "source": [
    "## Feature engineering"
   ]
  },
  {
   "cell_type": "markdown",
   "metadata": {},
   "source": [
    "### General statistics for season 1"
   ]
  },
  {
   "cell_type": "code",
   "execution_count": 106,
   "metadata": {},
   "outputs": [],
   "source": [
    "train_results, test_results = train_test_split(results_data_season1, test_size=0.2)"
   ]
  },
  {
   "cell_type": "code",
   "execution_count": 107,
   "metadata": {},
   "outputs": [],
   "source": [
    "train_results = results_data_season1\n",
    "test_results = results_data_season1"
   ]
  },
  {
   "cell_type": "code",
   "execution_count": 108,
   "metadata": {},
   "outputs": [],
   "source": [
    "def season_statistics(df : pd.DataFrame) -> list[int, int, float, float]:\n",
    "    \"\"\"\n",
    "    Calculate the total number of goals scored at home/away. \n",
    "    As well the average number of goals scored at home/away. \n",
    "    \"\"\"\n",
    "    return df.HomeScore.sum(), df.AwayScore.sum(), df.HomeScore.mean(), df.AwayScore.mean()\n",
    "TOTAL_LEAGUE_GOALS_HOME, TOTAL_LEAGUE_GOALS_AWAY, AVERAGE_LEAGUE_GOALS_HOME, AVERAGE_LEAGUE_GOALS_AWAY = season_statistics(train_results)"
   ]
  },
  {
   "cell_type": "markdown",
   "metadata": {},
   "source": [
    "### Team-oriented statistics"
   ]
  },
  {
   "cell_type": "markdown",
   "metadata": {},
   "source": [
    "- Calculation of attack & defence strengths for home & away teams\n",
    "- Shots and goals conceded features generation"
   ]
  },
  {
   "cell_type": "code",
   "execution_count": 109,
   "metadata": {},
   "outputs": [],
   "source": [
    "def home_average_stats(df : pd.DataFrame) -> pd.DataFrame:\n",
    "    \"\"\"\n",
    "    Calculate the average number of goals scored/conceded for every home team. \n",
    "    \"\"\"\n",
    "    return df.groupby([\"HomeTeamID\"]).agg(\n",
    "        in_HomeSeasonGoalsScoredAvg = (\"HomeScore\", \"mean\"),\n",
    "        in_HomeSeasonGoalsConcededAvg = (\"AwayScore\", \"mean\"),\n",
    "        in_HomeSeasonShotsAvg = (\"HomeShots\", \"mean\"),\n",
    "        in_HomeSeasonShotsConcededAvg = (\"AwayShots\", \"mean\"),\n",
    "        in_HomeDraws = (\"DrawBoolean\", \"sum\")\n",
    "    ).reset_index()\n",
    "\n",
    "def away_average_stats(df : pd.DataFrame) -> pd.DataFrame:\n",
    "    \"\"\"\n",
    "    Calculate the average number of goals scored/conceded for every away team.  \n",
    "    \"\"\"\n",
    "    return df.groupby([\"AwayTeamID\"]).agg(\n",
    "    in_AwaySeasonGoalsScoredAvg = (\"AwayScore\", \"mean\"),\n",
    "    in_AwaySeasonGoalsConcededAvg = (\"HomeScore\", \"mean\"),\n",
    "    in_AwaySeasonShotsAvg = (\"AwayShots\", \"mean\"),\n",
    "    in_AwaySeasonShotsConcededAvg = (\"HomeShots\", \"mean\"),\n",
    "    in_AwayDraws = (\"DrawBoolean\", \"sum\")\n",
    ").reset_index()"
   ]
  },
  {
   "cell_type": "code",
   "execution_count": 110,
   "metadata": {},
   "outputs": [],
   "source": [
    "def get_home_strength(df : pd.DataFrame) -> pd.DataFrame:\n",
    "    \"\"\"\n",
    "    Divide the average number of goals scored by a home team by the average number of home goals scored thoughout the season.\n",
    "    \"\"\"\n",
    "    df[\"in_HomeAttackStrength\"] = df[\"in_HomeSeasonGoalsScoredAvg\"]/AVERAGE_LEAGUE_GOALS_HOME\n",
    "    df[\"in_HomeDefenceStrength\"] = df[\"in_HomeSeasonGoalsConcededAvg\"]/AVERAGE_LEAGUE_GOALS_AWAY\n",
    "    return df.drop(columns=[\"in_HomeSeasonGoalsScoredAvg\", \"in_HomeSeasonGoalsConcededAvg\"])\n",
    "\n",
    "def get_away_strength(df : pd.DataFrame) -> pd.DataFrame:\n",
    "    \"\"\"\n",
    "    Divide the average number of goals scored by an away team by the average number of away goals scored thoughout the season.\n",
    "    \"\"\"\n",
    "    df[\"in_AwayAttackStrength\"] = df[\"in_AwaySeasonGoalsScoredAvg\"]/AVERAGE_LEAGUE_GOALS_AWAY\n",
    "    df[\"in_AwayDefenceStrength\"] = df[\"in_AwaySeasonGoalsConcededAvg\"]/AVERAGE_LEAGUE_GOALS_HOME\n",
    "    return df.drop(columns=[\"in_AwaySeasonGoalsScoredAvg\", \"in_AwaySeasonGoalsConcededAvg\"])"
   ]
  },
  {
   "cell_type": "code",
   "execution_count": 111,
   "metadata": {},
   "outputs": [],
   "source": [
    "def merge_results_stats(train_df : pd.DataFrame, stats_df : pd.DataFrame, _home_boolean : bool) -> pd.DataFrame:\n",
    "    \"\"\"\n",
    "    Add the new features to the existing results dataset. \n",
    "    \"\"\"\n",
    "    if _home_boolean:\n",
    "        train_df = train_df.merge(stats_df, on = [\"HomeTeamID\"], how = \"left\")\n",
    "    else:\n",
    "        train_df = train_df.merge(stats_df, on = [\"AwayTeamID\"], how = \"left\")\n",
    "    return train_df"
   ]
  },
  {
   "cell_type": "markdown",
   "metadata": {},
   "source": [
    "Home advantage added as a feature"
   ]
  },
  {
   "cell_type": "code",
   "execution_count": 112,
   "metadata": {},
   "outputs": [],
   "source": [
    "def intercept_term_advantage(df : pd.DataFrame) -> pd.DataFrame:\n",
    "    \"\"\"\n",
    "    Add an intercept term to capture any constant effects such as the advantage of playing at home.\n",
    "    \"\"\"\n",
    "    df[\"in_InterceptTerm\"] = 1\n",
    "    return df"
   ]
  },
  {
   "cell_type": "code",
   "execution_count": 113,
   "metadata": {},
   "outputs": [],
   "source": [
    "# df = train_results\n",
    "# home_strength = home_average_stats(df)\n",
    "# away_strength = away_average_stats(df)\n",
    "# home_strength = get_home_strength(home_strength)\n",
    "# away_strength = get_away_strength(away_strength)\n",
    "# train_results_home = merge_results_stats(df, home_strength, True)\n",
    "# train_results_away = merge_results_stats(df, away_strength, False)\n",
    "# train_results_home = intercept_term_advantage(train_results_home)\n",
    "# train_results_away = intercept_term_advantage(train_results_away)"
   ]
  },
  {
   "cell_type": "code",
   "execution_count": 114,
   "metadata": {},
   "outputs": [],
   "source": [
    "def generate_features(df):\n",
    "    home_strength = home_average_stats(df)\n",
    "    away_strength = away_average_stats(df)\n",
    "    home_strength = get_home_strength(home_strength)\n",
    "    away_strength = get_away_strength(away_strength)\n",
    "\n",
    "    home_strength[\"in_StrengthDifference\"] = abs(home_strength[\"in_HomeAttackStrength\"] - away_strength[\"in_AwayDefenceStrength\"])\n",
    "    away_strength[\"in_StrengthDifference\"] = abs(home_strength[\"in_HomeAttackStrength\"] - away_strength[\"in_AwayDefenceStrength\"])\n",
    "\n",
    "    train_results_home = merge_results_stats(df, home_strength, True)\n",
    "    train_results_away = merge_results_stats(df, away_strength, False)\n",
    "    train_results_home = intercept_term_advantage(train_results_home)\n",
    "    train_results_away = intercept_term_advantage(train_results_away)\n",
    "    return train_results_home, train_results_away\n",
    "\n",
    "train_results_home, train_results_away = generate_features(train_results)\n",
    "test_results_home, test_results_away = generate_features(test_results)\n",
    "\n"
   ]
  },
  {
   "cell_type": "markdown",
   "metadata": {},
   "source": [
    "## Input dataset creation and model training"
   ]
  },
  {
   "cell_type": "code",
   "execution_count": 115,
   "metadata": {},
   "outputs": [],
   "source": [
    "class DataPreprocessing:\n",
    "    def generate_inputs_model(self, df : pd.DataFrame, home_boolean : bool):\n",
    "        \"\"\"\n",
    "        Generate the model input dataset as well as the ground truth - here the number of goals.  \n",
    "        \"\"\"\n",
    "        if home_boolean:\n",
    "            X = df[[x for x in df.columns if x.startswith(\"in_\")]]\n",
    "            # X = df[[\"InterceptTerm\", \"HomeSeasonShotsAvg\", \"HomeSeasonShotsConcededAvg\", \"HomeAttackStrength\", \"HomeDefenceStrength\"]]\n",
    "            y = df[[\"HomeScore\"]]\n",
    "        else:\n",
    "            X = df[[x for x in df.columns if x.startswith(\"in_\")]]\n",
    "            # X = df[[\"InterceptTerm\", \"AwaySeasonShotsAvg\", \"AwaySeasonShotsConcededAvg\", \"AwayAttackStrength\", \"AwayDefenceStrength\"]]\n",
    "            y = df[[\"AwayScore\"]]\n",
    "        return X, y"
   ]
  },
  {
   "cell_type": "code",
   "execution_count": 116,
   "metadata": {},
   "outputs": [],
   "source": [
    "class TrainModel(DataPreprocessing):\n",
    "    def __init__(self):\n",
    "        pass\n",
    "    \n",
    "    def model_training(self, X : pd.DataFrame, y : pd.DataFrame):\n",
    "        \"\"\"\n",
    "        Fit a Poisson regression model to the train data. \n",
    "        \"\"\"\n",
    "        return sm.GLM(y, X, family=sm.families.Poisson()).fit()"
   ]
  },
  {
   "cell_type": "code",
   "execution_count": 117,
   "metadata": {},
   "outputs": [],
   "source": [
    "train_model = TrainModel()\n",
    "## Generate the model inputs and ground truths for home & away team\n",
    "X_home, y_home = train_model.generate_inputs_model(train_results_home, True)\n",
    "X_away, y_away = train_model.generate_inputs_model(train_results_away, False)\n",
    "\n",
    "## - Build a Poisson regression model to generate predicitons for team playing at home\n",
    "## - Build another model for team playing away \n",
    "\n",
    "model_home = train_model.model_training(X_home, y_home)\n",
    "model_away = train_model.model_training(X_away, y_away)"
   ]
  },
  {
   "cell_type": "markdown",
   "metadata": {},
   "source": [
    "## Model testing"
   ]
  },
  {
   "cell_type": "code",
   "execution_count": 119,
   "metadata": {},
   "outputs": [],
   "source": [
    "class TestModel:\n",
    "    def __init__(self):\n",
    "        pass\n",
    "\n",
    "    def predict_expected_value_goal(self, model, X : pd.Series) -> np.array:\n",
    "        \"\"\"\n",
    "        Predict the expected value of the poisson distribution for a fixture and a team. \n",
    "        \"\"\"\n",
    "        return model.predict(X.values.tolist())\n",
    "    \n",
    "    def random_draw_goal_distrib(self, predicted_lambda : np.array, n : int = 10000) -> np.array:\n",
    "        \"\"\"\n",
    "        Draw samples from a Poisson distribution given its expected value. \n",
    "        \"\"\"\n",
    "        return np.random.poisson(lam=predicted_lambda, size=(n, len(predicted_lambda))).flatten()\n",
    "    \n",
    "    def count_goals(self, simulated_goals : np.array, home_boolean : bool) -> pd.Series:\n",
    "        \"\"\"\n",
    "        Calculate the probability for a set of goals to be scored for a certain fixture. \n",
    "        \"\"\"\n",
    "        if home_boolean:\n",
    "            return simulated_goals.value_counts().sort_index().rename(\"HomeGoalsProbability\")/len(simulated_goals)\n",
    "        else:\n",
    "            return simulated_goals.value_counts().sort_index().rename(\"AwayGoalsProbability\")/len(simulated_goals)\n",
    "        \n",
    "    def generate_goals_proba_table(self,home_goals_proba : pd.Series, away_goals_proba : pd.Series) -> pd.DataFrame:\n",
    "        \"\"\"\n",
    "        Concatenate the goal probabilities for home and away team. \n",
    "        \"\"\"\n",
    "        return pd.concat([home_goals_proba, away_goals_proba], axis = 1).sort_index().fillna(0)\n",
    "    \n",
    "    def calculate_scores_proba(self, df : pd.DataFrame) -> pd.DataFrame:\n",
    "        \"\"\"\n",
    "        Multiply the probability of Home Team to score X goals with the probability of Away Team to score Y goals.\n",
    "        Return a matrix containing the probability of every possible outcome (e.g.: 0-1, 2-2, etc.) \n",
    "        \"\"\"\n",
    "        scores_proba_matrix = np.outer(df[\"HomeGoalsProbability\"].values, df[\"AwayGoalsProbability\"].values)\n",
    "        return pd.DataFrame(scores_proba_matrix, index = df.index, columns = df.index)\n",
    "    \n",
    "    def calculate_outcome_probability(self, df : pd.DataFrame) -> list[float, float, float]:\n",
    "        \"\"\"\n",
    "        Calculate the probability for the home/away team to win, draw or lose.\n",
    "        Given the matrix containing the every outcome probability, it sums the all the probabilities for:\n",
    "        - Home Team to win\n",
    "        - Away Team to win\n",
    "        - Draw\n",
    "        \"\"\"\n",
    "        probability_home_win = 0\n",
    "        probability_away_win = 0\n",
    "        probability_draw = 0\n",
    "        for i in range(len(df)):\n",
    "            for j in range(len(df)):\n",
    "                if i==j:\n",
    "                    probability_draw += df.iloc[i, j]\n",
    "                elif i<j:\n",
    "                    probability_away_win += df.iloc[i, j]\n",
    "                else:\n",
    "                    probability_home_win += df.iloc[i, j]\n",
    "        return probability_home_win, probability_draw, probability_away_win\n",
    "    \n",
    "    def game_outcome(self, probability_win_home : float, probability_draw : float, probability_win_away : float) -> int:\n",
    "        \"\"\"\n",
    "        Find the result with the highest probability and return it as the game outcome.  \n",
    "        \"\"\"\n",
    "        return np.argmax([probability_win_home, probability_draw, probability_win_away])"
   ]
  },
  {
   "cell_type": "code",
   "execution_count": 120,
   "metadata": {},
   "outputs": [],
   "source": [
    "data_preprocessing = DataPreprocessing()\n",
    "X_test_home, _ = data_preprocessing.generate_inputs_model(test_results_home, home_boolean=True)\n",
    "X_test_away, _ = data_preprocessing.generate_inputs_model(test_results_away, home_boolean=False)"
   ]
  },
  {
   "cell_type": "code",
   "execution_count": 121,
   "metadata": {},
   "outputs": [],
   "source": [
    "# X_test_home = pd.DataFrame({\n",
    "#     \"in_HomeAttackStrength\" : [3],\n",
    "#     \"in_HomeDefenceStrength\" : [0.1],\n",
    "#     \"in_InterceptTerm\" : [1]\n",
    "# })\n",
    "\n",
    "# X_test_away = pd.DataFrame({\n",
    "#     \"in_HomeAttackStrength\" : [0.1],\n",
    "#     \"in_HomeDefenceStrength\" : [3.0],\n",
    "#     \"in_InterceptTerm\" : [1]\n",
    "# })"
   ]
  },
  {
   "cell_type": "code",
   "execution_count": 122,
   "metadata": {},
   "outputs": [],
   "source": [
    "from scipy.stats import poisson"
   ]
  },
  {
   "cell_type": "code",
   "execution_count": 125,
   "metadata": {},
   "outputs": [],
   "source": [
    "test_model = TestModel()\n",
    "\n",
    "probability_win_home_test = []\n",
    "probability_draw_test = []\n",
    "probability_win_away_test = []\n",
    "game_outcome_test = []\n",
    "for i in range(len(X_test_home)):\n",
    "    X_test_home_i = X_test_home.iloc[i]\n",
    "    X_test_away_i = X_test_away.iloc[i]\n",
    "\n",
    "    predicted_lambda_home = test_model.predict_expected_value_goal(model_home, X_test_home_i)\n",
    "    predicted_lambda_away = test_model.predict_expected_value_goal(model_away, X_test_away_i)\n",
    "\n",
    "    simulated_goals_home = test_model.random_draw_goal_distrib(predicted_lambda_home)\n",
    "    simulated_goals_away = test_model.random_draw_goal_distrib(predicted_lambda_away)\n",
    "\n",
    "\n",
    "    # n_goals = 8\n",
    "    # prob_home_win = sum(\n",
    "    # poisson.pmf(i, predicted_lambda_home) * sum(poisson.pmf(j, predicted_lambda_away) for j in range(i))\n",
    "    # for i in range(n_goals))\n",
    "\n",
    "    # prob_away_win = sum(\n",
    "    # poisson.pmf(j, predicted_lambda_away) * sum(poisson.pmf(i, predicted_lambda_home) for i in range(j)) for j in range(n_goals)\n",
    "    # )\n",
    "\n",
    "    # prob_draw = sum(poisson.pmf(i, predicted_lambda_home) * poisson.pmf(i, predicted_lambda_away) for i in range(n_goals))\n",
    "\n",
    "\n",
    "\n",
    "    home_goals_proba = test_model.count_goals(pd.Series(simulated_goals_home), home_boolean = True)\n",
    "    away_goals_proba = test_model.count_goals(pd.Series(simulated_goals_away), home_boolean = False)\n",
    "    goals_proba_matrix = test_model.generate_goals_proba_table(home_goals_proba, away_goals_proba)\n",
    "    \n",
    "    # goals_proba_matrix = goals_proba_matrix[goals_proba_matrix.index<=5]\n",
    "    \n",
    "    scores_proba_df = test_model.calculate_scores_proba(goals_proba_matrix)\n",
    "    probability_win_home, probability_draw, probability_win_away  = test_model.calculate_outcome_probability(scores_proba_df)\n",
    "\n",
    "    probability_win_home_test.append(probability_win_home)\n",
    "    probability_draw_test.append(probability_draw)\n",
    "    probability_win_away_test.append(probability_win_away)\n",
    "    game_outcome_test.append(test_model.game_outcome(probability_win_home, probability_draw, probability_win_away))\n"
   ]
  },
  {
   "cell_type": "code",
   "execution_count": 126,
   "metadata": {},
   "outputs": [
    {
     "data": {
      "text/plain": [
       "GameOutcome\n",
       "0    487\n",
       "2    263\n",
       "1      6\n",
       "Name: count, dtype: int64"
      ]
     },
     "execution_count": 126,
     "metadata": {},
     "output_type": "execute_result"
    }
   ],
   "source": [
    "outcomes_df = pd.DataFrame({\n",
    "    \"HomeTeamWinProbability\" : probability_win_home_test,\n",
    "    \"TeamsDrawProbability\" : probability_draw_test,\n",
    "    \"AwayTeamWinProbability\" : probability_win_away_test,\n",
    "    \"GameOutcome\" : game_outcome_test\n",
    "})\n",
    "\n",
    "outcomes_df[\"GameOutcome\"].value_counts()"
   ]
  },
  {
   "cell_type": "code",
   "execution_count": 22,
   "metadata": {},
   "outputs": [],
   "source": [
    "df = results_data_season1.copy()\n",
    "df[\"GameOutcomeGT\"] = df.apply(lambda x : 0 if x.HomeScore>x.AwayScore else 1 if x.HomeScore==x.AwayScore else 2, axis=1)\n",
    "df[\"GameOutcomePredicted\"] = outcomes_df[\"GameOutcome\"].values"
   ]
  }
 ],
 "metadata": {
  "kernelspec": {
   "display_name": "env",
   "language": "python",
   "name": "python3"
  },
  "language_info": {
   "codemirror_mode": {
    "name": "ipython",
    "version": 3
   },
   "file_extension": ".py",
   "mimetype": "text/x-python",
   "name": "python",
   "nbconvert_exporter": "python",
   "pygments_lexer": "ipython3",
   "version": "3.10.12"
  }
 },
 "nbformat": 4,
 "nbformat_minor": 2
}

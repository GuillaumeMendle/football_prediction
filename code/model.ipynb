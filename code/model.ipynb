{
 "cells": [
  {
   "cell_type": "code",
   "execution_count": 81,
   "metadata": {},
   "outputs": [],
   "source": [
    "import pandas as pd\n",
    "import numpy as np\n",
    "import os\n",
    "from matplotlib import pyplot as plt\n",
    "import statsmodels.api as sm"
   ]
  },
  {
   "cell_type": "code",
   "execution_count": 82,
   "metadata": {},
   "outputs": [],
   "source": [
    "FILES_PATH = \"/home/guillaume/pythia/code/data/\""
   ]
  },
  {
   "cell_type": "code",
   "execution_count": 83,
   "metadata": {},
   "outputs": [],
   "source": [
    "fixtures_data = pd.read_csv(f\"{FILES_PATH}fixtures.csv\", delimiter=\",\")\n",
    "odds_data = pd.read_csv(f\"{FILES_PATH}odds.csv\", delimiter=\",\")\n",
    "players_data = pd.read_csv(f\"{FILES_PATH}players.csv\", delimiter=\",\")\n",
    "results_data = pd.read_csv(f\"{FILES_PATH}results.csv\", delimiter=\",\")\n",
    "startingXI_data = pd.read_csv(f\"{FILES_PATH}startingXI.csv\", delimiter=\",\")\n",
    "teams_data = pd.read_csv(f\"{FILES_PATH}teams.csv\", delimiter=\",\")"
   ]
  },
  {
   "cell_type": "code",
   "execution_count": 84,
   "metadata": {},
   "outputs": [],
   "source": [
    "results_data = results_data.merge(teams_data, left_on=\"HomeTeamID\", right_on = \"TeamID\", how=\"left\")\\\n",
    "    .rename(columns = {\"TeamName\" : \"HomeTeamName\"})\\\n",
    "        .drop(columns=\"TeamID\")\n",
    "\n",
    "results_data = results_data.merge(teams_data, left_on=\"AwayTeamID\", right_on = \"TeamID\", how=\"left\")\\\n",
    "    .rename(columns = {\"TeamName\" : \"AwayTeamName\"})\\\n",
    "        .drop(columns=\"TeamID\")"
   ]
  },
  {
   "cell_type": "code",
   "execution_count": 85,
   "metadata": {},
   "outputs": [],
   "source": [
    "train_results = results_data[results_data[\"SeasonID\"]==1]"
   ]
  },
  {
   "cell_type": "markdown",
   "metadata": {},
   "source": [
    "## Feature engineering"
   ]
  },
  {
   "cell_type": "markdown",
   "metadata": {},
   "source": [
    "Let's compute some statistics about season 1 overall"
   ]
  },
  {
   "cell_type": "code",
   "execution_count": 86,
   "metadata": {},
   "outputs": [],
   "source": [
    "total_home_goals = train_results.HomeScore.sum()\n",
    "average_home_goals = train_results.HomeScore.mean()\n",
    "total_away_goals = train_results.AwayScore.sum()\n",
    "average_away_goals = train_results.AwayScore.mean()"
   ]
  },
  {
   "cell_type": "markdown",
   "metadata": {},
   "source": [
    "We extract the ground truth: home & away goals scored"
   ]
  },
  {
   "cell_type": "code",
   "execution_count": 88,
   "metadata": {},
   "outputs": [],
   "source": [
    "home_strength = train_results.groupby([\"HomeTeamID\"]).agg(\n",
    "    # HomeSeasonGoalsScored = (\"HomeScore\", \"sum\"),\n",
    "    # HomeSeasonGoalsConceded = (\"AwayScore\", \"sum\"),\n",
    "    HomeSeasonGoalsScoredAvg = (\"HomeScore\", \"mean\"),\n",
    "    HomeSeasonGoalsConcededAvg = (\"AwayScore\", \"mean\")\n",
    ").reset_index()\n",
    "# \\.rename(columns={\"HomeTeamID\" : \"TeamID\"})\n",
    "\n",
    "away_strength = train_results.groupby([\"AwayTeamID\"]).agg(\n",
    "    # AwaySeasonGoalsScored = (\"AwayScore\", \"sum\"),\n",
    "    # AwaySeasonGoalsConceded = (\"HomeScore\", \"sum\"),\n",
    "    AwaySeasonGoalsScoredAvg = (\"AwayScore\", \"mean\"),\n",
    "    AwaySeasonGoalsConcededAvg = (\"HomeScore\", \"mean\")\n",
    ").reset_index()\n",
    "# \\.rename(columns={\"AwayTeamID\" : \"TeamID\"})\n",
    "\n",
    "# teams_strength = home_strength.merge(away_strength, on = [\"TeamID\"], how = \"inner\")"
   ]
  },
  {
   "cell_type": "code",
   "execution_count": 89,
   "metadata": {},
   "outputs": [],
   "source": [
    "home_strength[\"HomeAttackStrength\"] = home_strength[\"HomeSeasonGoalsScoredAvg\"]/average_home_goals\n",
    "home_strength[\"HomeDefenceStrength\"] = home_strength[\"HomeSeasonGoalsConcededAvg\"]/average_away_goals\n",
    "\n",
    "away_strength[\"AwayAttackStrength\"] = away_strength[\"AwaySeasonGoalsScoredAvg\"]/average_away_goals\n",
    "away_strength[\"AwayDefenceStrength\"] = away_strength[\"AwaySeasonGoalsConcededAvg\"]/average_home_goals"
   ]
  },
  {
   "cell_type": "code",
   "execution_count": 90,
   "metadata": {},
   "outputs": [],
   "source": [
    "home_strength = home_strength.drop(columns=[\"HomeSeasonGoalsScoredAvg\", \"HomeSeasonGoalsConcededAvg\"])\n",
    "away_strength = away_strength.drop(columns=[\"AwaySeasonGoalsScoredAvg\", \"AwaySeasonGoalsConcededAvg\"])"
   ]
  },
  {
   "cell_type": "code",
   "execution_count": 91,
   "metadata": {},
   "outputs": [],
   "source": [
    "train_results = train_results.merge(home_strength, on = [\"HomeTeamID\"], how = \"left\")\n",
    "train_results = train_results.merge(away_strength, on = [\"AwayTeamID\"], how = \"left\")"
   ]
  },
  {
   "cell_type": "code",
   "execution_count": 97,
   "metadata": {},
   "outputs": [],
   "source": [
    "X = train_results[[\"HomeAttackStrength\", \"HomeDefenceStrength\", \"AwayAttackStrength\", \"AwayDefenceStrength\"]]\n",
    "y_home = train_results[[\"HomeScore\"]]\n",
    "y_away = train_results[[\"AwayScore\"]]"
   ]
  },
  {
   "cell_type": "markdown",
   "metadata": {},
   "source": [
    "## Build model"
   ]
  },
  {
   "cell_type": "code",
   "execution_count": 99,
   "metadata": {},
   "outputs": [],
   "source": [
    "X = sm.add_constant(X) \n",
    "poisson_home = sm.GLM(y_home, X, family=sm.families.Poisson()).fit()\n",
    "poisson_away = sm.GLM(y_away, X, family=sm.families.Poisson()).fit()"
   ]
  },
  {
   "cell_type": "code",
   "execution_count": null,
   "metadata": {},
   "outputs": [],
   "source": [
    "X_test = train_results.iloc[1][[\"HomeAttackStrength\", \"HomeDefenceStrength\", \"AwayAttackStrength\", \"AwayDefenceStrength\"]]"
   ]
  },
  {
   "cell_type": "code",
   "execution_count": 113,
   "metadata": {},
   "outputs": [],
   "source": [
    "predicted_home_goals = poisson_home.predict([1]+ X_test.values.tolist())\n",
    "predicted_away_goals = poisson_away.predict([1]+ X_test.values.tolist())"
   ]
  },
  {
   "cell_type": "code",
   "execution_count": 137,
   "metadata": {},
   "outputs": [],
   "source": [
    "home_simulated_goals = np.random.poisson(lam=predicted_home_goals, size=(100, len(predicted_home_goals)))\n",
    "away_simulated_goals = np.random.poisson(lam=predicted_away_goals, size=(100, len(predicted_away_goals)))"
   ]
  },
  {
   "cell_type": "code",
   "execution_count": 189,
   "metadata": {},
   "outputs": [],
   "source": [
    "def count_goals(simulated_goals : list[int]) -> pd.Series:\n",
    "    return simulated_goals.value_counts().sort_index()/len(simulated_goals)\n",
    "home_goals_proba = count_goals(pd.Series(home_simulated_goals.flatten()))\n",
    "away_goals_proba = count_goals(pd.Series(away_simulated_goals.flatten()))\n",
    "\n",
    "home_goals_proba = home_goals_proba.rename(\"HomeGoalsProba\")\n",
    "away_goals_proba = away_goals_proba.rename(\"AwayGoalsProba\")"
   ]
  },
  {
   "cell_type": "code",
   "execution_count": 190,
   "metadata": {},
   "outputs": [],
   "source": [
    "def generate_goals_proba_table(home_goals_proba, away_goals_proba):\n",
    "    return pd.concat([home_goals_proba, away_goals_proba], axis = 1).sort_index().fillna(0)\n",
    "\n",
    "goals_proba_matrix = generate_goals_proba_table(home_goals_proba, away_goals_proba)"
   ]
  },
  {
   "cell_type": "code",
   "execution_count": 191,
   "metadata": {},
   "outputs": [
    {
     "data": {
      "text/html": [
       "<div>\n",
       "<style scoped>\n",
       "    .dataframe tbody tr th:only-of-type {\n",
       "        vertical-align: middle;\n",
       "    }\n",
       "\n",
       "    .dataframe tbody tr th {\n",
       "        vertical-align: top;\n",
       "    }\n",
       "\n",
       "    .dataframe thead th {\n",
       "        text-align: right;\n",
       "    }\n",
       "</style>\n",
       "<table border=\"1\" class=\"dataframe\">\n",
       "  <thead>\n",
       "    <tr style=\"text-align: right;\">\n",
       "      <th></th>\n",
       "      <th>0</th>\n",
       "      <th>1</th>\n",
       "      <th>2</th>\n",
       "      <th>3</th>\n",
       "      <th>4</th>\n",
       "      <th>5</th>\n",
       "      <th>6</th>\n",
       "    </tr>\n",
       "  </thead>\n",
       "  <tbody>\n",
       "    <tr>\n",
       "      <th>0</th>\n",
       "      <td>0.0725</td>\n",
       "      <td>0.1015</td>\n",
       "      <td>0.0754</td>\n",
       "      <td>0.029</td>\n",
       "      <td>0.0058</td>\n",
       "      <td>0.0029</td>\n",
       "      <td>0.0029</td>\n",
       "    </tr>\n",
       "    <tr>\n",
       "      <th>1</th>\n",
       "      <td>0.1000</td>\n",
       "      <td>0.1400</td>\n",
       "      <td>0.1040</td>\n",
       "      <td>0.040</td>\n",
       "      <td>0.0080</td>\n",
       "      <td>0.0040</td>\n",
       "      <td>0.0040</td>\n",
       "    </tr>\n",
       "    <tr>\n",
       "      <th>2</th>\n",
       "      <td>0.0550</td>\n",
       "      <td>0.0770</td>\n",
       "      <td>0.0572</td>\n",
       "      <td>0.022</td>\n",
       "      <td>0.0044</td>\n",
       "      <td>0.0022</td>\n",
       "      <td>0.0022</td>\n",
       "    </tr>\n",
       "    <tr>\n",
       "      <th>3</th>\n",
       "      <td>0.0175</td>\n",
       "      <td>0.0245</td>\n",
       "      <td>0.0182</td>\n",
       "      <td>0.007</td>\n",
       "      <td>0.0014</td>\n",
       "      <td>0.0007</td>\n",
       "      <td>0.0007</td>\n",
       "    </tr>\n",
       "    <tr>\n",
       "      <th>4</th>\n",
       "      <td>0.0050</td>\n",
       "      <td>0.0070</td>\n",
       "      <td>0.0052</td>\n",
       "      <td>0.002</td>\n",
       "      <td>0.0004</td>\n",
       "      <td>0.0002</td>\n",
       "      <td>0.0002</td>\n",
       "    </tr>\n",
       "    <tr>\n",
       "      <th>5</th>\n",
       "      <td>0.0000</td>\n",
       "      <td>0.0000</td>\n",
       "      <td>0.0000</td>\n",
       "      <td>0.000</td>\n",
       "      <td>0.0000</td>\n",
       "      <td>0.0000</td>\n",
       "      <td>0.0000</td>\n",
       "    </tr>\n",
       "    <tr>\n",
       "      <th>6</th>\n",
       "      <td>0.0000</td>\n",
       "      <td>0.0000</td>\n",
       "      <td>0.0000</td>\n",
       "      <td>0.000</td>\n",
       "      <td>0.0000</td>\n",
       "      <td>0.0000</td>\n",
       "      <td>0.0000</td>\n",
       "    </tr>\n",
       "  </tbody>\n",
       "</table>\n",
       "</div>"
      ],
      "text/plain": [
       "        0       1       2      3       4       5       6\n",
       "0  0.0725  0.1015  0.0754  0.029  0.0058  0.0029  0.0029\n",
       "1  0.1000  0.1400  0.1040  0.040  0.0080  0.0040  0.0040\n",
       "2  0.0550  0.0770  0.0572  0.022  0.0044  0.0022  0.0022\n",
       "3  0.0175  0.0245  0.0182  0.007  0.0014  0.0007  0.0007\n",
       "4  0.0050  0.0070  0.0052  0.002  0.0004  0.0002  0.0002\n",
       "5  0.0000  0.0000  0.0000  0.000  0.0000  0.0000  0.0000\n",
       "6  0.0000  0.0000  0.0000  0.000  0.0000  0.0000  0.0000"
      ]
     },
     "execution_count": 191,
     "metadata": {},
     "output_type": "execute_result"
    }
   ],
   "source": [
    "scores_proba_matrix = np.outer(goals_proba_matrix[\"HomeGoalsProba\"].values, goals_proba_matrix[\"AwayGoalsProba\"].values)\n",
    "pd.DataFrame(scores_proba_matrix, index = goals_proba_matrix.index, columns = goals_proba_matrix.index)"
   ]
  }
 ],
 "metadata": {
  "kernelspec": {
   "display_name": "env",
   "language": "python",
   "name": "python3"
  },
  "language_info": {
   "codemirror_mode": {
    "name": "ipython",
    "version": 3
   },
   "file_extension": ".py",
   "mimetype": "text/x-python",
   "name": "python",
   "nbconvert_exporter": "python",
   "pygments_lexer": "ipython3",
   "version": "3.10.12"
  }
 },
 "nbformat": 4,
 "nbformat_minor": 2
}

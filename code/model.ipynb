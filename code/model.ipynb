{
 "cells": [
  {
   "cell_type": "code",
   "execution_count": 26,
   "metadata": {},
   "outputs": [],
   "source": [
    "import pandas as pd\n",
    "import numpy as np\n",
    "import os\n",
    "from matplotlib import pyplot as plt\n",
    "import statsmodels.api as sm\n",
    "from sklearn.model_selection import train_test_split"
   ]
  },
  {
   "cell_type": "code",
   "execution_count": 27,
   "metadata": {},
   "outputs": [],
   "source": [
    "FILES_PATH = \"/home/guillaume/pythia/code/data/\""
   ]
  },
  {
   "cell_type": "code",
   "execution_count": 96,
   "metadata": {},
   "outputs": [],
   "source": [
    "fixtures_data = pd.read_csv(f\"{FILES_PATH}fixtures.csv\", delimiter=\",\")\n",
    "odds_data = pd.read_csv(f\"{FILES_PATH}odds.csv\", delimiter=\",\")\n",
    "players_data = pd.read_csv(f\"{FILES_PATH}players.csv\", delimiter=\",\")\n",
    "results_data = pd.read_csv(f\"{FILES_PATH}results.csv\", delimiter=\",\")\n",
    "startingXI_data = pd.read_csv(f\"{FILES_PATH}startingXI.csv\", delimiter=\",\")\n",
    "teams_data = pd.read_csv(f\"{FILES_PATH}teams.csv\", delimiter=\",\")"
   ]
  },
  {
   "cell_type": "code",
   "execution_count": 97,
   "metadata": {},
   "outputs": [],
   "source": [
    "results_data_season1 = results_data[results_data[\"SeasonID\"]==1]"
   ]
  },
  {
   "cell_type": "markdown",
   "metadata": {},
   "source": [
    "## Feature engineering"
   ]
  },
  {
   "cell_type": "markdown",
   "metadata": {},
   "source": [
    "### General statistics for season 1"
   ]
  },
  {
   "cell_type": "code",
   "execution_count": 98,
   "metadata": {},
   "outputs": [],
   "source": [
    "def season_statistics(df : pd.DataFrame) -> list[int, int, float, float]:\n",
    "    \"\"\"\n",
    "    Calculate the total number of goals scored at home/away. \n",
    "    As well the average number of goals scored at home/away. \n",
    "    \"\"\"\n",
    "    return df.HomeScore.sum(), df.AwayScore.sum(), df.HomeScore.mean(), df.AwayScore.mean()\n",
    "TOTAL_LEAGUE_GOALS_HOME, TOTAL_LEAGUE_GOALS_AWAY, AVERAGE_LEAGUE_GOALS_HOME, AVERAGE_LEAGUE_GOALS_AWAY = season_statistics(train_results)"
   ]
  },
  {
   "cell_type": "markdown",
   "metadata": {},
   "source": [
    "### Team-oriented statistics"
   ]
  },
  {
   "cell_type": "markdown",
   "metadata": {},
   "source": [
    "- Calculation of attack & defence strengths for home & away teams\n",
    "- Shots and goals conceded features generation"
   ]
  },
  {
   "cell_type": "code",
   "execution_count": 129,
   "metadata": {},
   "outputs": [],
   "source": [
    "def home_average_stats(df : pd.DataFrame) -> pd.DataFrame:\n",
    "    \"\"\"\n",
    "    Calculate the average number of goals scored/conceded for every home team. \n",
    "    \"\"\"\n",
    "    return df.groupby([\"HomeTeamID\"]).agg(\n",
    "        in_HomeSeasonGoalsScoredAvg = (\"HomeScore\", \"mean\"),\n",
    "        in_HomeSeasonGoalsConcededAvg = (\"AwayScore\", \"mean\"),\n",
    "        # in_HomeSeasonShotsAvg = (\"HomeShots\", \"mean\"),\n",
    "        # in_HomeSeasonShotsConcededAvg = (\"AwayShots\", \"mean\")\n",
    "    ).reset_index()\n",
    "\n",
    "def away_average_stats(df : pd.DataFrame) -> pd.DataFrame:\n",
    "    \"\"\"\n",
    "    Calculate the average number of goals scored/conceded for every away team.  \n",
    "    \"\"\"\n",
    "    return df.groupby([\"AwayTeamID\"]).agg(\n",
    "    in_AwaySeasonGoalsScoredAvg = (\"AwayScore\", \"mean\"),\n",
    "    in_AwaySeasonGoalsConcededAvg = (\"HomeScore\", \"mean\"),\n",
    "    # in_AwaySeasonShotsAvg = (\"AwayShots\", \"mean\"),\n",
    "    # in_AwaySeasonShotsConcededAvg = (\"HomeShots\", \"mean\")\n",
    ").reset_index()"
   ]
  },
  {
   "cell_type": "code",
   "execution_count": 130,
   "metadata": {},
   "outputs": [],
   "source": [
    "def get_home_strength(df : pd.DataFrame) -> pd.DataFrame:\n",
    "    \"\"\"\n",
    "    Divide the average number of goals scored by a home team by the average number of home goals scored thoughout the season.\n",
    "    \"\"\"\n",
    "    df[\"in_HomeAttackStrength\"] = df[\"in_HomeSeasonGoalsScoredAvg\"]/AVERAGE_LEAGUE_GOALS_HOME\n",
    "    df[\"in_HomeDefenceStrength\"] = df[\"in_HomeSeasonGoalsConcededAvg\"]/AVERAGE_LEAGUE_GOALS_AWAY\n",
    "    return df.drop(columns=[\"in_HomeSeasonGoalsScoredAvg\", \"in_HomeSeasonGoalsConcededAvg\"])\n",
    "\n",
    "def get_away_strength(df : pd.DataFrame) -> pd.DataFrame:\n",
    "    \"\"\"\n",
    "    Divide the average number of goals scored by an away team by the average number of away goals scored thoughout the season.\n",
    "    \"\"\"\n",
    "    df[\"in_AwayAttackStrength\"] = df[\"in_AwaySeasonGoalsScoredAvg\"]/AVERAGE_LEAGUE_GOALS_AWAY\n",
    "    df[\"in_AwayDefenceStrength\"] = df[\"in_AwaySeasonGoalsConcededAvg\"]/AVERAGE_LEAGUE_GOALS_HOME\n",
    "    return df.drop(columns=[\"in_AwaySeasonGoalsScoredAvg\", \"in_AwaySeasonGoalsConcededAvg\"])"
   ]
  },
  {
   "cell_type": "code",
   "execution_count": 131,
   "metadata": {},
   "outputs": [],
   "source": [
    "def merge_results_stats(train_df : pd.DataFrame, stats_df : pd.DataFrame, _home_boolean : bool) -> pd.DataFrame:\n",
    "    \"\"\"\n",
    "    Add the new features to the existing results dataset. \n",
    "    \"\"\"\n",
    "    if _home_boolean:\n",
    "        train_df = train_df.merge(stats_df, on = [\"HomeTeamID\"], how = \"left\")\n",
    "    else:\n",
    "        train_df = train_df.merge(stats_df, on = [\"AwayTeamID\"], how = \"left\")\n",
    "    return train_df"
   ]
  },
  {
   "cell_type": "markdown",
   "metadata": {},
   "source": [
    "Home advantage added as a feature"
   ]
  },
  {
   "cell_type": "code",
   "execution_count": 132,
   "metadata": {},
   "outputs": [],
   "source": [
    "def intercept_term_advantage(df : pd.DataFrame) -> pd.DataFrame:\n",
    "    \"\"\"\n",
    "    Add an intercept term to capture any constant effects such as the advantage of playing at home.\n",
    "    \"\"\"\n",
    "    df[\"in_InterceptTerm\"] = 1\n",
    "    return df"
   ]
  },
  {
   "cell_type": "code",
   "execution_count": 133,
   "metadata": {},
   "outputs": [],
   "source": [
    "train_results, test_results = train_test_split(results_data_season1, test_size=0.2)"
   ]
  },
  {
   "cell_type": "code",
   "execution_count": null,
   "metadata": {},
   "outputs": [],
   "source": [
    "# df = train_results\n",
    "# home_strength = home_average_stats(df)\n",
    "# away_strength = away_average_stats(df)\n",
    "# home_strength = get_home_strength(home_strength)\n",
    "# away_strength = get_away_strength(away_strength)\n",
    "# train_results_home = merge_results_stats(df, home_strength, True)\n",
    "# train_results_away = merge_results_stats(df, away_strength, False)\n",
    "# train_results_home = intercept_term_advantage(train_results_home)\n",
    "# train_results_away = intercept_term_advantage(train_results_away)"
   ]
  },
  {
   "cell_type": "code",
   "execution_count": null,
   "metadata": {},
   "outputs": [],
   "source": [
    "def generate_features(df):\n",
    "    home_strength = home_average_stats(df)\n",
    "    away_strength = away_average_stats(df)\n",
    "    home_strength = get_home_strength(home_strength)\n",
    "    away_strength = get_away_strength(away_strength)\n",
    "    train_results_home = merge_results_stats(df, home_strength, True)\n",
    "    train_results_away = merge_results_stats(df, away_strength, False)\n",
    "    train_results_home = intercept_term_advantage(train_results_home)\n",
    "    train_results_away = intercept_term_advantage(train_results_away)\n",
    "    return train_results_home, train_results_away\n",
    "\n",
    "train_results_home, train_results_away = generate_features(train_results)\n",
    "test_results_home, test_results_away = generate_features(test_results)\n",
    "\n"
   ]
  },
  {
   "cell_type": "markdown",
   "metadata": {},
   "source": [
    "## Input dataset creation and model training"
   ]
  },
  {
   "cell_type": "code",
   "execution_count": 140,
   "metadata": {},
   "outputs": [],
   "source": [
    "class DataPreprocessing:\n",
    "    def generate_inputs_model(self, df : pd.DataFrame, home_boolean : bool):\n",
    "        \"\"\"\n",
    "        Generate the model input dataset as well as the ground truth - here the number of goals.  \n",
    "        \"\"\"\n",
    "        if home_boolean:\n",
    "            X = df[[x for x in df.columns if x.startswith(\"in_\")]]\n",
    "            # X = df[[\"InterceptTerm\", \"HomeSeasonShotsAvg\", \"HomeSeasonShotsConcededAvg\", \"HomeAttackStrength\", \"HomeDefenceStrength\"]]\n",
    "            y = df[[\"HomeScore\"]]\n",
    "        else:\n",
    "            X = df[[x for x in df.columns if x.startswith(\"in_\")]]\n",
    "            # X = df[[\"InterceptTerm\", \"AwaySeasonShotsAvg\", \"AwaySeasonShotsConcededAvg\", \"AwayAttackStrength\", \"AwayDefenceStrength\"]]\n",
    "            y = df[[\"AwayScore\"]]\n",
    "        return X, y"
   ]
  },
  {
   "cell_type": "code",
   "execution_count": 141,
   "metadata": {},
   "outputs": [],
   "source": [
    "class TrainModel(DataPreprocessing):\n",
    "    def __init__(self):\n",
    "        pass\n",
    "    \n",
    "    def model_training(self, X : pd.DataFrame, y : pd.DataFrame):\n",
    "        \"\"\"\n",
    "        Fit a Poisson regression model to the train data. \n",
    "        \"\"\"\n",
    "        return sm.GLM(y, X, family=sm.families.Poisson()).fit()"
   ]
  },
  {
   "cell_type": "code",
   "execution_count": 142,
   "metadata": {},
   "outputs": [],
   "source": [
    "train_model = TrainModel()\n",
    "## Generate the model inputs and ground truths for home & away team\n",
    "X_home, y_home = train_model.generate_inputs_model(train_results_home, True)\n",
    "X_away, y_away = train_model.generate_inputs_model(train_results_away, False)\n",
    "\n",
    "## - Build a Poisson regression model to generate predicitons for team playing at home\n",
    "## - Build another model for team playing away \n",
    "\n",
    "model_home = train_model.model_training(X_home, y_home)\n",
    "model_away = train_model.model_training(X_away, y_away)"
   ]
  },
  {
   "cell_type": "markdown",
   "metadata": {},
   "source": [
    "## Model testing"
   ]
  },
  {
   "cell_type": "code",
   "execution_count": 145,
   "metadata": {},
   "outputs": [],
   "source": [
    "class TestModel:\n",
    "    def __init__(self):\n",
    "        pass\n",
    "\n",
    "    def predict_expected_value_goal(self, model, X : pd.Series) -> np.array:\n",
    "        \"\"\"\n",
    "        Predict the expected value of the poisson distribution for a fixture and a team. \n",
    "        \"\"\"\n",
    "        return model.predict(X.values.tolist())\n",
    "    \n",
    "    def random_draw_goal_distrib(self, predicted_lambda : np.array, n : int = 10000) -> np.array:\n",
    "        \"\"\"\n",
    "        Draw samples from a Poisson distribution given its expected value. \n",
    "        \"\"\"\n",
    "        return np.random.poisson(lam=predicted_lambda, size=(n, len(predicted_lambda))).flatten()\n",
    "    \n",
    "    def count_goals(self, simulated_goals : np.array, home_boolean : bool) -> pd.Series:\n",
    "        \"\"\"\n",
    "        Calculate the probability for a set of goals to be scored for a certain fixture. \n",
    "        \"\"\"\n",
    "        if home_boolean:\n",
    "            return simulated_goals.value_counts().sort_index().rename(\"HomeGoalsProbability\")/len(simulated_goals)\n",
    "        else:\n",
    "            return simulated_goals.value_counts().sort_index().rename(\"AwayGoalsProbability\")/len(simulated_goals)\n",
    "        \n",
    "    def generate_goals_proba_table(self,home_goals_proba : pd.Series, away_goals_proba : pd.Series) -> pd.DataFrame:\n",
    "        \"\"\"\n",
    "        Concatenate the goal probabilities for home and away team. \n",
    "        \"\"\"\n",
    "        return pd.concat([home_goals_proba, away_goals_proba], axis = 1).sort_index().fillna(0)\n",
    "    \n",
    "    def calculate_scores_proba(self, df : pd.DataFrame) -> pd.DataFrame:\n",
    "        \"\"\"\n",
    "        Multiply the probability of Home Team to score X goals with the probability of Away Team to score Y goals.\n",
    "        Return a matrix containing the probability of every possible outcome (e.g.: 0-1, 2-2, etc.) \n",
    "        \"\"\"\n",
    "        scores_proba_matrix = np.outer(df[\"HomeGoalsProbability\"].values, df[\"AwayGoalsProbability\"].values)\n",
    "        return pd.DataFrame(scores_proba_matrix, index = df.index, columns = df.index)\n",
    "    \n",
    "    def calculate_probability_home_win(self, df : pd.DataFrame) -> list[float, float, float]:\n",
    "        \"\"\"\n",
    "        Calculate the probability for the home/away team to win, draw or lose.\n",
    "        Given the matrix containing the every outcome probability, it sums the all the probabilities for:\n",
    "        - Home Team to win\n",
    "        - Away Team to win\n",
    "        - Draw\n",
    "        \"\"\"\n",
    "        probability_home_win = 0\n",
    "        probability_away_win = 0\n",
    "        probability_draw = 0\n",
    "        for i in range(len(df)):\n",
    "            for j in range(len(df)):\n",
    "                if i==j:\n",
    "                    probability_draw += df.iloc[i, j]\n",
    "                elif i<j:\n",
    "                    probability_away_win += df.iloc[i, j]\n",
    "                else:\n",
    "                    probability_home_win += df.iloc[i, j]\n",
    "        return probability_home_win, probability_draw, probability_away_win\n",
    "    \n",
    "    def game_outcome(self, probability_win_home : float, probability_draw : float, probability_win_away : float) -> int:\n",
    "        \"\"\"\n",
    "        Find the result with the highest probability and return it as the game outcome.  \n",
    "        \"\"\"\n",
    "        return np.argmax([probability_win_home, probability_draw, probability_win_away])"
   ]
  },
  {
   "cell_type": "code",
   "execution_count": 121,
   "metadata": {},
   "outputs": [],
   "source": [
    "data_preprocessing = DataPreprocessing()\n",
    "X_test_home, _ = data_preprocessing.generate_inputs_model(test_results_home, home_boolean=True)\n",
    "X_test_away, _ = data_preprocessing.generate_inputs_model(test_results_away, home_boolean=False)"
   ]
  },
  {
   "cell_type": "code",
   "execution_count": 123,
   "metadata": {},
   "outputs": [],
   "source": [
    "test_model = TestModel()\n",
    "\n",
    "probability_win_home_test = []\n",
    "probability_draw_test = []\n",
    "probability_win_away_test = []\n",
    "for i in range(len(X_test_home)):\n",
    "    X_test_home_i = X_test_home.iloc[i]\n",
    "    X_test_away_i = X_test_away.iloc[i]\n",
    "\n",
    "    predicted_lambda_home = test_model.predict_expected_value_goal(model_home, X_test_home_i)\n",
    "    predicted_lambda_away = test_model.predict_expected_value_goal(model_away, X_test_away_i)\n",
    "    simulated_goals_home = test_model.random_draw_goal_distrib(predicted_lambda_away)\n",
    "    simulated_goals_away = test_model.random_draw_goal_distrib(predicted_lambda_away)\n",
    "    home_goals_proba = test_model.count_goals(pd.Series(simulated_goals_home), home_boolean = True)\n",
    "    away_goals_proba = test_model.count_goals(pd.Series(simulated_goals_away), home_boolean = False)\n",
    "    goals_proba_matrix = test_model.generate_goals_proba_table(home_goals_proba, away_goals_proba)\n",
    "    scores_proba_df = test_model.calculate_scores_proba(goals_proba_matrix)\n",
    "    probability_win_home, probability_draw, probability_win_away  = test_model.calculate_probability_home_win(scores_proba_df)\n",
    "\n",
    "    probability_win_home_test.append(probability_win_home)\n",
    "    probability_draw_test.append(probability_draw)\n",
    "    probability_win_away_test.append(probability_win_away)\n"
   ]
  },
  {
   "cell_type": "code",
   "execution_count": 128,
   "metadata": {},
   "outputs": [
    {
     "data": {
      "text/html": [
       "<div>\n",
       "<style scoped>\n",
       "    .dataframe tbody tr th:only-of-type {\n",
       "        vertical-align: middle;\n",
       "    }\n",
       "\n",
       "    .dataframe tbody tr th {\n",
       "        vertical-align: top;\n",
       "    }\n",
       "\n",
       "    .dataframe thead th {\n",
       "        text-align: right;\n",
       "    }\n",
       "</style>\n",
       "<table border=\"1\" class=\"dataframe\">\n",
       "  <thead>\n",
       "    <tr style=\"text-align: right;\">\n",
       "      <th></th>\n",
       "      <th>HomeTeamWinProbability</th>\n",
       "      <th>TeamsDrawProbability</th>\n",
       "      <th>AwayTeamWinProbability</th>\n",
       "    </tr>\n",
       "  </thead>\n",
       "  <tbody>\n",
       "    <tr>\n",
       "      <th>0</th>\n",
       "      <td>0.332099</td>\n",
       "      <td>0.336788</td>\n",
       "      <td>0.331113</td>\n",
       "    </tr>\n",
       "    <tr>\n",
       "      <th>1</th>\n",
       "      <td>0.407968</td>\n",
       "      <td>0.187864</td>\n",
       "      <td>0.404168</td>\n",
       "    </tr>\n",
       "    <tr>\n",
       "      <th>2</th>\n",
       "      <td>0.395258</td>\n",
       "      <td>0.201078</td>\n",
       "      <td>0.403663</td>\n",
       "    </tr>\n",
       "    <tr>\n",
       "      <th>3</th>\n",
       "      <td>0.328936</td>\n",
       "      <td>0.339124</td>\n",
       "      <td>0.331940</td>\n",
       "    </tr>\n",
       "    <tr>\n",
       "      <th>4</th>\n",
       "      <td>0.384020</td>\n",
       "      <td>0.222066</td>\n",
       "      <td>0.393915</td>\n",
       "    </tr>\n",
       "    <tr>\n",
       "      <th>...</th>\n",
       "      <td>...</td>\n",
       "      <td>...</td>\n",
       "      <td>...</td>\n",
       "    </tr>\n",
       "    <tr>\n",
       "      <th>147</th>\n",
       "      <td>0.413875</td>\n",
       "      <td>0.171268</td>\n",
       "      <td>0.414857</td>\n",
       "    </tr>\n",
       "    <tr>\n",
       "      <th>148</th>\n",
       "      <td>0.282565</td>\n",
       "      <td>0.431016</td>\n",
       "      <td>0.286418</td>\n",
       "    </tr>\n",
       "    <tr>\n",
       "      <th>149</th>\n",
       "      <td>0.345162</td>\n",
       "      <td>0.303071</td>\n",
       "      <td>0.351767</td>\n",
       "    </tr>\n",
       "    <tr>\n",
       "      <th>150</th>\n",
       "      <td>0.426798</td>\n",
       "      <td>0.145311</td>\n",
       "      <td>0.427891</td>\n",
       "    </tr>\n",
       "    <tr>\n",
       "      <th>151</th>\n",
       "      <td>0.289276</td>\n",
       "      <td>0.427018</td>\n",
       "      <td>0.283706</td>\n",
       "    </tr>\n",
       "  </tbody>\n",
       "</table>\n",
       "<p>152 rows × 3 columns</p>\n",
       "</div>"
      ],
      "text/plain": [
       "     HomeTeamWinProbability  TeamsDrawProbability  AwayTeamWinProbability\n",
       "0                  0.332099              0.336788                0.331113\n",
       "1                  0.407968              0.187864                0.404168\n",
       "2                  0.395258              0.201078                0.403663\n",
       "3                  0.328936              0.339124                0.331940\n",
       "4                  0.384020              0.222066                0.393915\n",
       "..                      ...                   ...                     ...\n",
       "147                0.413875              0.171268                0.414857\n",
       "148                0.282565              0.431016                0.286418\n",
       "149                0.345162              0.303071                0.351767\n",
       "150                0.426798              0.145311                0.427891\n",
       "151                0.289276              0.427018                0.283706\n",
       "\n",
       "[152 rows x 3 columns]"
      ]
     },
     "execution_count": 128,
     "metadata": {},
     "output_type": "execute_result"
    }
   ],
   "source": [
    "pd.DataFrame({\n",
    "    \"HomeTeamWinProbability\" : probability_win_home_test,\n",
    "    \"TeamsDrawProbability\" : probability_draw_test,\n",
    "    \"AwayTeamWinProbability\" : probability_win_away_test\n",
    "})"
   ]
  }
 ],
 "metadata": {
  "kernelspec": {
   "display_name": "env",
   "language": "python",
   "name": "python3"
  },
  "language_info": {
   "codemirror_mode": {
    "name": "ipython",
    "version": 3
   },
   "file_extension": ".py",
   "mimetype": "text/x-python",
   "name": "python",
   "nbconvert_exporter": "python",
   "pygments_lexer": "ipython3",
   "version": "3.10.12"
  }
 },
 "nbformat": 4,
 "nbformat_minor": 2
}
